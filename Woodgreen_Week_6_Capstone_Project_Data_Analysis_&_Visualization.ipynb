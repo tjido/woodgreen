{
  "nbformat": 4,
  "nbformat_minor": 0,
  "metadata": {
    "celltoolbar": "Slideshow",
    "kernelspec": {
      "display_name": "Python 3.6",
      "language": "python",
      "name": "python3"
    },
    "language_info": {
      "codemirror_mode": {
        "name": "ipython",
        "version": 3
      },
      "file_extension": ".py",
      "mimetype": "text/x-python",
      "name": "python",
      "nbconvert_exporter": "python",
      "pygments_lexer": "ipython3",
      "version": "3.6.9"
    },
    "colab": {
      "name": "Woodgreen Week 6 Capstone Project: Data Analysis & Visualization",
      "provenance": [],
      "collapsed_sections": [],
      "include_colab_link": true
    }
  },
  "cells": [
    {
      "cell_type": "markdown",
      "metadata": {
        "id": "view-in-github",
        "colab_type": "text"
      },
      "source": [
        "<a href=\"https://colab.research.google.com/github/tjido/woodgreen/blob/master/Woodgreen_Week_6_Capstone_Project_Data_Analysis_%26_Visualization.ipynb\" target=\"_parent\"><img src=\"https://colab.research.google.com/assets/colab-badge.svg\" alt=\"Open In Colab\"/></a>"
      ]
    },
    {
      "cell_type": "markdown",
      "metadata": {
        "id": "6q335toNRrPF"
      },
      "source": [
        "<h1>Fireside Analytics Tutorial - Woodgreen Summer Camp_Week 6</h> <h2>Capstone Project</h2>\n",
        "\n",
        "\n",
        "<h4>Data science is the process of ethically acquiring, engineering, analyzing, visualizing and ultimately, creating value with data.\n",
        "\n",
        "<p>In this tutorial, participants will gain experience analyzing a data set in a Python cloud environment using Jupiter notebook in Google Colab.</p> </h4>\n",
        "<p>For more information about this tutorial or other tutorials by Fireside Analytics, contact: info@firesideanalytics.com</p>\n",
        "\n",
        "<h3><strong>Capstone Project Instructions</h3>\n",
        "<div class=\"alert alert-block alert-info\" style=\"margin-top: 20px\">\n",
        "    <ol>\n",
        "        <li>Run this Python code and interpret the results</li>\n",
        "        <Li>What do you learn from the data?</li>\n",
        "        <li>What courses should Fireside Analytics offer next summer?</li>\n",
        "    </ol>\n",
        "</div>\n",
        "<br>\n",
        "<hr>"
      ]
    },
    {
      "cell_type": "markdown",
      "metadata": {
        "id": "FlwuUW6L6fV3"
      },
      "source": [
        "**Recap: This page you are reading is not regular website, it is an interactive computer programming environment called a Colab notebook that lets you write and execute code in Python.**"
      ]
    },
    {
      "cell_type": "markdown",
      "metadata": {
        "id": "EC4QnPjS41xc"
      },
      "source": [
        "# 1. How does a computer work?"
      ]
    },
    {
      "cell_type": "markdown",
      "metadata": {
        "id": "rgDnpC-zc0kD"
      },
      "source": [
        "## A computer is a machine composed of hardware and software components. A computer receives data through an input device based on the instructions it is given and after it processes the data, it sends it back through an output device. How does this come together to make the computer work?\n",
        "\n",
        "## Once the data has been received by the computer through any of the Input devices, the central processing unit (CPU) along with the help of other components, takes over and processes the data into meaningul information and it will be sent back through an output device which can be a monitor, speaker, printer, ports, etc.\n",
        "\n",
        "## To better imagine how a computer works, knowing what’s inside will make it easier. Here are the main components of a computer:\n",
        "\n",
        "INPUT DEVICES\n",
        "1.   Keyboard\n",
        "2.   Mouse\n",
        "3.   Touch screen\n",
        "4.   Scanner\n",
        "\n",
        "PROCESSES\n",
        "1.  <b> CPU - Central Processing Unit </b>- The most important component in a computer It handles most operations that make it function, by processing instructions and giving signals out to other components.\n",
        "\n",
        "2.   <b> RAM – Random Access Memory </b> is a computer component where data used by the operating system and software applications store data so that the CPU can process them quickly. Everything stored on RAM is lost if the computer is shut off. \n",
        "\n",
        "3.   <b> HDD – Hard Disk Drive </b> it is the component where photos, apps, documents are kept. Although they are still being used, we have much faster types of storage devices such as <b>solid state drives (SSD)</b> that are also more reliable.\n",
        "\n",
        "4.   <b> Motherboard </b>– There is no acronym for this component but without it, there can’t be a computer. The Motherboard acts as the home for all other components, allows them to communicate with each other and gives them power in order to function. \n",
        "\n",
        "OUTPUT DEVICES\n",
        "1.   Monitor/Screen \n",
        "2.   Printer\n",
        "3.   Speaker\n"
      ]
    },
    {
      "cell_type": "markdown",
      "metadata": {
        "id": "fX1ZV9H9RrPH"
      },
      "source": [
        "# 2. What is \"data\"?"
      ]
    },
    {
      "cell_type": "markdown",
      "metadata": {
        "id": "G0Mqvml-i8br"
      },
      "source": [
        "## Data is information processed or stored by a computer. This information may be in the form of text documents, images, audio clips, software programs, or other types of data. Computer data may be processed by the computer's CPU and is stored in files and folders on the computer's hard disk.\n",
        "---\n",
        "Computers use binary - the digits 0 and 1 - to store data. A binary digit, or bit, is the smallest unit of data in computing. It is represented by a 0 or a 1. Binary numbers are made up of binary digits (bits), eg the binary number 1001.\n",
        "\n",
        "Computers convert text and other data into binary by using an assigned ASCII value. Once the ASCII value is known that value can be converted into binary.\n",
        "\n",
        "Combinations of Ones and Zeros in a computer, represent whole words and numbers, symbols and even pictures in the real world\n",
        "\n",
        "\n",
        "Information stored in ones and zeros, in bits and bytes, is data!\n",
        "\n",
        "*   The letter a =  0110 0001\n",
        "*   The letter b =  0110 0010\n",
        "*   The letter A =  0100 0001\n",
        "*   The letter B =  0100 0010\n",
        "*   The symbol @ =  1000 0000\n",
        "\n"
      ]
    },
    {
      "cell_type": "markdown",
      "metadata": {
        "id": "BV854zZSq7uD"
      },
      "source": [
        "# 3. Analyzing Survey Data"
      ]
    },
    {
      "cell_type": "markdown",
      "metadata": {
        "id": "wuwMUpcaRrPI"
      },
      "source": [
        "### Recap: Data science is the process of ethically acquiring, engineering, analyzing, visualizing and ultimately, creating value with data.\n",
        "\n",
        "Data is useful if it can tell us something, if we can learn something from the charts and visualizations. In the chart below we learn that more people knew how a computer works than did not. \n",
        "We can also say, 60% of the people who responded to the survey said they knew how a computer works. "
      ]
    },
    {
      "cell_type": "markdown",
      "metadata": {
        "id": "OldE5zdcRrP6"
      },
      "source": [
        "## Recap: Remember this? Survey responses to question 2 ('yes' or 'no')"
      ]
    },
    {
      "cell_type": "code",
      "metadata": {
        "id": "9_4z2CeGRrRm",
        "colab": {
          "base_uri": "https://localhost:8080/",
          "height": 294
        },
        "outputId": "07b92396-050d-4c27-aae1-065f9643c4bf"
      },
      "source": [
        "import numpy as np\n",
        "import pandas as pd\n",
        "from pandas import Series, DataFrame\n",
        "import matplotlib.pyplot as plt\n",
        "\n",
        "data = [3,2]\n",
        "labels = ['yes', 'no']\n",
        "plt.xticks(range(len(data)), labels)\n",
        "plt.xlabel('Responses')\n",
        "plt.ylabel('Number of People')\n",
        "plt.title('Woodgreen Data Science Program: Survey Results for Questions 2: \"Do you know how a computer works?\"')\n",
        "plt.bar(range(len(data)), data) \n",
        "plt.show()\n"
      ],
      "execution_count": 38,
      "outputs": [
        {
          "output_type": "display_data",
          "data": {
            "image/png": "[encoded data removed]",
            "text/plain": [
              "<Figure size 432x288 with 1 Axes>"
            ]
          },
          "metadata": {
            "tags": [],
            "needs_background": "light"
          }
        }
      ]
    },
    {
      "cell_type": "markdown",
      "metadata": {
        "id": "7x52iv9rJmjW"
      },
      "source": [
        "<H3> <b>\n",
        "Lets analyse the responses recorded in a Google Survey Form </b></H3>"
      ]
    },
    {
      "cell_type": "code",
      "metadata": {
        "id": "2DKDc5rfwZrt"
      },
      "source": [
        "# Now lets import a survey response csv file and analyze the data\n",
        "import pandas as pd"
      ],
      "execution_count": 39,
      "outputs": []
    },
    {
      "cell_type": "code",
      "metadata": {
        "colab": {
          "base_uri": "https://localhost:8080/",
          "height": 590
        },
        "id": "mJI5oJYGfZ6f",
        "outputId": "dd6569b2-65f6-426e-d3e4-99cf49eedec6"
      },
      "source": [
        "url = 'https://raw.githubusercontent.com/tjido/woodgreen/master/Survey%20Data%20(Responses)%20-%20Form%20Responses%201.csv'\n",
        "\n",
        "dataset = pd.read_csv(url)\n",
        "dataset\n"
      ],
      "execution_count": 40,
      "outputs": [
        {
          "output_type": "execute_result",
          "data": {
            "text/html": [
              "<div>\n",
              "<style scoped>\n",
              "    .dataframe tbody tr th:only-of-type {\n",
              "        vertical-align: middle;\n",
              "    }\n",
              "\n",
              "    .dataframe tbody tr th {\n",
              "        vertical-align: top;\n",
              "    }\n",
              "\n",
              "    .dataframe thead th {\n",
              "        text-align: right;\n",
              "    }\n",
              "</style>\n",
              "<table border=\"1\" class=\"dataframe\">\n",
              "  <thead>\n",
              "    <tr style=\"text-align: right;\">\n",
              "      <th></th>\n",
              "      <th>Timestamp</th>\n",
              "      <th>(1) What is your first name?</th>\n",
              "      <th>(2) How old are you?</th>\n",
              "      <th>(3) Do you know how a computer works?</th>\n",
              "      <th>(4) Do you know what data science is?</th>\n",
              "      <th>(5) What do you mainly use the internet for?</th>\n",
              "      <th>(6) What technology job do you think is exciting?</th>\n",
              "      <th>(7) How good are your data analysis skills?</th>\n",
              "      <th>(8) Any additional comments regarding data analysis or data science?</th>\n",
              "    </tr>\n",
              "  </thead>\n",
              "  <tbody>\n",
              "    <tr>\n",
              "      <th>0</th>\n",
              "      <td>8/14/2019 12:39</td>\n",
              "      <td>Raj</td>\n",
              "      <td>27</td>\n",
              "      <td>Yes</td>\n",
              "      <td>Yes</td>\n",
              "      <td>Paid Professional work</td>\n",
              "      <td>Game Designer</td>\n",
              "      <td>4.0</td>\n",
              "      <td>Data is the new oil</td>\n",
              "    </tr>\n",
              "    <tr>\n",
              "      <th>1</th>\n",
              "      <td>8/22/2019 12:40</td>\n",
              "      <td>Dave</td>\n",
              "      <td>34</td>\n",
              "      <td>Yes</td>\n",
              "      <td>No</td>\n",
              "      <td>Games</td>\n",
              "      <td>Data Scientist</td>\n",
              "      <td>3.0</td>\n",
              "      <td>Future for everyone</td>\n",
              "    </tr>\n",
              "    <tr>\n",
              "      <th>2</th>\n",
              "      <td>8/26/2019 12:41</td>\n",
              "      <td>Bill</td>\n",
              "      <td>32</td>\n",
              "      <td>No</td>\n",
              "      <td>Yes</td>\n",
              "      <td>Movies or TV</td>\n",
              "      <td>Programmer</td>\n",
              "      <td>3.0</td>\n",
              "      <td>Big data</td>\n",
              "    </tr>\n",
              "    <tr>\n",
              "      <th>3</th>\n",
              "      <td>9/22/2019 12:42</td>\n",
              "      <td>Monica</td>\n",
              "      <td>29</td>\n",
              "      <td>Yes</td>\n",
              "      <td>Yes</td>\n",
              "      <td>School Work</td>\n",
              "      <td>Developer</td>\n",
              "      <td>4.0</td>\n",
              "      <td>I like data</td>\n",
              "    </tr>\n",
              "    <tr>\n",
              "      <th>4</th>\n",
              "      <td>9/26/2019 12:42</td>\n",
              "      <td>David</td>\n",
              "      <td>44</td>\n",
              "      <td>No</td>\n",
              "      <td>No</td>\n",
              "      <td>Socializing</td>\n",
              "      <td>App developer</td>\n",
              "      <td>2.0</td>\n",
              "      <td>I like cyber security</td>\n",
              "    </tr>\n",
              "    <tr>\n",
              "      <th>...</th>\n",
              "      <td>...</td>\n",
              "      <td>...</td>\n",
              "      <td>...</td>\n",
              "      <td>...</td>\n",
              "      <td>...</td>\n",
              "      <td>...</td>\n",
              "      <td>...</td>\n",
              "      <td>...</td>\n",
              "      <td>...</td>\n",
              "    </tr>\n",
              "    <tr>\n",
              "      <th>85</th>\n",
              "      <td>10/8/2019 12:39</td>\n",
              "      <td>Raju</td>\n",
              "      <td>45</td>\n",
              "      <td>Yes</td>\n",
              "      <td>Yes</td>\n",
              "      <td>Socializing</td>\n",
              "      <td>Analyst</td>\n",
              "      <td>4.0</td>\n",
              "      <td>NaN</td>\n",
              "    </tr>\n",
              "    <tr>\n",
              "      <th>86</th>\n",
              "      <td>10/22/2019 12:39</td>\n",
              "      <td>Kamu</td>\n",
              "      <td>23</td>\n",
              "      <td>Yes</td>\n",
              "      <td>No</td>\n",
              "      <td>Games</td>\n",
              "      <td>Data Analyst</td>\n",
              "      <td>NaN</td>\n",
              "      <td>I like Data</td>\n",
              "    </tr>\n",
              "    <tr>\n",
              "      <th>87</th>\n",
              "      <td>11/12/2019 12:39</td>\n",
              "      <td>Kambu</td>\n",
              "      <td>24</td>\n",
              "      <td>No</td>\n",
              "      <td>Yes</td>\n",
              "      <td>Paid Professional work</td>\n",
              "      <td>Data Analyst</td>\n",
              "      <td>5.0</td>\n",
              "      <td>Future for everyone</td>\n",
              "    </tr>\n",
              "    <tr>\n",
              "      <th>88</th>\n",
              "      <td>11/22/2019 12:39</td>\n",
              "      <td>Ravicha</td>\n",
              "      <td>26</td>\n",
              "      <td>No</td>\n",
              "      <td>No</td>\n",
              "      <td>Socializing</td>\n",
              "      <td>Data Scientist</td>\n",
              "      <td>3.0</td>\n",
              "      <td>NaN</td>\n",
              "    </tr>\n",
              "    <tr>\n",
              "      <th>89</th>\n",
              "      <td>12/26/2019 12:39</td>\n",
              "      <td>Gopu</td>\n",
              "      <td>27</td>\n",
              "      <td>Yes</td>\n",
              "      <td>Yes</td>\n",
              "      <td>Paid Professional work</td>\n",
              "      <td>Data Scientist</td>\n",
              "      <td>5.0</td>\n",
              "      <td>Future for everyone</td>\n",
              "    </tr>\n",
              "  </tbody>\n",
              "</table>\n",
              "<p>90 rows × 9 columns</p>\n",
              "</div>"
            ],
            "text/plain": [
              "           Timestamp  ... (8) Any additional comments regarding data analysis or data science?\n",
              "0    8/14/2019 12:39  ...                                Data is the new oil                  \n",
              "1    8/22/2019 12:40  ...                                Future for everyone                  \n",
              "2    8/26/2019 12:41  ...                                           Big data                  \n",
              "3    9/22/2019 12:42  ...                                        I like data                  \n",
              "4    9/26/2019 12:42  ...                              I like cyber security                  \n",
              "..               ...  ...                                                ...                  \n",
              "85   10/8/2019 12:39  ...                                                NaN                  \n",
              "86  10/22/2019 12:39  ...                                        I like Data                  \n",
              "87  11/12/2019 12:39  ...                                Future for everyone                  \n",
              "88  11/22/2019 12:39  ...                                                NaN                  \n",
              "89  12/26/2019 12:39  ...                                Future for everyone                  \n",
              "\n",
              "[90 rows x 9 columns]"
            ]
          },
          "metadata": {
            "tags": []
          },
          "execution_count": 40
        }
      ]
    },
    {
      "cell_type": "code",
      "metadata": {
        "id": "ac_qeE0OxsNE",
        "colab": {
          "base_uri": "https://localhost:8080/",
          "height": 297
        },
        "outputId": "62070720-97a7-45d8-f632-d759f9e1a2f1"
      },
      "source": [
        "# Lets have a look at the top 5 records in our dataset\n",
        "# By default head and tail methods display 5 records in the dataset\n",
        "dataset.head()"
      ],
      "execution_count": 41,
      "outputs": [
        {
          "output_type": "execute_result",
          "data": {
            "text/html": [
              "<div>\n",
              "<style scoped>\n",
              "    .dataframe tbody tr th:only-of-type {\n",
              "        vertical-align: middle;\n",
              "    }\n",
              "\n",
              "    .dataframe tbody tr th {\n",
              "        vertical-align: top;\n",
              "    }\n",
              "\n",
              "    .dataframe thead th {\n",
              "        text-align: right;\n",
              "    }\n",
              "</style>\n",
              "<table border=\"1\" class=\"dataframe\">\n",
              "  <thead>\n",
              "    <tr style=\"text-align: right;\">\n",
              "      <th></th>\n",
              "      <th>Timestamp</th>\n",
              "      <th>(1) What is your first name?</th>\n",
              "      <th>(2) How old are you?</th>\n",
              "      <th>(3) Do you know how a computer works?</th>\n",
              "      <th>(4) Do you know what data science is?</th>\n",
              "      <th>(5) What do you mainly use the internet for?</th>\n",
              "      <th>(6) What technology job do you think is exciting?</th>\n",
              "      <th>(7) How good are your data analysis skills?</th>\n",
              "      <th>(8) Any additional comments regarding data analysis or data science?</th>\n",
              "    </tr>\n",
              "  </thead>\n",
              "  <tbody>\n",
              "    <tr>\n",
              "      <th>0</th>\n",
              "      <td>8/14/2019 12:39</td>\n",
              "      <td>Raj</td>\n",
              "      <td>27</td>\n",
              "      <td>Yes</td>\n",
              "      <td>Yes</td>\n",
              "      <td>Paid Professional work</td>\n",
              "      <td>Game Designer</td>\n",
              "      <td>4.0</td>\n",
              "      <td>Data is the new oil</td>\n",
              "    </tr>\n",
              "    <tr>\n",
              "      <th>1</th>\n",
              "      <td>8/22/2019 12:40</td>\n",
              "      <td>Dave</td>\n",
              "      <td>34</td>\n",
              "      <td>Yes</td>\n",
              "      <td>No</td>\n",
              "      <td>Games</td>\n",
              "      <td>Data Scientist</td>\n",
              "      <td>3.0</td>\n",
              "      <td>Future for everyone</td>\n",
              "    </tr>\n",
              "    <tr>\n",
              "      <th>2</th>\n",
              "      <td>8/26/2019 12:41</td>\n",
              "      <td>Bill</td>\n",
              "      <td>32</td>\n",
              "      <td>No</td>\n",
              "      <td>Yes</td>\n",
              "      <td>Movies or TV</td>\n",
              "      <td>Programmer</td>\n",
              "      <td>3.0</td>\n",
              "      <td>Big data</td>\n",
              "    </tr>\n",
              "    <tr>\n",
              "      <th>3</th>\n",
              "      <td>9/22/2019 12:42</td>\n",
              "      <td>Monica</td>\n",
              "      <td>29</td>\n",
              "      <td>Yes</td>\n",
              "      <td>Yes</td>\n",
              "      <td>School Work</td>\n",
              "      <td>Developer</td>\n",
              "      <td>4.0</td>\n",
              "      <td>I like data</td>\n",
              "    </tr>\n",
              "    <tr>\n",
              "      <th>4</th>\n",
              "      <td>9/26/2019 12:42</td>\n",
              "      <td>David</td>\n",
              "      <td>44</td>\n",
              "      <td>No</td>\n",
              "      <td>No</td>\n",
              "      <td>Socializing</td>\n",
              "      <td>App developer</td>\n",
              "      <td>2.0</td>\n",
              "      <td>I like cyber security</td>\n",
              "    </tr>\n",
              "  </tbody>\n",
              "</table>\n",
              "</div>"
            ],
            "text/plain": [
              "         Timestamp  ... (8) Any additional comments regarding data analysis or data science?\n",
              "0  8/14/2019 12:39  ...                                Data is the new oil                  \n",
              "1  8/22/2019 12:40  ...                                Future for everyone                  \n",
              "2  8/26/2019 12:41  ...                                           Big data                  \n",
              "3  9/22/2019 12:42  ...                                        I like data                  \n",
              "4  9/26/2019 12:42  ...                              I like cyber security                  \n",
              "\n",
              "[5 rows x 9 columns]"
            ]
          },
          "metadata": {
            "tags": []
          },
          "execution_count": 41
        }
      ]
    },
    {
      "cell_type": "code",
      "metadata": {
        "id": "Wucn2j6TxZd0",
        "colab": {
          "base_uri": "https://localhost:8080/",
          "height": 297
        },
        "outputId": "6519ea23-5608-426c-c9db-32ba74776f7f"
      },
      "source": [
        "dataset.tail ()"
      ],
      "execution_count": 42,
      "outputs": [
        {
          "output_type": "execute_result",
          "data": {
            "text/html": [
              "<div>\n",
              "<style scoped>\n",
              "    .dataframe tbody tr th:only-of-type {\n",
              "        vertical-align: middle;\n",
              "    }\n",
              "\n",
              "    .dataframe tbody tr th {\n",
              "        vertical-align: top;\n",
              "    }\n",
              "\n",
              "    .dataframe thead th {\n",
              "        text-align: right;\n",
              "    }\n",
              "</style>\n",
              "<table border=\"1\" class=\"dataframe\">\n",
              "  <thead>\n",
              "    <tr style=\"text-align: right;\">\n",
              "      <th></th>\n",
              "      <th>Timestamp</th>\n",
              "      <th>(1) What is your first name?</th>\n",
              "      <th>(2) How old are you?</th>\n",
              "      <th>(3) Do you know how a computer works?</th>\n",
              "      <th>(4) Do you know what data science is?</th>\n",
              "      <th>(5) What do you mainly use the internet for?</th>\n",
              "      <th>(6) What technology job do you think is exciting?</th>\n",
              "      <th>(7) How good are your data analysis skills?</th>\n",
              "      <th>(8) Any additional comments regarding data analysis or data science?</th>\n",
              "    </tr>\n",
              "  </thead>\n",
              "  <tbody>\n",
              "    <tr>\n",
              "      <th>85</th>\n",
              "      <td>10/8/2019 12:39</td>\n",
              "      <td>Raju</td>\n",
              "      <td>45</td>\n",
              "      <td>Yes</td>\n",
              "      <td>Yes</td>\n",
              "      <td>Socializing</td>\n",
              "      <td>Analyst</td>\n",
              "      <td>4.0</td>\n",
              "      <td>NaN</td>\n",
              "    </tr>\n",
              "    <tr>\n",
              "      <th>86</th>\n",
              "      <td>10/22/2019 12:39</td>\n",
              "      <td>Kamu</td>\n",
              "      <td>23</td>\n",
              "      <td>Yes</td>\n",
              "      <td>No</td>\n",
              "      <td>Games</td>\n",
              "      <td>Data Analyst</td>\n",
              "      <td>NaN</td>\n",
              "      <td>I like Data</td>\n",
              "    </tr>\n",
              "    <tr>\n",
              "      <th>87</th>\n",
              "      <td>11/12/2019 12:39</td>\n",
              "      <td>Kambu</td>\n",
              "      <td>24</td>\n",
              "      <td>No</td>\n",
              "      <td>Yes</td>\n",
              "      <td>Paid Professional work</td>\n",
              "      <td>Data Analyst</td>\n",
              "      <td>5.0</td>\n",
              "      <td>Future for everyone</td>\n",
              "    </tr>\n",
              "    <tr>\n",
              "      <th>88</th>\n",
              "      <td>11/22/2019 12:39</td>\n",
              "      <td>Ravicha</td>\n",
              "      <td>26</td>\n",
              "      <td>No</td>\n",
              "      <td>No</td>\n",
              "      <td>Socializing</td>\n",
              "      <td>Data Scientist</td>\n",
              "      <td>3.0</td>\n",
              "      <td>NaN</td>\n",
              "    </tr>\n",
              "    <tr>\n",
              "      <th>89</th>\n",
              "      <td>12/26/2019 12:39</td>\n",
              "      <td>Gopu</td>\n",
              "      <td>27</td>\n",
              "      <td>Yes</td>\n",
              "      <td>Yes</td>\n",
              "      <td>Paid Professional work</td>\n",
              "      <td>Data Scientist</td>\n",
              "      <td>5.0</td>\n",
              "      <td>Future for everyone</td>\n",
              "    </tr>\n",
              "  </tbody>\n",
              "</table>\n",
              "</div>"
            ],
            "text/plain": [
              "           Timestamp  ... (8) Any additional comments regarding data analysis or data science?\n",
              "85   10/8/2019 12:39  ...                                                NaN                  \n",
              "86  10/22/2019 12:39  ...                                        I like Data                  \n",
              "87  11/12/2019 12:39  ...                                Future for everyone                  \n",
              "88  11/22/2019 12:39  ...                                                NaN                  \n",
              "89  12/26/2019 12:39  ...                                Future for everyone                  \n",
              "\n",
              "[5 rows x 9 columns]"
            ]
          },
          "metadata": {
            "tags": []
          },
          "execution_count": 42
        }
      ]
    },
    {
      "cell_type": "code",
      "metadata": {
        "id": "rJQDkFVadOzI",
        "colab": {
          "base_uri": "https://localhost:8080/",
          "height": 531
        },
        "outputId": "e0c0154c-f004-4558-94aa-3bf999c7923c"
      },
      "source": [
        "# To have a look at the last 3 records in our dataset\n",
        "dataset.tail(10) "
      ],
      "execution_count": 44,
      "outputs": [
        {
          "output_type": "execute_result",
          "data": {
            "text/html": [
              "<div>\n",
              "<style scoped>\n",
              "    .dataframe tbody tr th:only-of-type {\n",
              "        vertical-align: middle;\n",
              "    }\n",
              "\n",
              "    .dataframe tbody tr th {\n",
              "        vertical-align: top;\n",
              "    }\n",
              "\n",
              "    .dataframe thead th {\n",
              "        text-align: right;\n",
              "    }\n",
              "</style>\n",
              "<table border=\"1\" class=\"dataframe\">\n",
              "  <thead>\n",
              "    <tr style=\"text-align: right;\">\n",
              "      <th></th>\n",
              "      <th>Timestamp</th>\n",
              "      <th>(1) What is your first name?</th>\n",
              "      <th>(2) How old are you?</th>\n",
              "      <th>(3) Do you know how a computer works?</th>\n",
              "      <th>(4) Do you know what data science is?</th>\n",
              "      <th>(5) What do you mainly use the internet for?</th>\n",
              "      <th>(6) What technology job do you think is exciting?</th>\n",
              "      <th>(7) How good are your data analysis skills?</th>\n",
              "      <th>(8) Any additional comments regarding data analysis or data science?</th>\n",
              "    </tr>\n",
              "  </thead>\n",
              "  <tbody>\n",
              "    <tr>\n",
              "      <th>80</th>\n",
              "      <td>1/22/2020 12:39</td>\n",
              "      <td>Mani</td>\n",
              "      <td>24</td>\n",
              "      <td>No</td>\n",
              "      <td>No</td>\n",
              "      <td>Socializing</td>\n",
              "      <td>Data Scientist</td>\n",
              "      <td>4.0</td>\n",
              "      <td>I like data</td>\n",
              "    </tr>\n",
              "    <tr>\n",
              "      <th>81</th>\n",
              "      <td>1/28/2020 12:39</td>\n",
              "      <td>Bala</td>\n",
              "      <td>43</td>\n",
              "      <td>Yes</td>\n",
              "      <td>No</td>\n",
              "      <td>Games</td>\n",
              "      <td>Web Designer</td>\n",
              "      <td>NaN</td>\n",
              "      <td>NaN</td>\n",
              "    </tr>\n",
              "    <tr>\n",
              "      <th>82</th>\n",
              "      <td>1/31/2020 12:39</td>\n",
              "      <td>Minisha</td>\n",
              "      <td>34</td>\n",
              "      <td>Yes</td>\n",
              "      <td>Yes</td>\n",
              "      <td>Socializing</td>\n",
              "      <td>UI/UX Designer</td>\n",
              "      <td>1.0</td>\n",
              "      <td>NaN</td>\n",
              "    </tr>\n",
              "    <tr>\n",
              "      <th>83</th>\n",
              "      <td>2/7/2020 12:39</td>\n",
              "      <td>Garry</td>\n",
              "      <td>47</td>\n",
              "      <td>Yes</td>\n",
              "      <td>Yes</td>\n",
              "      <td>Movies or TV</td>\n",
              "      <td>Data Scientist</td>\n",
              "      <td>3.0</td>\n",
              "      <td>Future for everyone</td>\n",
              "    </tr>\n",
              "    <tr>\n",
              "      <th>84</th>\n",
              "      <td>10/1/2019 12:49</td>\n",
              "      <td>Monica</td>\n",
              "      <td>46</td>\n",
              "      <td>Yes</td>\n",
              "      <td>No</td>\n",
              "      <td>Paid Professional work</td>\n",
              "      <td>Data Scientist</td>\n",
              "      <td>4.0</td>\n",
              "      <td>NaN</td>\n",
              "    </tr>\n",
              "    <tr>\n",
              "      <th>85</th>\n",
              "      <td>10/8/2019 12:39</td>\n",
              "      <td>Raju</td>\n",
              "      <td>45</td>\n",
              "      <td>Yes</td>\n",
              "      <td>Yes</td>\n",
              "      <td>Socializing</td>\n",
              "      <td>Analyst</td>\n",
              "      <td>4.0</td>\n",
              "      <td>NaN</td>\n",
              "    </tr>\n",
              "    <tr>\n",
              "      <th>86</th>\n",
              "      <td>10/22/2019 12:39</td>\n",
              "      <td>Kamu</td>\n",
              "      <td>23</td>\n",
              "      <td>Yes</td>\n",
              "      <td>No</td>\n",
              "      <td>Games</td>\n",
              "      <td>Data Analyst</td>\n",
              "      <td>NaN</td>\n",
              "      <td>I like Data</td>\n",
              "    </tr>\n",
              "    <tr>\n",
              "      <th>87</th>\n",
              "      <td>11/12/2019 12:39</td>\n",
              "      <td>Kambu</td>\n",
              "      <td>24</td>\n",
              "      <td>No</td>\n",
              "      <td>Yes</td>\n",
              "      <td>Paid Professional work</td>\n",
              "      <td>Data Analyst</td>\n",
              "      <td>5.0</td>\n",
              "      <td>Future for everyone</td>\n",
              "    </tr>\n",
              "    <tr>\n",
              "      <th>88</th>\n",
              "      <td>11/22/2019 12:39</td>\n",
              "      <td>Ravicha</td>\n",
              "      <td>26</td>\n",
              "      <td>No</td>\n",
              "      <td>No</td>\n",
              "      <td>Socializing</td>\n",
              "      <td>Data Scientist</td>\n",
              "      <td>3.0</td>\n",
              "      <td>NaN</td>\n",
              "    </tr>\n",
              "    <tr>\n",
              "      <th>89</th>\n",
              "      <td>12/26/2019 12:39</td>\n",
              "      <td>Gopu</td>\n",
              "      <td>27</td>\n",
              "      <td>Yes</td>\n",
              "      <td>Yes</td>\n",
              "      <td>Paid Professional work</td>\n",
              "      <td>Data Scientist</td>\n",
              "      <td>5.0</td>\n",
              "      <td>Future for everyone</td>\n",
              "    </tr>\n",
              "  </tbody>\n",
              "</table>\n",
              "</div>"
            ],
            "text/plain": [
              "           Timestamp  ... (8) Any additional comments regarding data analysis or data science?\n",
              "80   1/22/2020 12:39  ...                                        I like data                  \n",
              "81   1/28/2020 12:39  ...                                                NaN                  \n",
              "82   1/31/2020 12:39  ...                                                NaN                  \n",
              "83    2/7/2020 12:39  ...                                Future for everyone                  \n",
              "84   10/1/2019 12:49  ...                                                NaN                  \n",
              "85   10/8/2019 12:39  ...                                                NaN                  \n",
              "86  10/22/2019 12:39  ...                                        I like Data                  \n",
              "87  11/12/2019 12:39  ...                                Future for everyone                  \n",
              "88  11/22/2019 12:39  ...                                                NaN                  \n",
              "89  12/26/2019 12:39  ...                                Future for everyone                  \n",
              "\n",
              "[10 rows x 9 columns]"
            ]
          },
          "metadata": {
            "tags": []
          },
          "execution_count": 44
        }
      ]
    },
    {
      "cell_type": "code",
      "metadata": {
        "id": "SgLldo6udO2X",
        "colab": {
          "base_uri": "https://localhost:8080/"
        },
        "outputId": "5a749954-713e-4dcd-d9d2-6269fc0a6764"
      },
      "source": [
        "# To find out how many responses are recorded in our survey form, we need to find the number of records in the dataset\n",
        "dataset.shape"
      ],
      "execution_count": 45,
      "outputs": [
        {
          "output_type": "execute_result",
          "data": {
            "text/plain": [
              "(90, 9)"
            ]
          },
          "metadata": {
            "tags": []
          },
          "execution_count": 45
        }
      ]
    },
    {
      "cell_type": "code",
      "metadata": {
        "id": "qnAu56RzdO59"
      },
      "source": [
        "# To find out the Names of fields\n",
        "dataset.columns"
      ],
      "execution_count": null,
      "outputs": []
    },
    {
      "cell_type": "markdown",
      "metadata": {
        "id": "7LgDTrShKoO_"
      },
      "source": [
        "<h4>Let's have a look into the statistical information of the dataset </h4>"
      ]
    },
    {
      "cell_type": "code",
      "metadata": {
        "id": "jn_wksy0dO91",
        "colab": {
          "base_uri": "https://localhost:8080/",
          "height": 287
        },
        "outputId": "1909b1b3-a6b8-4535-f07d-593ee323bf36"
      },
      "source": [
        "dataset.describe()"
      ],
      "execution_count": 46,
      "outputs": [
        {
          "output_type": "execute_result",
          "data": {
            "text/html": [
              "<div>\n",
              "<style scoped>\n",
              "    .dataframe tbody tr th:only-of-type {\n",
              "        vertical-align: middle;\n",
              "    }\n",
              "\n",
              "    .dataframe tbody tr th {\n",
              "        vertical-align: top;\n",
              "    }\n",
              "\n",
              "    .dataframe thead th {\n",
              "        text-align: right;\n",
              "    }\n",
              "</style>\n",
              "<table border=\"1\" class=\"dataframe\">\n",
              "  <thead>\n",
              "    <tr style=\"text-align: right;\">\n",
              "      <th></th>\n",
              "      <th>(2) How old are you?</th>\n",
              "      <th>(7) How good are your data analysis skills?</th>\n",
              "    </tr>\n",
              "  </thead>\n",
              "  <tbody>\n",
              "    <tr>\n",
              "      <th>count</th>\n",
              "      <td>90.000000</td>\n",
              "      <td>81.000000</td>\n",
              "    </tr>\n",
              "    <tr>\n",
              "      <th>mean</th>\n",
              "      <td>34.800000</td>\n",
              "      <td>3.358025</td>\n",
              "    </tr>\n",
              "    <tr>\n",
              "      <th>std</th>\n",
              "      <td>9.043217</td>\n",
              "      <td>1.238029</td>\n",
              "    </tr>\n",
              "    <tr>\n",
              "      <th>min</th>\n",
              "      <td>21.000000</td>\n",
              "      <td>1.000000</td>\n",
              "    </tr>\n",
              "    <tr>\n",
              "      <th>25%</th>\n",
              "      <td>26.250000</td>\n",
              "      <td>3.000000</td>\n",
              "    </tr>\n",
              "    <tr>\n",
              "      <th>50%</th>\n",
              "      <td>34.000000</td>\n",
              "      <td>4.000000</td>\n",
              "    </tr>\n",
              "    <tr>\n",
              "      <th>75%</th>\n",
              "      <td>43.000000</td>\n",
              "      <td>4.000000</td>\n",
              "    </tr>\n",
              "    <tr>\n",
              "      <th>max</th>\n",
              "      <td>51.000000</td>\n",
              "      <td>5.000000</td>\n",
              "    </tr>\n",
              "  </tbody>\n",
              "</table>\n",
              "</div>"
            ],
            "text/plain": [
              "       (2) How old are you?  (7) How good are your data analysis skills?\n",
              "count             90.000000                                    81.000000\n",
              "mean              34.800000                                     3.358025\n",
              "std                9.043217                                     1.238029\n",
              "min               21.000000                                     1.000000\n",
              "25%               26.250000                                     3.000000\n",
              "50%               34.000000                                     4.000000\n",
              "75%               43.000000                                     4.000000\n",
              "max               51.000000                                     5.000000"
            ]
          },
          "metadata": {
            "tags": []
          },
          "execution_count": 46
        }
      ]
    },
    {
      "cell_type": "markdown",
      "metadata": {
        "id": "oZlZ7nl3LHvi"
      },
      "source": [
        "The statistical information is available only for the numeric data. \n",
        "count - The total number of responses recorded in that particular field. In the survey form few fields are mandatory, so the count of those fields will be equal to the total number of records. For Ex: \"How old are you?\" is a mandatory field in our survey form, so the count of that field is equal to the total number of responses "
      ]
    },
    {
      "cell_type": "code",
      "metadata": {
        "id": "VSXnX99JdPBk"
      },
      "source": [
        "# Change the column names to make it easier in our analysis\n",
        "dataset=dataset.rename(columns={'(1) What is your first name?':'First_Name', '(2) How old are you?':'Age',\n",
        "       '(3) Do you know how a computer works?':'How_Computer_Works',\n",
        "       '(4) Do you know what data science is?':'What_is_DataScience',\n",
        "       '(5) What do you mainly use the internet for?':'Internet_Purpose',\n",
        "       '(6) What technology job do you think is exciting?':'Interesting_Technology',\n",
        "       '(7) How good are your data analysis skills?':'DataAnalysis_Skills',\n",
        "       '(8) Any additional comments regarding data analysis or data science?':'Comments'}) "
      ],
      "execution_count": 47,
      "outputs": []
    },
    {
      "cell_type": "code",
      "metadata": {
        "id": "yoKilgZCdPFo"
      },
      "source": [
        "dataset.head(2)"
      ],
      "execution_count": null,
      "outputs": []
    },
    {
      "cell_type": "code",
      "metadata": {
        "id": "cdqk-1c_OcZq"
      },
      "source": [
        "# From this we can find out which columns contain missing value\n",
        "dataset.count()"
      ],
      "execution_count": null,
      "outputs": []
    },
    {
      "cell_type": "markdown",
      "metadata": {
        "id": "xE77qJfeN0Wu"
      },
      "source": [
        "Checking the datatypes for each column"
      ]
    },
    {
      "cell_type": "code",
      "metadata": {
        "id": "4bt8G21rdPJP",
        "colab": {
          "base_uri": "https://localhost:8080/"
        },
        "outputId": "688739b0-ed89-40f7-a3aa-7b0dd29454fd"
      },
      "source": [
        "dataset.dtypes"
      ],
      "execution_count": 48,
      "outputs": [
        {
          "output_type": "execute_result",
          "data": {
            "text/plain": [
              "Timestamp                  object\n",
              "First_Name                 object\n",
              "Age                         int64\n",
              "How_Computer_Works         object\n",
              "What_is_DataScience        object\n",
              "Internet_Purpose           object\n",
              "Interesting_Technology     object\n",
              "DataAnalysis_Skills       float64\n",
              "Comments                   object\n",
              "dtype: object"
            ]
          },
          "metadata": {
            "tags": []
          },
          "execution_count": 48
        }
      ]
    },
    {
      "cell_type": "code",
      "metadata": {
        "id": "HHdvh7NkdPMZ"
      },
      "source": [
        "# The First column Timestamp donot contribute any information to the dataset. So lets drop it\n",
        "dataset=dataset.drop(['Timestamp'],axis=1)"
      ],
      "execution_count": 49,
      "outputs": []
    },
    {
      "cell_type": "code",
      "metadata": {
        "id": "gPCAwsIgPQoL"
      },
      "source": [
        "dataset.head(3)"
      ],
      "execution_count": null,
      "outputs": []
    },
    {
      "cell_type": "code",
      "metadata": {
        "id": "OFgUJawbPlKk"
      },
      "source": [
        "# Lets find out the age of people that participated in our survey using bar chart\n",
        "\n",
        "a = dataset['Age'].value_counts()\n",
        "b=a.plot(kind='bar', figsize=(25,8), title=\"Which Age group is interested in participating our Survey\", color='green')\n",
        "b.set_xlabel(\"Age_Group\", fontsize=20)\n",
        "b.set_ylabel(\"Number of people\", fontsize=20)"
      ],
      "execution_count": null,
      "outputs": []
    },
    {
      "cell_type": "markdown",
      "metadata": {
        "id": "DiIfXlgrUmQ1"
      },
      "source": [
        "This graph is tough to analyse, as the value counts for each and every entry in the age field is displayed. It would be much easier to analyse if the ages were grouped into \"20-30\",\"30-40\",\"40-50\"....\n",
        "\n",
        "So lets create bins with this Age Group and then plot the graph!!! "
      ]
    },
    {
      "cell_type": "code",
      "metadata": {
        "id": "iK11gZp4PlNX"
      },
      "source": [
        "dataset['Age_Group'] = pd.cut(dataset['Age'],bins=[20,30,40,50,60,70], labels=[\"20-30\",\"30-40\",\"40-50\",\"50-60\",\"60-70\"])\n",
        "print (dataset)"
      ],
      "execution_count": null,
      "outputs": []
    },
    {
      "cell_type": "markdown",
      "metadata": {
        "id": "gai_mS05sYm6"
      },
      "source": [
        "See now we have a new column \"Age_Group\""
      ]
    },
    {
      "cell_type": "code",
      "metadata": {
        "id": "4U3iozGCPlQQ"
      },
      "source": [
        "a = dataset['Age_Group'].value_counts()\n",
        "b=a.plot(kind='bar', figsize=(20,8), title=\"Which Age group participated in our Survey\", color='Red', fontsize=15)\n",
        "b.set_xlabel(\"Age_Group\", fontsize=15)\n",
        "b.set_ylabel(\"Number of people\", fontsize=15)"
      ],
      "execution_count": null,
      "outputs": []
    },
    {
      "cell_type": "code",
      "metadata": {
        "id": "oowXrZDHPlTL"
      },
      "source": [
        "# How many people know how a computer works\n",
        "A=dataset['How_Computer_Works'].value_counts() # Value_counts provides the frequency of each entry in a field or column\n",
        "A.plot(kind='bar', figsize=(10,4), title=\"How many people know how a computer works?\", color='Cyan', fontsize=15)"
      ],
      "execution_count": null,
      "outputs": []
    },
    {
      "cell_type": "code",
      "metadata": {
        "id": "C-MN6HupPlWE"
      },
      "source": [
        "# Create a Pie-chart to see how many people know about Data Science\n",
        "h = dataset['What_is_DataScience'].value_counts()\n",
        "j=h.plot(kind='pie', figsize=(15,8), title=\"How many people out of the total responses know 'What is Data science?'\")\n",
        "j.set_ylabel(\"\", fontsize=20)"
      ],
      "execution_count": null,
      "outputs": []
    },
    {
      "cell_type": "markdown",
      "metadata": {
        "id": "DYZi2EM7btZa"
      },
      "source": [
        "<h4> Find out which is the interesting technology as per the responses"
      ]
    },
    {
      "cell_type": "code",
      "metadata": {
        "id": "cMDQjTT9Plee"
      },
      "source": [
        "dataset['Interesting_Technology']"
      ],
      "execution_count": null,
      "outputs": []
    },
    {
      "cell_type": "code",
      "metadata": {
        "id": "_9qW8JMVPlY2"
      },
      "source": [
        "# Creating a wordcloud to visualize the interesting technology\n",
        "\n",
        "from wordcloud import WordCloud\n",
        "import matplotlib.pyplot as plt\n",
        "%matplotlib inline\n",
        "import numpy as np\n",
        "\n",
        "wordcloud = WordCloud(background_color=\"white\").generate(' '.join(dataset['Interesting_Technology']))\n",
        "plt.figure( figsize=(10,10) )\n",
        "plt.imshow(wordcloud)\n",
        "plt.axis(\"off\")\n",
        "plt.show()"
      ],
      "execution_count": null,
      "outputs": []
    },
    {
      "cell_type": "code",
      "metadata": {
        "id": "hW_uMV8ckj8r"
      },
      "source": [
        "# The field \"Internet Purpose\" is not a mandatory field in our survey. So it has missing values.\n",
        "# Wordcloud doesn't work with columns containing missing values, so lets remove the missing values and then create word cloud\n",
        "x=dataset['Internet_Purpose'].dropna()"
      ],
      "execution_count": null,
      "outputs": []
    },
    {
      "cell_type": "code",
      "metadata": {
        "id": "TKPLUGngPlb2"
      },
      "source": [
        "# Creating wordcloud to see the purpose of internet\n",
        "# The default background color of word cloud is black\n",
        "\n",
        "wordcloud = WordCloud().generate(' '.join(x))\n",
        "plt.figure( figsize=(10,10) )\n",
        "plt.imshow(wordcloud)\n",
        "plt.axis(\"off\")\n",
        "plt.show()"
      ],
      "execution_count": null,
      "outputs": []
    },
    {
      "cell_type": "markdown",
      "metadata": {
        "id": "t6RyBvlbmMkF"
      },
      "source": [
        "<H1><B> Something interesting to think about. Do you older people know about data science more than younger people?</B></H1>"
      ]
    },
    {
      "cell_type": "code",
      "metadata": {
        "id": "KUX9xRajPlhZ"
      },
      "source": [
        "crosstab1=pd.crosstab(dataset['Age_Group'], dataset['What_is_DataScience'])\n",
        "crosstab1"
      ],
      "execution_count": null,
      "outputs": []
    },
    {
      "cell_type": "code",
      "metadata": {
        "id": "JTkR4YR9PlkI"
      },
      "source": [
        "sorted_ct = pd.DataFrame(crosstab1.sort_values(by = ['Yes','No'],ascending = [False,False] ))\n",
        "sorted_ct.plot(kind=\"bar\", figsize=(15,8), title=\"Data Science influence on Age_Group\", fontsize=15) \n"
      ],
      "execution_count": null,
      "outputs": []
    },
    {
      "cell_type": "markdown",
      "metadata": {
        "id": "q8iTpX7_AaJl"
      },
      "source": [
        "# Analyze the data and make changes to the charts to learn more.\n"
      ]
    },
    {
      "cell_type": "markdown",
      "metadata": {
        "id": "PHZO8QQjGrVz"
      },
      "source": [
        "## Practice\n",
        "* What can you say to Fireside Analytics about the people that took the survey?\n",
        "* Should Fireside Analytics make data science courses for younger people?\n",
        "* Make sure the labels and headings of your charts make sense\n",
        "* Submit your write up with pictures from your charts"
      ]
    },
    {
      "cell_type": "markdown",
      "metadata": {
        "id": "ozJX_TD9D7mU"
      },
      "source": [
        "ie#Conclusion\n",
        "\n",
        "1.   Computer programming is a set of instructions we give a computer. \n",
        "2.   Computers must process the instructions in 'binary', i.e., in ones and zeros.\n",
        "3.   Anything 'digital' is data.\n",
        "\n",
        "\n",
        "\n",
        "\n",
        "\n"
      ]
    },
    {
      "cell_type": "markdown",
      "metadata": {
        "id": "sipRcJ84f_bZ"
      },
      "source": [
        "# Contact Information"
      ]
    },
    {
      "cell_type": "markdown",
      "metadata": {
        "id": "w3tU4uFDbQ3y"
      },
      "source": [
        "Congratulations, you have completed a tutorial in the Python Programming language!\n",
        "\n",
        "\n",
        "\n",
        "Fireside Analytics Inc. | \n",
        "Instructor: Shingai Manjengwa (Twitter: @tjido) |\n",
        "Woodgreen Community Services Summer Camp 2020 |\n",
        "Contact: info@firesideanalytics.com or [www.firesideanalytics.com](www.firesideanalytics.com)\n",
        "\n",
        "Never stop learning!\n",
        "\n"
      ]
    }
  ]
}