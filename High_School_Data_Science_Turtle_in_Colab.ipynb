{
  "nbformat": 4,
  "nbformat_minor": 0,
  "metadata": {
    "colab": {
      "name": "High School Data Science - Turtle in Colab",
      "provenance": [],
      "collapsed_sections": [],
      "toc_visible": true,
      "include_colab_link": true
    },
    "kernelspec": {
      "name": "python3",
      "display_name": "Python 3"
    }
  },
  "cells": [
    {
      "cell_type": "markdown",
      "metadata": {
        "id": "view-in-github",
        "colab_type": "text"
      },
      "source": [
        "<a href=\"https://colab.research.google.com/github/tjido/woodgreen/blob/master/High_School_Data_Science_Turtle_in_Colab.ipynb\" target=\"_parent\"><img src=\"https://colab.research.google.com/assets/colab-badge.svg\" alt=\"Open In Colab\"/></a>"
      ]
    },
    {
      "cell_type": "markdown",
      "metadata": {
        "id": "wJJYEpjwnBjw"
      },
      "source": [
        "#Introduction"
      ]
    },
    {
      "cell_type": "markdown",
      "metadata": {
        "id": "QLfrRwKFrh7U"
      },
      "source": [
        "<h1><B>High School Data Science - Turtle in Colab</B></h1>\n",
        "\n",
        "\n",
        "<p><B>\"Data science is the process of ethically acquiring, engineering, analyzing, visualizing and ultimately, creating value with data.\" </p></B>\n",
        "<p><B>- Shingai Manjengwa</p></B>\n",
        "<P></p>\n",
        "<h4><p>'Coding' or 'Computer Programming' are terms we use to describe the process of giving computers instructions. In this tutorial, participants will practice giving computers instuctions by writing Python code. </p> \n",
        "<p>For more information about this tutorial demo contact Anna Matta and Shingai Manjengwa: industry@vectorinstitute.ai</p></h4>\n",
        "\n",
        "<Strong><h3>Overview</h3>\n",
        "<div class=\"alert alert-block alert-info\" style=\"margin-top: 20px\">\n",
        "    <ol>\n",
        "        <li>Practice giving a computer instructions: 'Drawing with code'</li>\n",
        "        <p>You will be asked to make changes to the code below. Look for patterns and use the code provided to figure out what to do next. </p>\n",
        "          </ol></Strong>\n",
        "\n",
        "<p>Python has a number of predefined groups of instructions called 'packages' so we don't have to write all the instructions from the beginning. ColabTurtle is an exmaple of a package that will let us draw in Python. Once we have ColabTurtle up and running by following the code below, we can start practicing how to give computers instructions! Don't forget to scroll down to see your code output and for more instructions!  </p> \n",
        "</div>\n",
        "<br>\n",
        "<hr>"
      ]
    },
    {
      "cell_type": "markdown",
      "metadata": {
        "id": "4zMmqhgPisbW"
      },
      "source": [
        "# Important Commands"
      ]
    },
    {
      "cell_type": "markdown",
      "metadata": {
        "id": "2nLvaXmBvZtG"
      },
      "source": [
        "Here are a few instructions you can use in this turtle package. You must call the 'turtle' then add the instruction e.g., turtle.forward(100) \n",
        "Remember every time we start a line with a #, this is a note for the programmer and a command the program will ignore.\n",
        "\n",
        "*   forward(units)\n",
        "*   backward(units)\n",
        "*   right(degrees)\n",
        "*   face(degrees)\n",
        "*   left(degrees)\n",
        "*   penup()\n",
        "*   pendown()\n",
        "*   speed(speed)\n",
        "*   setx(x)\n",
        "*   sety(y)\n",
        "*   getx()\n",
        "*   gety()\n",
        "*   goto(x, y)\n",
        "*   showturtle()\n",
        "*   hideturtle()\n",
        "*   bgcolor(color)\n",
        "*   color(color)\n",
        "*   width(width)\n",
        "\n",
        "***Don't forget the brackets ( ) after the command"
      ]
    },
    {
      "cell_type": "code",
      "metadata": {
        "id": "vlQUHAIe0aN0"
      },
      "source": [
        "## First we call the ColabTurtle package into our Google Colab environment using the '!pip3 install' commands\n",
        "## Then we use the 'import' command to bring in all the instructions associated with the 'ColabTurtle' package and call those instructions 't'\n",
        "## We can name the instructions 't' or something else, as long as we remember what we've called it\n",
        "## Then we 'run' the instructions with the 'initializeTurtle()' command\n",
        "!pip3 install ColabTurtle\n",
        "import ColabTurtle.Turtle as turtle\n",
        "from ColabTurtle.Turtle import *\n",
        "turtle.initializeTurtle()"
      ],
      "execution_count": null,
      "outputs": []
    },
    {
      "cell_type": "markdown",
      "metadata": {
        "id": "8OJM0ItxbhxK"
      },
      "source": [
        "**The box above is your drawing page. You will now add commands to Python to draw an image. **"
      ]
    },
    {
      "cell_type": "markdown",
      "metadata": {
        "id": "LAbDyPivjM9w"
      },
      "source": [
        "# Drawing in Python"
      ]
    },
    {
      "cell_type": "code",
      "metadata": {
        "id": "3W5wImEn0iS6"
      },
      "source": [
        "## Let's see how our turtle moves\n",
        "## turtle.forward(distance) or turtle.fd(distance)\n",
        "## The parameter \"distance is a number (integer or float)\n",
        "## Move the turtle forward by a specified distance, in the direction the turtle is headed\n",
        "## If you wish to change direction, you will have to tell the turtle to turn right or left by a defined number of degrees\n",
        "turtle.forward(100)"
      ],
      "execution_count": null,
      "outputs": []
    },
    {
      "cell_type": "markdown",
      "metadata": {
        "id": "IxDiJ8gwjapV"
      },
      "source": [
        "## Write the code to draw a square"
      ]
    },
    {
      "cell_type": "code",
      "metadata": {
        "id": "5nHtN5GgcT4a"
      },
      "source": [
        "## You try! Write the code below to draw a square\n",
        "## Hint: A square has 4 sides and 90 degree angles\n",
        "## Write your code here. Click into this box and start typing:\n",
        "\n",
        "\n",
        "\n",
        "\n",
        "\n"
      ],
      "execution_count": null,
      "outputs": []
    },
    {
      "cell_type": "code",
      "metadata": {
        "id": "7YHvaLxO1O98"
      },
      "source": [
        "## The turtle turns right or left by angle units\n",
        "\n",
        "turtle.right(90)\n",
        "turtle.forward(100)\n",
        "turtle.left(90)\n",
        "turtle.forward(100)\n",
        "turtle.left(90)\n",
        "turtle.forward(100)\n",
        "turtle.right(90)\n",
        "turtle.forward(100)"
      ],
      "execution_count": null,
      "outputs": []
    },
    {
      "cell_type": "code",
      "metadata": {
        "id": "qUiynQya13n_"
      },
      "source": [
        "## Where is my turtle? It's off the screen?\n",
        "## This can happen, the turtle can draw off the page\n",
        "\n",
        "## Lets set the turtle's position\n",
        "turtle.initializeTurtle()\n",
        "turtle.setx(200)\n",
        "turtle.sety(900)"
      ],
      "execution_count": null,
      "outputs": []
    },
    {
      "cell_type": "markdown",
      "metadata": {
        "id": "mEnOR6Qmjv9r"
      },
      "source": [
        "## Write the code to get the turtle back on the page"
      ]
    },
    {
      "cell_type": "code",
      "metadata": {
        "id": "5aN883lWdwTy"
      },
      "source": [
        "## You try! How would you get the turtle back onto the page above?\n",
        "## Insert the code you would need to bring the turtle back up\n",
        "\n",
        "## Write your code here. Click into this box and start typing:\n",
        "\n",
        "\n",
        "\n",
        "\n",
        "\n",
        "\n",
        "\n"
      ],
      "execution_count": null,
      "outputs": []
    },
    {
      "cell_type": "code",
      "metadata": {
        "id": "GaUNxcN8NWJu"
      },
      "source": [
        "## Hint! You can locate the address of the turtle\n",
        "## Show the x and y coordintates of the turtle's position\n",
        "turtle_pos "
      ],
      "execution_count": null,
      "outputs": []
    },
    {
      "cell_type": "code",
      "metadata": {
        "id": "inRGn74uOT3M"
      },
      "source": [
        "turtle_degree"
      ],
      "execution_count": null,
      "outputs": []
    },
    {
      "cell_type": "code",
      "metadata": {
        "id": "i2YxJvx07B-X"
      },
      "source": [
        "turtle.initializeTurtle()\n",
        "turtle.forward(50)\n",
        "turtle.right(90)\n",
        "turtle.forward(50)\n",
        "turtle.right(90)\n",
        "turtle.forward(50)\n",
        "turtle.right(90)\n",
        "turtle.forward(50)"
      ],
      "execution_count": null,
      "outputs": []
    },
    {
      "cell_type": "code",
      "metadata": {
        "id": "AmFcCBnf6rTC"
      },
      "source": [
        "## Now lets draw a star\n",
        "color('white')\n",
        "bgcolor('black')\n",
        "width(3)\n",
        "for i in range(5):\n",
        "    forward(200)\n",
        "    left(144) "
      ],
      "execution_count": null,
      "outputs": []
    },
    {
      "cell_type": "code",
      "metadata": {
        "id": "WpYV8_mQe5-C"
      },
      "source": [
        "## Notice, the code you write will draw on top of any other pictures you have already drawn\n",
        "## To clear the page, you would have to re-call a blank page!\n",
        "## Computers need very specific instructions!\n",
        "## To draw a star in a new screen, you would have to add one live above the star code\n",
        "\n",
        "turtle.initializeTurtle()\n",
        "color('white')\n",
        "bgcolor('black')\n",
        "width(3)\n",
        "for i in range(5):\n",
        "    forward(200)\n",
        "    left(144) \n"
      ],
      "execution_count": null,
      "outputs": []
    },
    {
      "cell_type": "code",
      "metadata": {
        "id": "cHsW20eO9rPQ"
      },
      "source": [
        "## Computers need very specific instructions - how do you change the appearance of the star?\n",
        "## What has changed in the code for the star below?\n",
        "\n",
        "turtle.initializeTurtle()\n",
        "color('purple')\n",
        "bgcolor('green')\n",
        "width(10)      \n",
        "for i in range(5):\n",
        "    forward(200)\n",
        "    left(144) \n"
      ],
      "execution_count": null,
      "outputs": []
    },
    {
      "cell_type": "markdown",
      "metadata": {
        "id": "el7c90LJj4VE"
      },
      "source": [
        "## Write the code to change the background colour to white and the line colour to orange"
      ]
    },
    {
      "cell_type": "code",
      "metadata": {
        "id": "0TlkCAJifZuu"
      },
      "source": [
        "## You try!\n",
        "## Write the code to change the background colour to white and the line colour to orange\n",
        "## Write your code here. Click into this box and start typing:\n",
        "\n",
        "\n",
        "\n",
        "\n",
        "\n",
        "\n",
        "\n"
      ],
      "execution_count": null,
      "outputs": []
    },
    {
      "cell_type": "code",
      "metadata": {
        "id": "Rl6wQ06lAOnB"
      },
      "source": [
        "## Now let's draw many stars in a dark sky\n",
        "## We will need to lift the turtle and place it at the new position\n",
        "## Note the penup and pendown commands?\n",
        "\n",
        "color('blue')\n",
        "bgcolor('black')\n",
        "penup()\n",
        "left(90)\n",
        "forward(200)\n",
        "pendown()\n",
        "width(2)  \n",
        "for i in range(5):\n",
        "  forward(50)\n",
        "  left(144) "
      ],
      "execution_count": null,
      "outputs": []
    },
    {
      "cell_type": "code",
      "metadata": {
        "id": "5PEcNQdhCy4t"
      },
      "source": [
        "## Now let's do it\n",
        "turtle.initializeTurtle(initial_speed=5)\n",
        "\n",
        "for k in range(6):\n",
        "  penup()\n",
        "  left(40)\n",
        "  forward(100)\n",
        "  pendown()\n",
        "  width(2)  \n",
        "  for i in range(5):\n",
        "    forward(50)\n",
        "    left(144) "
      ],
      "execution_count": null,
      "outputs": []
    },
    {
      "cell_type": "code",
      "metadata": {
        "id": "GI0O_DrTECD7"
      },
      "source": [
        "## The code below is a shortcut that draws a regular polygon or shape of 'n' sides \n",
        "## We can write this code to look like a shape with 180 sides, i.e., a half circle\n",
        "## Can we draw a moon in the dark sky?\n",
        "\n",
        "\n",
        "turtle.penup()\n",
        "turtle.left(110)\n",
        "turtle.forward(200)\n",
        "turtle.left(110)\n",
        "turtle.pendown()\n",
        "\n",
        "def polygon(length, n):\n",
        "    for _ in range(n):\n",
        "        turtle.forward(length)\n",
        "        turtle.left(210 / n)\n",
        "\n",
        "polygon(12, 20)\n",
        "\n",
        "turtle.left(-30)\n",
        "def polygon(length, n):\n",
        "    for _ in range(n):\n",
        "        turtle.forward(length)\n",
        "        turtle.right(170 / n)\n",
        "\n",
        "polygon(-10,19)\n",
        "\n",
        "\n"
      ],
      "execution_count": null,
      "outputs": []
    },
    {
      "cell_type": "code",
      "metadata": {
        "id": "11338IdmFHIQ"
      },
      "source": [
        "## When we're done drawing the stars and the moon, we can hide the turtle\n",
        "\n",
        "hideturtle()"
      ],
      "execution_count": null,
      "outputs": []
    },
    {
      "cell_type": "code",
      "metadata": {
        "id": "HvsAS0UoOEoq"
      },
      "source": [
        "## This is the instruction to bring back the turtle and continue drawing\n",
        "showturtle()"
      ],
      "execution_count": null,
      "outputs": []
    },
    {
      "cell_type": "markdown",
      "metadata": {
        "id": "tz1l2AhDkFjk"
      },
      "source": [
        "## Copy and edit the code above with the number of degrees in a circle"
      ]
    },
    {
      "cell_type": "code",
      "metadata": {
        "id": "AzdCsTmdJ5Zl"
      },
      "source": [
        "## How many degrees are in half a circle? How many degrees does a whole cicle have?\n",
        "## Try it with the number of degrees in a circle!\n",
        "## You try!\n",
        "\n",
        "## Write your code here. Click into this box and start typing:\n",
        "\n",
        "\n",
        "\n",
        "\n",
        "\n",
        "\n",
        "\n"
      ],
      "execution_count": null,
      "outputs": []
    },
    {
      "cell_type": "code",
      "metadata": {
        "id": "k3euhxXFz2re"
      },
      "source": [
        "## Let's get really creative!\n",
        "turtle.initializeTurtle()\n",
        "turtle.penup()\n",
        "sety(350)\n",
        "turtle.pendown()\n",
        "color('red')\n",
        "bgcolor('yellow')\n",
        "width(2)\n",
        "for i in range(36):\n",
        "    forward(200)\n",
        "    left(170)"
      ],
      "execution_count": null,
      "outputs": []
    },
    {
      "cell_type": "markdown",
      "metadata": {
        "id": "gRrAJdvgK6qr"
      },
      "source": [
        "#Conclusion\n",
        "\n",
        "1.   Computer programming is a series of instructions to get a computer to execute on very specific commands.\n",
        "2.   We access computer programming environments like Google Colab, here in our browser and these environments have predefined instructions called 'packages' so we don't have to write all code from scratch.\n",
        "3. We can call packages and they will execute on a set of predefined instructions we write as code.\n",
        "\n",
        "Practice making different shapes in ColabTurtle\n",
        "\n"
      ]
    },
    {
      "cell_type": "markdown",
      "metadata": {
        "id": "fXxsI7kBiDWF"
      },
      "source": [
        "\n",
        "# **Congratulations, you have completed a tutorial in the Python Programming language!**\n"
      ]
    },
    {
      "cell_type": "markdown",
      "metadata": {
        "id": "9k-9jimULCxa"
      },
      "source": [
        "Congratulations, you have completed a tutorial in the Python Programming language!\n",
        "\n",
        "\n",
        "\n",
        "Fireside Analytics Inc. | \n",
        "Instructor: Shingai Manjengwa (Twitter: @tjido) |\n",
        "Copyright Fireside Analytics 2020 |\n",
        "Contact: info@firesideanalytics.com or [www.firesideanalytics.com]\n",
        "(www.firesideanalytics.com)\n",
        "\n",
        "Never stop learning!\n",
        "\n"
      ]
    }
  ]
}