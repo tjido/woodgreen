{
 "cells": [
  {
   "cell_type": "code",
   "execution_count": null,
   "metadata": {
    "collapsed": true
   },
   "outputs": [],
   "source": [
    "# Welcome to Python!\n",
    "\n",
    "# Your first bit of code\n",
    "# Follow in the footsteps of millions of people taking their first step by saying\n",
    "print(\"Hello world!\")\n",
    "\n",
    "# print() is a function built into the core of Python\n",
    "# + - are other examples\n",
    "# For more sophisticed operations we'll load libraries which come with additional functions that we can use\n",
    "# Famous ones are numpy, pandas, matplotlib, seaborne, and sckikitlearn\n",
    "\n",
    "# Now for your first program\n",
    "\n",
    "\n",
    "# Edit the line below to add your first name between the \"\" characters.\n",
    "## Here we assign the letters between \"\" to an object called \"my_name\" - it is now stored and you can 'call' it later\n",
    "## Like saving a number in your phone versus just typing it in and calling it\n",
    "\n",
    "my_name = \"Shingai\"\n",
    "\n",
    "greeting = \"Hello, world, I'm \"\n",
    "\n",
    "# This is how a function works - a function is a standalone programme\n",
    "def say_hello(name):\n",
    "    if name == \"\":\n",
    "        print(\"You can't introduce yourself if you don't add your name!\")\n",
    "    else:\n",
    "        print(greeting + name)\n",
    "    \n",
    "# Click the \"play\" button to execute this code.\n",
    "say_hello(my_name)\n",
    "\n",
    "# In programming there are often many ways to do things, for example\n",
    "print(\"Hello world, my name is \" + my_name + \".\")\n"
   ]
  },
  {
   "cell_type": "code",
   "execution_count": null,
   "metadata": {
    "collapsed": true
   },
   "outputs": [],
   "source": [
    "# Data types built into Python\n",
    "\n",
    "# Strings - letter characters \n",
    "food = 'pizza'\n",
    "other_food = \"burger\"\n",
    "just_another_char = 'b'\n",
    "print(food)\n",
    "print(other_food)\n",
    "print(just_another_char)\n",
    "\n",
    "## The computer just remembers a number of characters - pizza does not mean anything at the moment\n",
    "## Other than p,i,z,z,a\n",
    "\n",
    "# How do we know what type it is? Well we ask\n",
    "print(type(food))\n",
    "\n",
    "# If python sees characters (or a mix of char and numbers) then it generally saves it as type string\n",
    "print(type('one is 1'))\n",
    "\n",
    "# We can access the characters of a string by index with bracket\n",
    "# notation, starting at index zero.\n",
    "first_letter = food[0]\n",
    "second_letter = food[1]\n",
    "print(\"The first letter is \" + first_letter)\n",
    "print(\"The second letter is \" + second_letter)\n",
    "\n",
    "\n",
    "# We can use the built-in `len()` function to get a string's\n",
    "# \"length\", or the number of characters it contains.\n",
    "print(len(food))\n",
    "\n",
    "# We can concatenate two strings together into one string with\n",
    "# the `+` operator.\n",
    "superfood = food + \" and eggs\"\n",
    "print(\"I like \" + superfood)\n",
    "\n",
    "# We can fill in strings using the `.format()` string method.\n",
    "name = \"Martin\"\n",
    "cost = 3\n",
    "demand = \"Bring me {} shrubberies, {}!\"\n",
    "print(demand.format(cost, name))\n",
    "\n",
    "\n"
   ]
  },
  {
   "cell_type": "code",
   "execution_count": 9,
   "metadata": {},
   "outputs": [
    {
     "name": "stdout",
     "output_type": "stream",
     "text": [
      "5\n",
      "<class 'int'>\n",
      "5.1\n",
      "<class 'float'>\n",
      "10\n",
      "15\n",
      "10\n",
      "2.5\n",
      "0.6000000000000001\n"
     ]
    }
   ],
   "source": [
    "# Integers and floats\n",
    "\n",
    "# Integers are whole numbers\n",
    "x = 5\n",
    "print(x)\n",
    "# Just to make sure, let's check the type\n",
    "print(type(x))\n",
    "\n",
    "# Floats have decimals\n",
    "x = 5.1\n",
    "print(x)\n",
    "print(type(x))\n",
    "\n",
    "# With ints and floats we can use built in functions\n",
    "x = 5\n",
    "y = x + 5\n",
    "print(y)\n",
    "y = 20 - x\n",
    "print(y)\n",
    "y = x*2\n",
    "print(y)\n",
    "print(type(y))\n",
    "y = x / 2\n",
    "print(y)\n",
    "print(type(y))\n",
    "# Note y switched from int to float since to deal with the remainder of 5 / 2\n",
    "\n",
    "#Why the distinction?\n",
    "## Sometimes you only want to work with whole numbers (e.g. counting people in a room)\n",
    "## Don't use up extra space if you dont need to (saving 5.000000000 seems a waste if it can be saved as 5)\n",
    "## And it avoids some weird things that can happen in float\n",
    "print(0.2+0.4)\n",
    "# Why did that happen?!? Long story - and complicated story\n",
    "## That happens because it's impossible to represent .2, .4, and .6 precisely in binary\n",
    "## so there's a limit to how precise we can get\n",
    "## And that floating point can be the difference between someone landing on the moon or missing it!"
   ]
  },
  {
   "cell_type": "code",
   "execution_count": 11,
   "metadata": {},
   "outputs": [
    {
     "name": "stdout",
     "output_type": "stream",
     "text": [
      "False\n",
      "True\n",
      "What is your name \n",
      "Martin\n",
      "I want to talk to Kawhi\n"
     ]
    }
   ],
   "source": [
    "# Booleans\n",
    "## This can only take on two meanings - True or False (note that the caps are required)\n",
    "## This is useful for many things - including that it is binary 1 is True, 0 is False\n",
    "\n",
    "x = 5\n",
    "y= 8\n",
    "print(x == y)\n",
    "y = y-3\n",
    "print(x == y)\n",
    "\n",
    "# We can also evaluate the truth-yness for strings\n",
    "x = input(\"What is your name \\n\")\n",
    "\n",
    "if x == \"Kawhi Leonard\":\n",
    "    # This says if x and \"Kawhi Leonard\" is the same then move on to the next step\n",
    "    # This evaluates the entire string, basically x[0] == \"K\", x[1] == \"a\" etc.\n",
    "    # If false go to else (or sometimes do nothing)\n",
    "    print(\"It's not to late to come back \", x, \"!\")\n",
    "else:\n",
    "    print(\"I want to talk to Kawhi\")"
   ]
  },
  {
   "cell_type": "code",
   "execution_count": null,
   "metadata": {
    "collapsed": true
   },
   "outputs": [],
   "source": []
  }
 ],
 "metadata": {
  "kernelspec": {
   "display_name": "Python 3",
   "language": "python",
   "name": "python3"
  },
  "language_info": {
   "codemirror_mode": {
    "name": "ipython",
    "version": 3
   },
   "file_extension": ".py",
   "mimetype": "text/x-python",
   "name": "python",
   "nbconvert_exporter": "python",
   "pygments_lexer": "ipython3",
   "version": "3.6.1"
  }
 },
 "nbformat": 4,
 "nbformat_minor": 2
}
