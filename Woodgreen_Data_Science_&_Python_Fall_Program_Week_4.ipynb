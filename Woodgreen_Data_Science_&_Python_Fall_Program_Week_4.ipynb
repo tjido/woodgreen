{
  "nbformat": 4,
  "nbformat_minor": 0,
  "metadata": {
    "colab": {
      "name": "Woodgreen: Data Science & Python - Fall Program - Week 4",
      "provenance": [],
      "collapsed_sections": [],
      "authorship_tag": "ABX9TyNt2hYp+4Ifh1xN9RVz4NqI",
      "include_colab_link": true
    },
    "kernelspec": {
      "name": "python3",
      "display_name": "Python 3"
    }
  },
  "cells": [
    {
      "cell_type": "markdown",
      "metadata": {
        "id": "view-in-github",
        "colab_type": "text"
      },
      "source": [
        "<a href=\"https://colab.research.google.com/github/tjido/woodgreen/blob/master/Woodgreen_Data_Science_%26_Python_Fall_Program_Week_4.ipynb\" target=\"_parent\"><img src=\"https://colab.research.google.com/assets/colab-badge.svg\" alt=\"Open In Colab\"/></a>"
      ]
    },
    {
      "cell_type": "markdown",
      "metadata": {
        "id": "A7vEpjwwIN07"
      },
      "source": [
        "<h1>Welcome to the Woodgreen Data Science & Python Program by Fireside Analytics</h1>\n",
        "\n",
        "\n",
        "<h4><B>\"Data science is the process of ethically acquiring, engineering, analyzing, visualizaing and ultimately, creating value with data.\" - Shingai Manjengwa</h4></B>\n",
        "\n",
        "<h4><p>In this tutorial, participants will practice giving computers instuctions by writing Python code. Don't forget to scroll down to see your code output and for more instructions!</p> \n",
        "<p>For more information about this tutorial or other tutorials by Fireside Analytics, contact: info@firesideanalytics.com</p></h4>\n",
        "\n",
        "<h3><strong>Table of contents</h3>\n",
        "<div class=\"alert alert-block alert-info\" style=\"margin-top: 20px\">\n",
        "    <ol>\n",
        "        <li>Practice giving a computer instructions: 'Drawing with a Turtle'</li>\n",
        "          </ol></strong>\n",
        "\n",
        "<p>Python has a number of predefined groups of instructions called 'packages' so we don't have to write all the instructions from the beginning. ColabTurtle is an exmaple of a package that will let us draw in Python. Once we have ColabTurtle up and running by following the code below, we can start practicing how to give computers instructions! </p> \n",
        "</div>\n",
        "<br>\n",
        "<hr>"
      ]
    },
    {
      "cell_type": "markdown",
      "metadata": {
        "id": "xGcpn-PLH0BD"
      },
      "source": [
        "Here are the commands you can use: \n",
        "*   forward(units)\n",
        "*   backward(units)\n",
        "*   right(degrees)\n",
        "*   face(degrees)\n",
        "*   left(degrees)\n",
        "*   penup()\n",
        "*   pendown()\n",
        "*   speed(speed)\n",
        "*   setx(x)\n",
        "*   sety(y)\n",
        "*   getx()\n",
        "*   gety()\n",
        "*   goto(x, y)\n",
        "*   showturtle()\n",
        "*   hideturtle()\n",
        "*   bgcolor(color)\n",
        "*   color(color)\n",
        "*   width(width)\n",
        "\n",
        "***Don't forget the brackets ( ) after the command"
      ]
    },
    {
      "cell_type": "code",
      "metadata": {
        "id": "CPJZ0hEbGex0",
        "colab": {
          "base_uri": "https://localhost:8080/",
          "height": 537
        },
        "outputId": "faf148cb-0b44-4bac-e886-845eec4a099e"
      },
      "source": [
        "## First we call the ColabTurtle package into our Google Colab environment using the '!pip3 install' commands\n",
        "## Then we use the 'import' command to bring in all the instructions associated with the 'ColabTurtle' package and call those instructions 't'\n",
        "## We can name the instructions 't' or something else, as long as we remember what we've called it\n",
        "## Then we 'run' the instructions with the 'initializeTurtle()' command\n",
        "!pip3 install ColabTurtle\n",
        "import ColabTurtle.Turtle as t\n",
        "t.initializeTurtle()\n"
      ],
      "execution_count": 8,
      "outputs": [
        {
          "output_type": "stream",
          "text": [
            "Requirement already satisfied: ColabTurtle in /usr/local/lib/python3.6/dist-packages (2.0.0)\n"
          ],
          "name": "stdout"
        },
        {
          "output_type": "display_data",
          "data": {
            "text/html": [
              "\n",
              "      <svg width=\"800\" height=\"500\">\n",
              "        <rect width=\"100%\" height=\"100%\" fill=\"black\"/>\n",
              "        \n",
              "        \n",
              "      <g visibility=visible transform=\"rotate(180,400,250) translate(400, 250)\">\n",
              "        <circle stroke=\"white\" stroke-width=\"3\" fill=\"transparent\" r=\"12\" cx=\"0\" cy=\"0\"/>\n",
              "        <polygon points=\"0,19 3,16 -3,16\" style=\"fill:white;stroke:white;stroke-width:2\"/>\n",
              "      </g>\n",
              "    \n",
              "      </svg>\n",
              "    "
            ],
            "text/plain": [
              "<IPython.core.display.HTML object>"
            ]
          },
          "metadata": {
            "tags": []
          }
        }
      ]
    },
    {
      "cell_type": "code",
      "metadata": {
        "id": "fkxJrBVcZroS"
      },
      "source": [
        "t.forward (150)"
      ],
      "execution_count": null,
      "outputs": []
    },
    {
      "cell_type": "code",
      "metadata": {
        "id": "T5YDjNehSX6E"
      },
      "source": [
        "# Let's clear the canvas\n",
        "t.initializeTurtle()"
      ],
      "execution_count": null,
      "outputs": []
    },
    {
      "cell_type": "code",
      "metadata": {
        "id": "sHnOTSQQGIJf"
      },
      "source": [
        "## Now that we have the Turtle canvas or blank page, we can start adding instructions!\n",
        "## Here are the instructions for a square\n",
        "\n",
        "t.forward(50)\n",
        "t.right(90)\n",
        "t.forward(50)\n",
        "t.right(90)\n",
        "t.forward(50)\n",
        "t.right(90)\n",
        "t.forward(50)\n",
        "t.right(90)\n",
        "\n",
        "## We're going to use the ''' symbols to block off the next lines of code until we're ready to use them\n",
        "## The instructions we used above created a square - now ***remove*** the ''' symbols at the beginning and end of this next code block\n",
        "## Check the code above, what is missing from the code below? What changes do you need to make for the code to run?\n",
        "\n",
        "'''\n",
        "forward(100)\n",
        "right(90)\n",
        "forward(100)\n",
        "right(90)\n",
        "forward(100)\n",
        "right(90)\n",
        "forward(100)\n",
        "right(90)\n",
        "'''\n",
        "\n"
      ],
      "execution_count": null,
      "outputs": []
    },
    {
      "cell_type": "markdown",
      "metadata": {
        "id": "5DSAn9OpHyfV"
      },
      "source": [
        ""
      ]
    },
    {
      "cell_type": "code",
      "metadata": {
        "id": "dJivOPrnGk6G"
      },
      "source": [
        "## Lastly, what do you think will happen if you remove these last ''' symbols before and after this next code block\n",
        "\n",
        "t.forward(150)\n",
        "t.right(90)\n",
        "t.forward(150)\n",
        "t.right(90)\n",
        "t.forward(150)\n",
        "t.right(90)\n",
        "t.forward(150)\n",
        "t.right(90)"
      ],
      "execution_count": null,
      "outputs": []
    },
    {
      "cell_type": "code",
      "metadata": {
        "id": "JLaBBkdUOwtI"
      },
      "source": [
        "## Notice the code you write draws on top of the other pictures you have already drawn?\n",
        "## To clear the page, you would have to re-call a blank page!\n",
        "## See how computers need very specific instructions!\n",
        "\n",
        "## Now, let's move the point where we start drawing by 10 points\n",
        "## Then draw the next bigger squares\n"
      ],
      "execution_count": null,
      "outputs": []
    },
    {
      "cell_type": "code",
      "metadata": {
        "id": "Jz-jGCqBQOcH"
      },
      "source": [
        "t.initializeTurtle()\n",
        "\n",
        "t.forward(50)\n",
        "t.right(90)\n",
        "t.forward(50)\n",
        "t.right(90)\n",
        "t.forward(50)\n",
        "t.right(90)\n",
        "t.forward(50)\n",
        "t.right(90)\n",
        "\n",
        "## Let's move the point where we start drawing by 5 points\n",
        "\n",
        "t.penup()\n",
        "t.forward(10)\n",
        "t.pendown()\n",
        "\n",
        "## Then draw the next bigger square\n",
        "\n",
        "t.forward(100)\n",
        "t.right(90)\n",
        "t.forward(100)\n",
        "t.right(90)\n",
        "t.forward(100)\n",
        "t.right(90)\n",
        "t.forward(100)\n",
        "t.right(90)\n",
        "\n",
        "## And again\n",
        "t.penup()\n",
        "t.forward(10)\n",
        "t.pendown()\n",
        "\n",
        "## Then draw the next bigger square\n",
        "t.forward(150)\n",
        "t.right(90)\n",
        "t.forward(150)\n",
        "t.right(90)\n",
        "t.forward(150)\n",
        "t.right(90)\n",
        "t.forward(150)\n",
        "t.right(90)"
      ],
      "execution_count": null,
      "outputs": []
    },
    {
      "cell_type": "code",
      "metadata": {
        "id": "-HVYdiPER0uO",
        "colab": {
          "base_uri": "https://localhost:8080/",
          "height": 520
        },
        "outputId": "05e54dfd-d62c-4fc3-d13a-649ef0eb056c"
      },
      "source": [
        "##Let's try and draw a circle \n",
        "\n",
        "t.initializeTurtle()\n",
        "\n",
        "def polygon(length, n):\n",
        "    for _ in range(n):\n",
        "        t.forward(length)\n",
        "        t.left(180 / n)\n",
        "\n",
        "polygon(5, 20)\n",
        "\n",
        "## What is happening here? How can we fix the code to make a circle? How many degrees are in a circle?\n",
        "## Change the code to make a circle"
      ],
      "execution_count": 9,
      "outputs": [
        {
          "output_type": "display_data",
          "data": {
            "text/html": [
              "\n",
              "      <svg width=\"800\" height=\"500\">\n",
              "        <rect width=\"100%\" height=\"100%\" fill=\"black\"/>\n",
              "        <line x1=\"400\" y1=\"250\" x2=\"400.0\" y2=\"245.0\" stroke-linecap=\"round\" style=\"stroke:white;stroke-width:4\"/><line x1=\"400.0\" y1=\"245.0\" x2=\"399.21782767479885\" y2=\"240.0615582970243\" stroke-linecap=\"round\" style=\"stroke:white;stroke-width:4\"/><line x1=\"399.21782767479885\" y1=\"240.0615582970243\" x2=\"397.6727427029241\" y2=\"235.30627571554854\" stroke-linecap=\"round\" style=\"stroke:white;stroke-width:4\"/><line x1=\"397.6727427029241\" y1=\"235.30627571554854\" x2=\"395.40279020422633\" y2=\"230.8512430946067\" stroke-linecap=\"round\" style=\"stroke:white;stroke-width:4\"/><line x1=\"395.40279020422633\" y1=\"230.8512430946067\" x2=\"392.46386394276396\" y2=\"226.80615812273197\" stroke-linecap=\"round\" style=\"stroke:white;stroke-width:4\"/><line x1=\"392.46386394276396\" y1=\"226.80615812273197\" x2=\"388.9283300368312\" y2=\"223.27062421679923\" stroke-linecap=\"round\" style=\"stroke:white;stroke-width:4\"/><line x1=\"388.9283300368312\" y1=\"223.27062421679923\" x2=\"384.88324506495644\" y2=\"220.33169795533686\" stroke-linecap=\"round\" style=\"stroke:white;stroke-width:4\"/><line x1=\"384.88324506495644\" y1=\"220.33169795533686\" x2=\"380.4282124440146\" y2=\"218.06174545663913\" stroke-linecap=\"round\" style=\"stroke:white;stroke-width:4\"/><line x1=\"380.4282124440146\" y1=\"218.06174545663913\" x2=\"375.6729298625388\" y2=\"216.5166604847644\" stroke-linecap=\"round\" style=\"stroke:white;stroke-width:4\"/><line x1=\"375.6729298625388\" y1=\"216.5166604847644\" x2=\"370.7344881595631\" y2=\"215.73448815956326\" stroke-linecap=\"round\" style=\"stroke:white;stroke-width:4\"/><line x1=\"370.7344881595631\" y1=\"215.73448815956326\" x2=\"365.7344881595631\" y2=\"215.73448815956326\" stroke-linecap=\"round\" style=\"stroke:white;stroke-width:4\"/><line x1=\"365.7344881595631\" y1=\"215.73448815956326\" x2=\"360.7960464565874\" y2=\"216.5166604847644\" stroke-linecap=\"round\" style=\"stroke:white;stroke-width:4\"/><line x1=\"360.7960464565874\" y1=\"216.5166604847644\" x2=\"356.0407638751117\" y2=\"218.06174545663913\" stroke-linecap=\"round\" style=\"stroke:white;stroke-width:4\"/><line x1=\"356.0407638751117\" y1=\"218.06174545663913\" x2=\"351.58573125416984\" y2=\"220.33169795533686\" stroke-linecap=\"round\" style=\"stroke:white;stroke-width:4\"/><line x1=\"351.58573125416984\" y1=\"220.33169795533686\" x2=\"347.5406462822951\" y2=\"223.27062421679923\" stroke-linecap=\"round\" style=\"stroke:white;stroke-width:4\"/><line x1=\"347.5406462822951\" y1=\"223.27062421679923\" x2=\"344.0051123763624\" y2=\"226.80615812273197\" stroke-linecap=\"round\" style=\"stroke:white;stroke-width:4\"/><line x1=\"344.0051123763624\" y1=\"226.80615812273197\" x2=\"341.0661861149\" y2=\"230.8512430946067\" stroke-linecap=\"round\" style=\"stroke:white;stroke-width:4\"/><line x1=\"341.0661861149\" y1=\"230.8512430946067\" x2=\"338.7962336162023\" y2=\"235.30627571554854\" stroke-linecap=\"round\" style=\"stroke:white;stroke-width:4\"/><line x1=\"338.7962336162023\" y1=\"235.30627571554854\" x2=\"337.25114864432754\" y2=\"240.0615582970243\" stroke-linecap=\"round\" style=\"stroke:white;stroke-width:4\"/><line x1=\"337.25114864432754\" y1=\"240.0615582970243\" x2=\"336.4689763191264\" y2=\"245.0\" stroke-linecap=\"round\" style=\"stroke:white;stroke-width:4\"/>\n",
              "        \n",
              "      <g visibility=visible transform=\"rotate(0.0,336.4689763191264,245.0) translate(336.4689763191264, 245.0)\">\n",
              "        <circle stroke=\"white\" stroke-width=\"3\" fill=\"transparent\" r=\"12\" cx=\"0\" cy=\"0\"/>\n",
              "        <polygon points=\"0,19 3,16 -3,16\" style=\"fill:white;stroke:white;stroke-width:2\"/>\n",
              "      </g>\n",
              "    \n",
              "      </svg>\n",
              "    "
            ],
            "text/plain": [
              "<IPython.core.display.HTML object>"
            ]
          },
          "metadata": {
            "tags": []
          }
        }
      ]
    },
    {
      "cell_type": "markdown",
      "metadata": {
        "id": "A6m1c6DeUNGj"
      },
      "source": [
        "```\n",
        "## The code we wrote is a shortcut that draws a regular polygon or shape of 'n' sides and it looks like a shape with 180 sides. It looks like half a circle.\n",
        "\n",
        "How many degrees are in half a circle? How many degrees does a whole cicle have?\n",
        "Try it with the number of degrees in a circle!\n",
        "```\n",
        "\n"
      ]
    },
    {
      "cell_type": "code",
      "metadata": {
        "colab": {
          "base_uri": "https://localhost:8080/",
          "height": 520
        },
        "id": "3lV_Cib7Y4hu",
        "outputId": "51aa87e8-2c76-4e9a-869a-82fbebd7855d"
      },
      "source": [
        "## Here's another way of doing 'shortcuts' in computer programming, it's called 'loops'\n",
        "## Now lets draw a star\n",
        "t.color('white')\n",
        "t.bgcolor('black')\n",
        "t.width(3)\n",
        "for i in range(5):\n",
        "    t.forward(200)\n",
        "    t.left(144) "
      ],
      "execution_count": 15,
      "outputs": [
        {
          "output_type": "display_data",
          "data": {
            "text/html": [
              "\n",
              "      <svg width=\"800\" height=\"500\">\n",
              "        <rect width=\"100%\" height=\"100%\" fill=\"black\"/>\n",
              "        <line x1=\"400\" y1=\"250\" x2=\"399.99999999999994\" y2=\"50.0\" stroke-linecap=\"round\" style=\"stroke:white;stroke-width:3\"/><line x1=\"399.99999999999994\" y1=\"50.0\" x2=\"282.44294954150536\" y2=\"211.80339887498948\" stroke-linecap=\"round\" style=\"stroke:white;stroke-width:3\"/><line x1=\"282.44294954150536\" y1=\"211.80339887498948\" x2=\"472.654252800536\" y2=\"149.99999999999994\" stroke-linecap=\"round\" style=\"stroke:white;stroke-width:3\"/><line x1=\"472.654252800536\" y1=\"149.99999999999994\" x2=\"282.4429495415053\" y2=\"88.19660112501049\" stroke-linecap=\"round\" style=\"stroke:white;stroke-width:3\"/><line x1=\"282.4429495415053\" y1=\"88.19660112501049\" x2=\"399.99999999999994\" y2=\"249.99999999999997\" stroke-linecap=\"round\" style=\"stroke:white;stroke-width:3\"/>\n",
              "        \n",
              "      <g visibility=visible transform=\"rotate(180,399.99999999999994,249.99999999999997) translate(399.99999999999994, 249.99999999999997)\">\n",
              "        <circle stroke=\"white\" stroke-width=\"3\" fill=\"transparent\" r=\"12\" cx=\"0\" cy=\"0\"/>\n",
              "        <polygon points=\"0,19 3,16 -3,16\" style=\"fill:white;stroke:white;stroke-width:2\"/>\n",
              "      </g>\n",
              "    \n",
              "      </svg>\n",
              "    "
            ],
            "text/plain": [
              "<IPython.core.display.HTML object>"
            ]
          },
          "metadata": {
            "tags": []
          }
        }
      ]
    },
    {
      "cell_type": "code",
      "metadata": {
        "colab": {
          "base_uri": "https://localhost:8080/",
          "height": 520
        },
        "id": "SvlCqGEfXn3L",
        "outputId": "2aaea0e5-1773-4bbd-c612-7eceb7fe6c8a"
      },
      "source": [
        "## Now lets draw a different star\n",
        "t.initializeTurtle()\n",
        "t.color('purple')\n",
        "t.bgcolor('black')\n",
        "t.width(10)         ##Increased the pen width to 10\n",
        "for i in range(5):\n",
        "    t.forward(200)\n",
        "    t.left(144) "
      ],
      "execution_count": 16,
      "outputs": [
        {
          "output_type": "display_data",
          "data": {
            "text/html": [
              "\n",
              "      <svg width=\"800\" height=\"500\">\n",
              "        <rect width=\"100%\" height=\"100%\" fill=\"black\"/>\n",
              "        <line x1=\"400\" y1=\"250\" x2=\"399.99999999999994\" y2=\"50.0\" stroke-linecap=\"round\" style=\"stroke:purple;stroke-width:10\"/><line x1=\"399.99999999999994\" y1=\"50.0\" x2=\"282.44294954150536\" y2=\"211.80339887498948\" stroke-linecap=\"round\" style=\"stroke:purple;stroke-width:10\"/><line x1=\"282.44294954150536\" y1=\"211.80339887498948\" x2=\"472.654252800536\" y2=\"149.99999999999994\" stroke-linecap=\"round\" style=\"stroke:purple;stroke-width:10\"/><line x1=\"472.654252800536\" y1=\"149.99999999999994\" x2=\"282.4429495415053\" y2=\"88.19660112501049\" stroke-linecap=\"round\" style=\"stroke:purple;stroke-width:10\"/><line x1=\"282.4429495415053\" y1=\"88.19660112501049\" x2=\"399.99999999999994\" y2=\"249.99999999999997\" stroke-linecap=\"round\" style=\"stroke:purple;stroke-width:10\"/>\n",
              "        \n",
              "      <g visibility=visible transform=\"rotate(180,399.99999999999994,249.99999999999997) translate(399.99999999999994, 249.99999999999997)\">\n",
              "        <circle stroke=\"purple\" stroke-width=\"3\" fill=\"transparent\" r=\"12\" cx=\"0\" cy=\"0\"/>\n",
              "        <polygon points=\"0,19 3,16 -3,16\" style=\"fill:purple;stroke:purple;stroke-width:2\"/>\n",
              "      </g>\n",
              "    \n",
              "      </svg>\n",
              "    "
            ],
            "text/plain": [
              "<IPython.core.display.HTML object>"
            ]
          },
          "metadata": {
            "tags": []
          }
        }
      ]
    },
    {
      "cell_type": "code",
      "metadata": {
        "colab": {
          "base_uri": "https://localhost:8080/",
          "height": 520
        },
        "id": "acbpQSZsZtrw",
        "outputId": "40cf7852-fd18-44cc-ad3f-2427524edb93"
      },
      "source": [
        "## Now lets draw blue stars in this black sky\n",
        "t.initializeTurtle()\n",
        "t.color('blue')\n",
        "t.bgcolor('black')\n",
        "t.width(3)\n",
        "for i in range(5):\n",
        "    t.forward(50)\n",
        "    t.left(144) "
      ],
      "execution_count": 19,
      "outputs": [
        {
          "output_type": "display_data",
          "data": {
            "text/html": [
              "\n",
              "      <svg width=\"800\" height=\"500\">\n",
              "        <rect width=\"100%\" height=\"100%\" fill=\"black\"/>\n",
              "        <line x1=\"400\" y1=\"250\" x2=\"400.0\" y2=\"200.0\" stroke-linecap=\"round\" style=\"stroke:blue;stroke-width:3\"/><line x1=\"400.0\" y1=\"200.0\" x2=\"370.61073738537635\" y2=\"240.45084971874738\" stroke-linecap=\"round\" style=\"stroke:blue;stroke-width:3\"/><line x1=\"370.61073738537635\" y1=\"240.45084971874738\" x2=\"418.16356320013404\" y2=\"225.0\" stroke-linecap=\"round\" style=\"stroke:blue;stroke-width:3\"/><line x1=\"418.16356320013404\" y1=\"225.0\" x2=\"370.61073738537635\" y2=\"209.54915028125265\" stroke-linecap=\"round\" style=\"stroke:blue;stroke-width:3\"/><line x1=\"370.61073738537635\" y1=\"209.54915028125265\" x2=\"400.0\" y2=\"250.00000000000003\" stroke-linecap=\"round\" style=\"stroke:blue;stroke-width:3\"/>\n",
              "        \n",
              "      <g visibility=visible transform=\"rotate(180,400.0,250.00000000000003) translate(400.0, 250.00000000000003)\">\n",
              "        <circle stroke=\"blue\" stroke-width=\"3\" fill=\"transparent\" r=\"12\" cx=\"0\" cy=\"0\"/>\n",
              "        <polygon points=\"0,19 3,16 -3,16\" style=\"fill:blue;stroke:blue;stroke-width:2\"/>\n",
              "      </g>\n",
              "    \n",
              "      </svg>\n",
              "    "
            ],
            "text/plain": [
              "<IPython.core.display.HTML object>"
            ]
          },
          "metadata": {
            "tags": []
          }
        }
      ]
    },
    {
      "cell_type": "code",
      "metadata": {
        "colab": {
          "base_uri": "https://localhost:8080/",
          "height": 520
        },
        "id": "p-x6ruC_Z6ya",
        "outputId": "1e109419-936e-48db-f30e-8b09a7fde40f"
      },
      "source": [
        "## Now let's draw many stars all over the sky.\n",
        "## We will have to lift the turtle and place it at a new position\n",
        "t.color('blue')\n",
        "t.bgcolor('black')\n",
        "t.penup()\n",
        "t.left(90)\n",
        "t.forward(200)\n",
        "t.pendown()\n",
        "t.width(2)  \n",
        "for i in range(5):\n",
        "  t.forward(50)\n",
        "  t.left(144) "
      ],
      "execution_count": 21,
      "outputs": [
        {
          "output_type": "display_data",
          "data": {
            "text/html": [
              "\n",
              "      <svg width=\"800\" height=\"500\">\n",
              "        <rect width=\"100%\" height=\"100%\" fill=\"black\"/>\n",
              "        <line x1=\"400\" y1=\"250\" x2=\"400.0\" y2=\"200.0\" stroke-linecap=\"round\" style=\"stroke:blue;stroke-width:3\"/><line x1=\"400.0\" y1=\"200.0\" x2=\"370.61073738537635\" y2=\"240.45084971874738\" stroke-linecap=\"round\" style=\"stroke:blue;stroke-width:3\"/><line x1=\"370.61073738537635\" y1=\"240.45084971874738\" x2=\"418.16356320013404\" y2=\"225.0\" stroke-linecap=\"round\" style=\"stroke:blue;stroke-width:3\"/><line x1=\"418.16356320013404\" y1=\"225.0\" x2=\"370.61073738537635\" y2=\"209.54915028125265\" stroke-linecap=\"round\" style=\"stroke:blue;stroke-width:3\"/><line x1=\"370.61073738537635\" y1=\"209.54915028125265\" x2=\"400.0\" y2=\"250.00000000000003\" stroke-linecap=\"round\" style=\"stroke:blue;stroke-width:3\"/><line x1=\"200.0\" y1=\"250.00000000000006\" x2=\"150.0\" y2=\"250.00000000000006\" stroke-linecap=\"round\" style=\"stroke:blue;stroke-width:2\"/><line x1=\"150.0\" y1=\"250.00000000000006\" x2=\"190.45084971874738\" y2=\"279.3892626146237\" stroke-linecap=\"round\" style=\"stroke:blue;stroke-width:2\"/><line x1=\"190.45084971874738\" y1=\"279.3892626146237\" x2=\"175.0\" y2=\"231.83643679986602\" stroke-linecap=\"round\" style=\"stroke:blue;stroke-width:2\"/><line x1=\"175.0\" y1=\"231.83643679986602\" x2=\"159.54915028125262\" y2=\"279.3892626146237\" stroke-linecap=\"round\" style=\"stroke:blue;stroke-width:2\"/><line x1=\"159.54915028125262\" y1=\"279.3892626146237\" x2=\"200.0\" y2=\"250.00000000000003\" stroke-linecap=\"round\" style=\"stroke:blue;stroke-width:2\"/>\n",
              "        \n",
              "      <g visibility=visible transform=\"rotate(90,200.0,250.00000000000003) translate(200.0, 250.00000000000003)\">\n",
              "        <circle stroke=\"blue\" stroke-width=\"3\" fill=\"transparent\" r=\"12\" cx=\"0\" cy=\"0\"/>\n",
              "        <polygon points=\"0,19 3,16 -3,16\" style=\"fill:blue;stroke:blue;stroke-width:2\"/>\n",
              "      </g>\n",
              "    \n",
              "      </svg>\n",
              "    "
            ],
            "text/plain": [
              "<IPython.core.display.HTML object>"
            ]
          },
          "metadata": {
            "tags": []
          }
        }
      ]
    },
    {
      "cell_type": "markdown",
      "metadata": {
        "id": "HxJG487paX2m"
      },
      "source": [
        "Draw your own original picture. Maybe it can be a star and a moon. \n",
        "Or run the code below for something completely different!!\n",
        "\n"
      ]
    },
    {
      "cell_type": "code",
      "metadata": {
        "colab": {
          "base_uri": "https://localhost:8080/",
          "height": 520
        },
        "id": "BjEGHWmxaceh",
        "outputId": "af87a1a4-d1e0-4897-c895-437c51d0dd40"
      },
      "source": [
        "t.initializeTurtle()\n",
        "t.penup()\n",
        "t.sety(350)\n",
        "t.pendown()\n",
        "t.color('red')\n",
        "t.bgcolor('yellow')\n",
        "t.width(2)\n",
        "for i in range(36):\n",
        "    t.forward(200)\n",
        "    t.left(170)"
      ],
      "execution_count": 22,
      "outputs": [
        {
          "output_type": "display_data",
          "data": {
            "text/html": [
              "\n",
              "      <svg width=\"800\" height=\"500\">\n",
              "        <rect width=\"100%\" height=\"100%\" fill=\"yellow\"/>\n",
              "        <line x1=\"400\" y1=\"350\" x2=\"399.99999999999994\" y2=\"150.0\" stroke-linecap=\"round\" style=\"stroke:red;stroke-width:2\"/><line x1=\"399.99999999999994\" y1=\"150.0\" x2=\"365.2703644666139\" y2=\"346.9615506024416\" stroke-linecap=\"round\" style=\"stroke:red;stroke-width:2\"/><line x1=\"365.2703644666139\" y1=\"346.9615506024416\" x2=\"433.6743931317477\" y2=\"159.02302644525994\" stroke-linecap=\"round\" style=\"stroke:red;stroke-width:2\"/><line x1=\"433.6743931317477\" y1=\"159.02302644525994\" x2=\"333.67439313174776\" y2=\"332.2281072021477\" stroke-linecap=\"round\" style=\"stroke:red;stroke-width:2\"/><line x1=\"333.67439313174776\" y1=\"332.2281072021477\" x2=\"462.2319150690556\" y2=\"179.0192185783521\" stroke-linecap=\"round\" style=\"stroke:red;stroke-width:2\"/><line x1=\"462.2319150690556\" y1=\"179.0192185783521\" x2=\"309.02302644526003\" y2=\"307.57674051566\" stroke-linecap=\"round\" style=\"stroke:red;stroke-width:2\"/><line x1=\"309.02302644526003\" y1=\"307.57674051566\" x2=\"482.2281072021477\" y2=\"207.5767405156599\" stroke-linecap=\"round\" style=\"stroke:red;stroke-width:2\"/><line x1=\"482.2281072021477\" y1=\"207.5767405156599\" x2=\"294.2895830449661\" y2=\"275.9807691807937\" stroke-linecap=\"round\" style=\"stroke:red;stroke-width:2\"/><line x1=\"294.2895830449661\" y1=\"275.9807691807937\" x2=\"491.2511336474077\" y2=\"241.2511336474076\" stroke-linecap=\"round\" style=\"stroke:red;stroke-width:2\"/><line x1=\"491.2511336474077\" y1=\"241.2511336474076\" x2=\"291.2511336474077\" y2=\"241.25113364740764\" stroke-linecap=\"round\" style=\"stroke:red;stroke-width:2\"/><line x1=\"291.2511336474077\" y1=\"241.25113364740764\" x2=\"488.2126842498493\" y2=\"275.9807691807937\" stroke-linecap=\"round\" style=\"stroke:red;stroke-width:2\"/><line x1=\"488.2126842498493\" y1=\"275.9807691807937\" x2=\"300.2741600926676\" y2=\"207.57674051565994\" stroke-linecap=\"round\" style=\"stroke:red;stroke-width:2\"/><line x1=\"300.2741600926676\" y1=\"207.57674051565994\" x2=\"473.47924084955537\" y2=\"307.57674051565994\" stroke-linecap=\"round\" style=\"stroke:red;stroke-width:2\"/><line x1=\"473.47924084955537\" y1=\"307.57674051565994\" x2=\"320.2703522257598\" y2=\"179.01921857835208\" stroke-linecap=\"round\" style=\"stroke:red;stroke-width:2\"/><line x1=\"320.2703522257598\" y1=\"179.01921857835208\" x2=\"448.8278741630677\" y2=\"332.2281072021477\" stroke-linecap=\"round\" style=\"stroke:red;stroke-width:2\"/><line x1=\"448.8278741630677\" y1=\"332.2281072021477\" x2=\"348.8278741630676\" y2=\"159.02302644526006\" stroke-linecap=\"round\" style=\"stroke:red;stroke-width:2\"/><line x1=\"348.8278741630676\" y1=\"159.02302644526006\" x2=\"417.2319028282013\" y2=\"346.9615506024417\" stroke-linecap=\"round\" style=\"stroke:red;stroke-width:2\"/><line x1=\"417.2319028282013\" y1=\"346.9615506024417\" x2=\"382.5022672948153\" y2=\"150.0000000000001\" stroke-linecap=\"round\" style=\"stroke:red;stroke-width:2\"/><line x1=\"382.5022672948153\" y1=\"150.0000000000001\" x2=\"382.5022672948153\" y2=\"350.0000000000001\" stroke-linecap=\"round\" style=\"stroke:red;stroke-width:2\"/><line x1=\"382.5022672948153\" y1=\"350.0000000000001\" x2=\"417.23190282820127\" y2=\"153.03844939755848\" stroke-linecap=\"round\" style=\"stroke:red;stroke-width:2\"/><line x1=\"417.23190282820127\" y1=\"153.03844939755848\" x2=\"348.8278741630675\" y2=\"340.9769735547402\" stroke-linecap=\"round\" style=\"stroke:red;stroke-width:2\"/><line x1=\"348.8278741630675\" y1=\"340.9769735547402\" x2=\"448.8278741630676\" y2=\"167.77189279785247\" stroke-linecap=\"round\" style=\"stroke:red;stroke-width:2\"/><line x1=\"448.8278741630676\" y1=\"167.77189279785247\" x2=\"320.27035222575967\" y2=\"320.9807814216481\" stroke-linecap=\"round\" style=\"stroke:red;stroke-width:2\"/><line x1=\"320.27035222575967\" y1=\"320.9807814216481\" x2=\"473.47924084955525\" y2=\"192.42325948434018\" stroke-linecap=\"round\" style=\"stroke:red;stroke-width:2\"/><line x1=\"473.47924084955525\" y1=\"192.42325948434018\" x2=\"300.2741600926675\" y2=\"292.4232594843402\" stroke-linecap=\"round\" style=\"stroke:red;stroke-width:2\"/><line x1=\"300.2741600926675\" y1=\"292.4232594843402\" x2=\"488.2126842498492\" y2=\"224.01923081920646\" stroke-linecap=\"round\" style=\"stroke:red;stroke-width:2\"/><line x1=\"488.2126842498492\" y1=\"224.01923081920646\" x2=\"291.2511336474076\" y2=\"258.74886635259253\" stroke-linecap=\"round\" style=\"stroke:red;stroke-width:2\"/><line x1=\"291.2511336474076\" y1=\"258.74886635259253\" x2=\"491.2511336474076\" y2=\"258.74886635259253\" stroke-linecap=\"round\" style=\"stroke:red;stroke-width:2\"/><line x1=\"491.2511336474076\" y1=\"258.74886635259253\" x2=\"294.289583044966\" y2=\"224.01923081920643\" stroke-linecap=\"round\" style=\"stroke:red;stroke-width:2\"/><line x1=\"294.289583044966\" y1=\"224.01923081920643\" x2=\"482.22810720214767\" y2=\"292.4232594843402\" stroke-linecap=\"round\" style=\"stroke:red;stroke-width:2\"/><line x1=\"482.22810720214767\" y1=\"292.4232594843402\" x2=\"309.0230264452599\" y2=\"192.42325948434015\" stroke-linecap=\"round\" style=\"stroke:red;stroke-width:2\"/><line x1=\"309.0230264452599\" y1=\"192.42325948434015\" x2=\"462.2319150690555\" y2=\"320.980781421648\" stroke-linecap=\"round\" style=\"stroke:red;stroke-width:2\"/><line x1=\"462.2319150690555\" y1=\"320.980781421648\" x2=\"333.6743931317476\" y2=\"167.7718927978524\" stroke-linecap=\"round\" style=\"stroke:red;stroke-width:2\"/><line x1=\"333.6743931317476\" y1=\"167.7718927978524\" x2=\"433.6743931317476\" y2=\"340.9769735547401\" stroke-linecap=\"round\" style=\"stroke:red;stroke-width:2\"/><line x1=\"433.6743931317476\" y1=\"340.9769735547401\" x2=\"365.2703644666139\" y2=\"153.0384493975584\" stroke-linecap=\"round\" style=\"stroke:red;stroke-width:2\"/><line x1=\"365.2703644666139\" y1=\"153.0384493975584\" x2=\"400.0\" y2=\"350.0\" stroke-linecap=\"round\" style=\"stroke:red;stroke-width:2\"/>\n",
              "        \n",
              "      <g visibility=visible transform=\"rotate(180,400.0,350.0) translate(400.0, 350.0)\">\n",
              "        <circle stroke=\"red\" stroke-width=\"3\" fill=\"transparent\" r=\"12\" cx=\"0\" cy=\"0\"/>\n",
              "        <polygon points=\"0,19 3,16 -3,16\" style=\"fill:red;stroke:red;stroke-width:2\"/>\n",
              "      </g>\n",
              "    \n",
              "      </svg>\n",
              "    "
            ],
            "text/plain": [
              "<IPython.core.display.HTML object>"
            ]
          },
          "metadata": {
            "tags": []
          }
        }
      ]
    },
    {
      "cell_type": "markdown",
      "metadata": {
        "id": "TgjMfeQha1Na"
      },
      "source": [
        "When you decide on your picture, take a screenshot and submit it as your homework!"
      ]
    },
    {
      "cell_type": "code",
      "metadata": {
        "id": "5yyO5eika01Y"
      },
      "source": [
        ""
      ],
      "execution_count": null,
      "outputs": []
    },
    {
      "cell_type": "markdown",
      "metadata": {
        "id": "ozJX_TD9D7mU"
      },
      "source": [
        "#Conclusion\n",
        "\n",
        "1.   Computer programming is just a series of instructions to get a computer to execute on very specific commands.\n",
        "2.   Computer programming environments like Google Colab, that we are accessing through our browser, has some predefined instructions called 'packages' so we don't have to write all code from scratch.\n",
        "3. We can call packages and they will execute on the predefined instructions and then we can add more code that we write ourselves.\n",
        "\n",
        "Practice making different shapes in ColabTurtle\n",
        "\n",
        "\n",
        "\n",
        "\n",
        "\n"
      ]
    },
    {
      "cell_type": "markdown",
      "metadata": {
        "id": "sipRcJ84f_bZ"
      },
      "source": [
        "# Contact Information\n",
        "\n",
        "Congratulations, you have completed a tutorial in the Python Programming language!\n",
        "\n",
        "\n",
        "\n",
        "Fireside Analytics Inc. | \n",
        "Instructor: Shingai Manjengwa (Twitter: @tjido) |\n",
        "Canada School of Public Service - Woodgreen Community Services 2020 |\n",
        "Contact: info@firesideanalytics.com or [www.firesideanalytics.com](www.firesideanalytics.com)\n",
        "\n",
        "Never stop learning!\n",
        "\n"
      ]
    }
  ]
}