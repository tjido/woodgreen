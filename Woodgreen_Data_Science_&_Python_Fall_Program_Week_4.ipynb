{
  "nbformat": 4,
  "nbformat_minor": 0,
  "metadata": {
    "colab": {
      "name": "Woodgreen: Data Science & Python - Fall Program - Week 4",
      "provenance": [],
      "collapsed_sections": [],
      "authorship_tag": "ABX9TyNxm7KUDrHGfNrblqYa4rUs",
      "include_colab_link": true
    },
    "kernelspec": {
      "name": "python3",
      "display_name": "Python 3"
    }
  },
  "cells": [
    {
      "cell_type": "markdown",
      "metadata": {
        "id": "view-in-github",
        "colab_type": "text"
      },
      "source": [
        "<a href=\"https://colab.research.google.com/github/tjido/woodgreen/blob/master/Woodgreen_Data_Science_%26_Python_Fall_Program_Week_4.ipynb\" target=\"_parent\"><img src=\"https://colab.research.google.com/assets/colab-badge.svg\" alt=\"Open In Colab\"/></a>"
      ]
    },
    {
      "cell_type": "markdown",
      "metadata": {
        "id": "A7vEpjwwIN07"
      },
      "source": [
        "<h1>Welcome to the Woodgreen Data Science & Python Program by Fireside Analytics</h1>\n",
        "\n",
        "\n",
        "<h4><B>\"Data science is the process of ethically acquiring, engineering, analyzing, visualizaing and ultimately, creating value with data.\" - Shingai Manjengwa</h4></B>\n",
        "\n",
        "<h4><p>In this tutorial, participants will practice giving computers instuctions by writing Python code. Don't forget to scroll down to see your code output and for more instructions!</p> \n",
        "<p>For more information about this tutorial or other tutorials by Fireside Analytics, contact: info@firesideanalytics.com</p></h4>\n",
        "\n",
        "<h3><strong>Table of contents</h3>\n",
        "<div class=\"alert alert-block alert-info\" style=\"margin-top: 20px\">\n",
        "    <ol>\n",
        "        <li>Practice giving a computer instructions: 'Drawing with a Turtle'</li>\n",
        "          </ol></strong>\n",
        "\n",
        "<p>Python has a number of predefined groups of instructions called 'packages' so we don't have to write all the instructions from the beginning. ColabTurtle is an exmaple of a package that will let us draw in Python. Once we have ColabTurtle up and running by following the code below, we can start practicing how to give computers instructions! </p> \n",
        "</div>\n",
        "<br>\n",
        "<hr>"
      ]
    },
    {
      "cell_type": "markdown",
      "metadata": {
        "id": "xGcpn-PLH0BD"
      },
      "source": [
        "Here are the commands you can use: \n",
        "*   forward(units)\n",
        "*   backward(units)\n",
        "*   right(degrees)\n",
        "*   face(degrees)\n",
        "*   left(degrees)\n",
        "*   penup()\n",
        "*   pendown()\n",
        "*   speed(speed)\n",
        "*   setx(x)\n",
        "*   sety(y)\n",
        "*   getx()\n",
        "*   gety()\n",
        "*   goto(x, y)\n",
        "*   showturtle()\n",
        "*   hideturtle()\n",
        "*   bgcolor(color)\n",
        "*   color(color)\n",
        "*   width(width)\n",
        "\n",
        "***Don't forget the brackets ( ) after the command"
      ]
    },
    {
      "cell_type": "code",
      "metadata": {
        "id": "CPJZ0hEbGex0"
      },
      "source": [
        "## First we call the ColabTurtle package into our Google Colab environment using the '!pip3 install' commands\n",
        "## Then we use the 'import' command to bring in all the instructions associated with the 'ColabTurtle' package and call those instructions 't'\n",
        "## We can name the instructions 't' or something else, as long as we remember what we've called it\n",
        "## Then we 'run' the instructions with the 'initializeTurtle()' command\n",
        "!pip3 install ColabTurtle\n",
        "import ColabTurtle.Turtle as t\n",
        "t.initializeTurtle()\n"
      ],
      "execution_count": null,
      "outputs": []
    },
    {
      "cell_type": "code",
      "metadata": {
        "id": "fkxJrBVcZroS"
      },
      "source": [
        "t.forward (150)"
      ],
      "execution_count": null,
      "outputs": []
    },
    {
      "cell_type": "code",
      "metadata": {
        "id": "T5YDjNehSX6E"
      },
      "source": [
        "# Let's clear the canvas\n",
        "t.initializeTurtle()"
      ],
      "execution_count": null,
      "outputs": []
    },
    {
      "cell_type": "code",
      "metadata": {
        "id": "sHnOTSQQGIJf"
      },
      "source": [
        "## Now that we have the Turtle canvas or blank page, we can start adding instructions!\n",
        "## Here are the instructions for a square\n",
        "\n",
        "t.forward(50)\n",
        "t.right(90)\n",
        "t.forward(50)\n",
        "t.right(90)\n",
        "t.forward(50)\n",
        "t.right(90)\n",
        "t.forward(50)\n",
        "t.right(90)\n",
        "\n",
        "## We're going to use the ''' symbols to block off the next lines of code until we're ready to use them\n",
        "## The instructions we used above created a square - now ***remove*** the ''' symbols at the beginning and end of this next code block\n",
        "## Check the code above, what is missing from the code below? What changes do you need to make for the code to run?\n",
        "\n",
        "'''\n",
        "forward(100)\n",
        "right(90)\n",
        "forward(100)\n",
        "right(90)\n",
        "forward(100)\n",
        "right(90)\n",
        "forward(100)\n",
        "right(90)\n",
        "'''\n",
        "\n"
      ],
      "execution_count": null,
      "outputs": []
    },
    {
      "cell_type": "markdown",
      "metadata": {
        "id": "5DSAn9OpHyfV"
      },
      "source": [
        ""
      ]
    },
    {
      "cell_type": "code",
      "metadata": {
        "id": "dJivOPrnGk6G"
      },
      "source": [
        "## Lastly, what do you think will happen if you remove these last ''' symbols before and after this next code block\n",
        "\n",
        "t.forward(150)\n",
        "t.right(90)\n",
        "t.forward(150)\n",
        "t.right(90)\n",
        "t.forward(150)\n",
        "t.right(90)\n",
        "t.forward(150)\n",
        "t.right(90)"
      ],
      "execution_count": null,
      "outputs": []
    },
    {
      "cell_type": "code",
      "metadata": {
        "id": "JLaBBkdUOwtI"
      },
      "source": [
        "## Notice the code you write draws on top of the other pictures you have already drawn?\n",
        "## To clear the page, you would have to re-call a blank page!\n",
        "## See how computers need very specific instructions!\n",
        "\n",
        "## Now, let's move the point where we start drawing by 10 points\n",
        "## Then draw the next bigger squares\n"
      ],
      "execution_count": null,
      "outputs": []
    },
    {
      "cell_type": "code",
      "metadata": {
        "id": "Jz-jGCqBQOcH"
      },
      "source": [
        "t.initializeTurtle()\n",
        "\n",
        "t.forward(50)\n",
        "t.right(90)\n",
        "t.forward(50)\n",
        "t.right(90)\n",
        "t.forward(50)\n",
        "t.right(90)\n",
        "t.forward(50)\n",
        "t.right(90)\n",
        "\n",
        "## Let's move the point where we start drawing by 5 points\n",
        "\n",
        "t.penup()\n",
        "t.forward(10)\n",
        "t.pendown()\n",
        "\n",
        "## Then draw the next bigger square\n",
        "\n",
        "t.forward(100)\n",
        "t.right(90)\n",
        "t.forward(100)\n",
        "t.right(90)\n",
        "t.forward(100)\n",
        "t.right(90)\n",
        "t.forward(100)\n",
        "t.right(90)\n",
        "\n",
        "## And again\n",
        "t.penup()\n",
        "t.forward(10)\n",
        "t.pendown()\n",
        "\n",
        "## Then draw the next bigger square\n",
        "t.forward(150)\n",
        "t.right(90)\n",
        "t.forward(150)\n",
        "t.right(90)\n",
        "t.forward(150)\n",
        "t.right(90)\n",
        "t.forward(150)\n",
        "t.right(90)"
      ],
      "execution_count": null,
      "outputs": []
    },
    {
      "cell_type": "code",
      "metadata": {
        "id": "-HVYdiPER0uO"
      },
      "source": [
        "##Let's try and draw a circle \n",
        "\n",
        "t.initializeTurtle()\n",
        "\n",
        "def polygon(length, n):\n",
        "    for _ in range(n):\n",
        "        t.forward(length)\n",
        "        t.left(180 / n)\n",
        "\n",
        "polygon(5, 20)\n",
        "\n",
        "## What is happening here? How can we fix the code to make a circle?"
      ],
      "execution_count": null,
      "outputs": []
    },
    {
      "cell_type": "markdown",
      "metadata": {
        "id": "A6m1c6DeUNGj"
      },
      "source": [
        "```\n",
        "## The code we wrote is a shortcut that draws a regular polygon or shape of 'n' sides and it looks like a shape with 180 sides. It looks like half a circle.\n",
        "\n",
        "How many degrees are in half a circle? How many degrees does a whole cicle have?\n",
        "Try it with the number of degrees in a circle!\n",
        "```\n",
        "\n"
      ]
    },
    {
      "cell_type": "markdown",
      "metadata": {
        "id": "ozJX_TD9D7mU"
      },
      "source": [
        "#Conclusion\n",
        "\n",
        "1.   Computer programming is just a series of instructions to get a computer to execute on very specific commands.\n",
        "2.   Computer programming environments like Google Colab, that we are accessing through our browser, has some predefined instructions called 'packages' so we don't have to write all code from scratch.\n",
        "3. We can call packages and they will execute on the predefined instructions and then we can add more code that we write ourselves.\n",
        "\n",
        "Practice making different shapes in ColabTurtle\n",
        "\n",
        "\n",
        "\n",
        "\n",
        "\n"
      ]
    },
    {
      "cell_type": "markdown",
      "metadata": {
        "id": "sipRcJ84f_bZ"
      },
      "source": [
        "# Contact Information\n",
        "\n",
        "Congratulations, you have completed a tutorial in the Python Programming language!\n",
        "\n",
        "\n",
        "\n",
        "Fireside Analytics Inc. | \n",
        "Instructor: Shingai Manjengwa (Twitter: @tjido) |\n",
        "Canada School of Public Service - Woodgreen Community Services 2020 |\n",
        "Contact: info@firesideanalytics.com or [www.firesideanalytics.com](www.firesideanalytics.com)\n",
        "\n",
        "Never stop learning!\n",
        "\n"
      ]
    }
  ]
}