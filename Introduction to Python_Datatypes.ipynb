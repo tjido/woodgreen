{
 "cells": [
  {
   "cell_type": "markdown",
   "metadata": {},
   "source": [
    "# Welcome to Python!"
   ]
  },
  {
   "cell_type": "markdown",
   "metadata": {},
   "source": [
    "## Write your first bit of code"
   ]
  },
  {
   "cell_type": "code",
   "execution_count": 8,
   "metadata": {},
   "outputs": [
    {
     "name": "stdout",
     "output_type": "stream",
     "text": [
      "Hello world!\n",
      "Hello, world, I'm Martin\n"
     ]
    }
   ],
   "source": [
    "# Follow in the footsteps of millions of people taking their first step by saying\n",
    "print(\"Hello world!\")\n",
    "\n",
    "# print() is a function built into the core of Python\n",
    "# + - are other examples\n",
    "# For more sophisticed operations we'll load libraries which come with additional functions that we can use\n",
    "# Famous ones are numpy, pandas, matplotlib, seaborne, and sckikitlearn\n",
    "\n",
    "# Now for your first program\n",
    "\n",
    "\n",
    "# Edit the line below to add your first name between the \"\" characters.\n",
    "## Here we assign the letters between \"\" to an object called \"my_name\" - it is now stored and you can 'call' it later\n",
    "## Like saving a number in your phone versus just typing it in and calling it\n",
    "\n",
    "my_name = \"Martin\"\n",
    "\n",
    "greeting = \"Hello, world, I'm \"\n",
    "\n",
    "\n",
    "# Simple hello\n",
    "def say_hello(name):\n",
    "        print(greeting + name)"
   ]
  },
  {
   "cell_type": "code",
   "execution_count": 11,
   "metadata": {
    "collapsed": true
   },
   "outputs": [],
   "source": [
    "# Asking for input, simple version\n",
    "\n",
    "def say_hello():\n",
    "    username = input(\"What is your name?\\n\")\n",
    "    print(\"Hello \" + username)\n"
   ]
  },
  {
   "cell_type": "code",
   "execution_count": 13,
   "metadata": {},
   "outputs": [
    {
     "name": "stdout",
     "output_type": "stream",
     "text": [
      "What is your name?\n",
      "Maritn\n",
      "Hello Maritn\n"
     ]
    }
   ],
   "source": [
    "say_hello()"
   ]
  },
  {
   "cell_type": "code",
   "execution_count": null,
   "metadata": {
    "collapsed": true
   },
   "outputs": [],
   "source": [
    "# Asking for an input, dealing with blanks\n",
    "\n",
    "def say_hello():\n",
    "    username = input(\"What is your name?\\n\")\n",
    "    if username == \"\":\n",
    "        print(\"You can't introduce yourself if you don't add your name!\")\n",
    "    else:\n",
    "        print(\"Hello \" + username)\n"
   ]
  },
  {
   "cell_type": "code",
   "execution_count": 6,
   "metadata": {},
   "outputs": [
    {
     "name": "stdout",
     "output_type": "stream",
     "text": [
      "What is your name?\n",
      "Martin\n",
      "Hello Martin\n"
     ]
    }
   ],
   "source": [
    "say_hello()"
   ]
  },
  {
   "cell_type": "code",
   "execution_count": null,
   "metadata": {
    "collapsed": true
   },
   "outputs": [],
   "source": [
    "# Dealing with a blank\n",
    "def say_hello(name):\n",
    "    if name == \"\":\n",
    "        print(\"You can't introduce yourself if you don't add your name!\")\n",
    "    else:\n",
    "        print(greeting + name)\n",
    "        \n",
    "\n",
    "# Click the \"play\" button to execute this code.\n",
    "say_hello(my_name)"
   ]
  },
  {
   "cell_type": "code",
   "execution_count": 9,
   "metadata": {},
   "outputs": [
    {
     "name": "stdout",
     "output_type": "stream",
     "text": [
      "Hello world, my name is Martin.\n"
     ]
    }
   ],
   "source": [
    "# In programming there are often many ways to do things, for example\n",
    "print(\"Hello world, my name is \" + my_name + \".\")"
   ]
  },
  {
   "cell_type": "code",
   "execution_count": 10,
   "metadata": {},
   "outputs": [
    {
     "name": "stdout",
     "output_type": "stream",
     "text": [
      "10\n",
      "7\n"
     ]
    }
   ],
   "source": [
    "# Some actions already programmed in:\n",
    "\n",
    "x = 5\n",
    "print(x+5)\n",
    "print(x^2)\n"
   ]
  },
  {
   "cell_type": "code",
   "execution_count": 1,
   "metadata": {},
   "outputs": [
    {
     "name": "stdout",
     "output_type": "stream",
     "text": [
      "5\n",
      "5\n",
      "x is:  6\n",
      "y is:  5\n"
     ]
    }
   ],
   "source": [
    "# What happens when we say \"X=5\"\n",
    "\n",
    "# x 'points' at the number 5\n",
    "x = 5\n",
    "print(x)\n",
    "\n",
    "# y now 'points' at 'x' which 'points' at 5, so then y points at 5\n",
    "y = x\n",
    "print(y)\n",
    "\n",
    "x = 6\n",
    "# What happens when we now change what x is?\n",
    "\n",
    "print(\"x is:\", x)\n",
    "print(\"y is:\", y)\n",
    "\n"
   ]
  },
  {
   "cell_type": "code",
   "execution_count": 4,
   "metadata": {},
   "outputs": [
    {
     "name": "stdout",
     "output_type": "stream",
     "text": [
      "My name is John\n",
      "My name is John\n",
      "My name is John\n",
      "My name is Jason\n"
     ]
    }
   ],
   "source": [
    "# Same with strings\n",
    "x = \"My name is John\"\n",
    "y = x\n",
    "print(x)\n",
    "print(y)\n",
    "\n",
    "y = \"My name is Jason\"\n",
    "print(x)\n",
    "print(y)\n",
    "\n",
    "# For later on: This does not hold for lists!"
   ]
  },
  {
   "cell_type": "markdown",
   "metadata": {},
   "source": [
    "## Data types\n",
    "### Strings\n",
    "### Floats and integers\n",
    "### Booleans"
   ]
  },
  {
   "cell_type": "code",
   "execution_count": 2,
   "metadata": {},
   "outputs": [
    {
     "name": "stdout",
     "output_type": "stream",
     "text": [
      "pizza\n",
      "burger\n",
      "b\n",
      "<class 'str'>\n",
      "<class 'str'>\n",
      "The first letter is p\n",
      "The second letter is i\n",
      "5\n",
      "I like pizza and eggs\n",
      "Bring me 3 shrubberies, Martin!\n"
     ]
    }
   ],
   "source": [
    "# Data types built into Python\n",
    "\n",
    "# Strings - letter characters \n",
    "food = 'pizza'\n",
    "other_food = \"burger\"\n",
    "just_another_char = 'b'\n",
    "print(food)\n",
    "print(other_food)\n",
    "print(just_another_char)\n",
    "\n",
    "## The computer just remembers a number of characters - pizza does not mean anything at the moment\n",
    "## Other than p,i,z,z,a\n",
    "\n",
    "# How do we know what type it is? Well we ask\n",
    "print(type(food))\n",
    "\n",
    "# If python sees characters (or a mix of char and numbers) then it generally saves it as type string\n",
    "print(type('one is 1'))\n",
    "\n",
    "# We can access the characters of a string by index with bracket\n",
    "# notation, starting at index zero.\n",
    "first_letter = food[0]\n",
    "second_letter = food[1]\n",
    "print(\"The first letter is \" + first_letter)\n",
    "print(\"The second letter is \" + second_letter)\n",
    "\n",
    "\n",
    "# We can use the built-in `len()` function to get a string's\n",
    "# \"length\", or the number of characters it contains.\n",
    "print(len(food))\n",
    "\n",
    "# We can concatenate two strings together into one string with\n",
    "# the `+` operator.\n",
    "superfood = food + \" and eggs\"\n",
    "print(\"I like \" + superfood)\n",
    "\n",
    "# We can fill in strings using the `.format()` string method.\n",
    "name = \"Martin\"\n",
    "cost = 3\n",
    "demand = \"Bring me {} shrubberies, {}!\"\n",
    "print(demand.format(cost, name))\n",
    "\n",
    "\n"
   ]
  },
  {
   "cell_type": "code",
   "execution_count": null,
   "metadata": {
    "collapsed": true
   },
   "outputs": [],
   "source": [
    "# Integers and floats\n",
    "\n",
    "# Integers are whole numbers\n",
    "x = 5\n",
    "print(x)\n",
    "# Just to make sure, let's check the type\n",
    "print(type(x))\n",
    "\n",
    "# Floats have decimals\n",
    "x = 5.1\n",
    "print(x)\n",
    "print(type(x))\n",
    "\n",
    "# With ints and floats we can use built in functions\n",
    "x = 5\n",
    "y = x + 5\n",
    "print(y)\n",
    "y = 20 - x\n",
    "print(y)\n",
    "y = x*2\n",
    "print(y)\n",
    "print(type(y))\n",
    "y = x / 2\n",
    "print(y)\n",
    "print(type(y))\n",
    "# Note y switched from int to float since to deal with the remainder of 5 / 2\n",
    "\n",
    "#Why the distinction?\n",
    "## Sometimes you only want to work with whole numbers (e.g. counting people in a room)\n",
    "## Don't use up extra space if you dont need to (saving 5.000000000 seems a waste if it can be saved as 5)\n",
    "## And it avoids some weird things that can happen in float\n",
    "print(0.2+0.4)\n",
    "# Why did that happen?!? Long story - and complicated story\n",
    "## That happens because it's impossible to represent .2, .4, and .6 precisely in binary\n",
    "## so there's a limit to how precise we can get\n",
    "## And that floating point can be the difference between someone landing on the moon or missing it!"
   ]
  },
  {
   "cell_type": "code",
   "execution_count": 1,
   "metadata": {},
   "outputs": [
    {
     "name": "stdout",
     "output_type": "stream",
     "text": [
      "False\n",
      "True\n",
      "What is your name \n",
      "Martin\n",
      "I want to talk to Kawhi\n"
     ]
    }
   ],
   "source": [
    "# Booleans\n",
    "## This can only take on two meanings - True or False (note that the caps are required)\n",
    "## This is useful for many things - including that it is binary 1 is True, 0 is False\n",
    "\n",
    "x = 5\n",
    "y= 8\n",
    "print(x == y)\n",
    "y = y-3\n",
    "print(x == y)\n",
    "\n",
    "# We can also evaluate the truth-yness for strings\n",
    "x = input(\"What is your name \\n\")\n",
    "\n",
    "if x == \"Kawhi Leonard\":\n",
    "    # This says if x and \"Kawhi Leonard\" is the same then move on to the next step\n",
    "    # This evaluates the entire string, basically x[0] == \"K\", x[1] == \"a\" etc.\n",
    "    # If false go to else (or sometimes do nothing)\n",
    "    print(\"It's not to late to come back\", x, \"!\")\n",
    "else:\n",
    "    print(\"I want to talk to Kawhi\")\n",
    "\n",
    "# Exercise\n",
    "\n",
    "# Make your own if else statement\n",
    "# If something is true:\n",
    "# Then do something\n",
    "# If something is false:\n",
    "# Then do this"
   ]
  },
  {
   "cell_type": "markdown",
   "metadata": {},
   "source": [
    "## Lists and loops"
   ]
  },
  {
   "cell_type": "markdown",
   "metadata": {},
   "source": [
    "### Lists"
   ]
  },
  {
   "cell_type": "code",
   "execution_count": null,
   "metadata": {
    "collapsed": true
   },
   "outputs": [],
   "source": [
    "# We create a list with [] and Python does the rest\n",
    "\n",
    "# We can create a list with nothing in it\n",
    "empty_list = []\n",
    "# List can have strings\n",
    "list_with_one_item = ['one item']\n",
    "#List can have numbers\n",
    "list_with_one_item = [1]\n",
    "\n",
    "# List can be long\n",
    "# Note we have to use ' or \" to tell Python we are giving it a string\n",
    "this_is_a_list = ['a', 'b', 'c', 'd', 'e']\n",
    "\n",
    "# If not this happens\n",
    "this_is_not_a_list = [a, b, c]"
   ]
  },
  {
   "cell_type": "code",
   "execution_count": null,
   "metadata": {
    "collapsed": true
   },
   "outputs": [],
   "source": [
    "# List can be strings, or numbers, or bools, or everything\n",
    "another_list = ['words', 42, True]\n",
    "# Why don't we have to write \"True\"? What happens if we do?"
   ]
  },
  {
   "cell_type": "code",
   "execution_count": null,
   "metadata": {
    "collapsed": true
   },
   "outputs": [],
   "source": [
    "# Lists are ordered - this is very useful\n",
    "\n",
    "# We can slice lists\n",
    "\n",
    "# By calling the position of the list \n",
    "print(this_is_a_list[1])\n",
    "# Is this the letter you were expecting?\n",
    "# Python starts counting at 0! \n",
    "\n",
    "# BTW, what happens if we don't print?\n",
    "this_is_a_list[1]\n",
    "\n"
   ]
  },
  {
   "cell_type": "code",
   "execution_count": null,
   "metadata": {
    "collapsed": true
   },
   "outputs": [],
   "source": [
    "#What happens if we slice outside of the list\n",
    "list_with_one_item[1]"
   ]
  },
  {
   "cell_type": "code",
   "execution_count": null,
   "metadata": {
    "collapsed": true
   },
   "outputs": [],
   "source": [
    "# We can slice parts of a list\n",
    "# From a certain position onwards\n",
    "print('this_is_a_list[1:]', this_is_a_list[1:])\n",
    "# Or up until a certain position\n",
    "print('this_is_a_list[:3]', this_is_a_list[:3])\n",
    "# Or combined\n",
    "print('this_is_a_list[1:3]', this_is_a_list[1:3])\n",
    "\n",
    "# Or start counting from the back\n",
    "print('this_is_a_list[-1]', this_is_a_list[-1])\n",
    "\n",
    "# NOTE, returning more than one item is returned as a list\n",
    "print(type(this_is_a_list[1:3]))\n",
    "# but single item is just a character (or a number)\n",
    "print(type(this_is_a_list[1]))\n",
    "\n"
   ]
  },
  {
   "cell_type": "code",
   "execution_count": null,
   "metadata": {
    "collapsed": true
   },
   "outputs": [],
   "source": [
    "# other useful functions\n",
    "# .sort()\n",
    "# .append()\n",
    "# .insert()\n",
    "# .index()\n"
   ]
  },
  {
   "cell_type": "markdown",
   "metadata": {},
   "source": [
    "### Loops"
   ]
  },
  {
   "cell_type": "code",
   "execution_count": null,
   "metadata": {
    "collapsed": true
   },
   "outputs": [],
   "source": [
    "# Loops\n",
    "\n",
    "print(this_is_a_list)\n",
    "\n",
    "# For loops\n",
    "for letter in this_is_a_list:\n",
    "    print(\"The letter is\", letter)\n",
    "    #print(\"The count is\", this_is_a_list.index(letter))\n",
    "    \n",
    "# The for loop does the following:\n",
    "# Take one element, number, from a 'list' of elements\n",
    "# Do something with it\n",
    "# Move on to the next element in the list"
   ]
  },
  {
   "cell_type": "code",
   "execution_count": null,
   "metadata": {
    "collapsed": true
   },
   "outputs": [],
   "source": [
    "# range is a useful function here\n",
    "for i in range(9):\n",
    "    print(i)"
   ]
  },
  {
   "cell_type": "code",
   "execution_count": null,
   "metadata": {
    "collapsed": true
   },
   "outputs": [],
   "source": [
    "# In a for loop we can do all sorts of things\n",
    "\n",
    "# Print only even numbers\n",
    "for i in range(9):\n",
    "    if i%2 == 0:\n",
    "        print(i)"
   ]
  },
  {
   "cell_type": "code",
   "execution_count": 30,
   "metadata": {},
   "outputs": [
    {
     "name": "stdout",
     "output_type": "stream",
     "text": [
      "0\n",
      "1\n",
      "Sum of 1 and 0 is 1\n",
      "2\n",
      "Sum of 2 and 1 is 3\n",
      "3\n",
      "Sum of 3 and 3 is 6\n",
      "4\n",
      "Sum of 4 and 6 is 10\n",
      "5\n",
      "Sum of 5 and 10 is 15\n",
      "6\n",
      "Sum of 6 and 15 is 21\n",
      "7\n",
      "Sum of 7 and 21 is 28\n",
      "8\n",
      "Sum of 8 and 28 is 36\n",
      "[0, 1, 3, 6, 10, 15, 21, 28, 36]\n"
     ]
    }
   ],
   "source": [
    "# Exercise: \n",
    "\n",
    "# Build a for loop that sums each number in a list to the prvious one and puts it in a list\n",
    "\n",
    "summed = []\n",
    "for i in range(9):\n",
    "    if len(summed) == 0:\n",
    "        summed.append(i)\n",
    "        print(i)\n",
    "    else:\n",
    "        summed.append(summed[(i-1)] + i)\n",
    "        print(i)\n",
    "        print(\"Sum of\", i, \"and\", summed[i-1], \"is\", summed[i-1] + i)\n",
    "\n",
    "print(summed)\n",
    "        \n"
   ]
  },
  {
   "cell_type": "code",
   "execution_count": null,
   "metadata": {
    "collapsed": true
   },
   "outputs": [],
   "source": [
    "# While loops are a bit more complicated\n",
    "\n",
    "# Check if statement is true\n",
    "# If true, do something\n",
    "# Check if statement is still true\n",
    "# If true, do something\n",
    "\n",
    "# Set the value of x\n",
    "x = 0\n",
    "\n",
    "# Now we are going to check the value of x, then do something and then change x\n",
    "while x < 10:\n",
    "    # If x is less than 10 print the value\n",
    "    print(x)\n",
    "    # Add 1 to x (so we are counting). The new x (x+1) is then checked against 10\n",
    "    x += 1"
   ]
  },
  {
   "cell_type": "code",
   "execution_count": 32,
   "metadata": {},
   "outputs": [
    {
     "name": "stdout",
     "output_type": "stream",
     "text": [
      "You died, you have 2 lives left\n",
      "pew pew\n",
      "pew pew\n",
      "You died, you have 1 lives left\n",
      "pew pew\n",
      "pew pew\n",
      "pew pew\n",
      "You died, you have 0 lives left\n"
     ]
    }
   ],
   "source": [
    "# Exercise \n",
    "# Lives left in a game\n",
    "# Game of chance, 50% you live, 50% you die\n",
    "\n",
    "lives_left = 3\n",
    "\n",
    "while lives_left > 0:\n",
    "    live_or_die = random.choice([\"live\", \"die\"])\n",
    "    if live_or_die == \"live\":\n",
    "        print(\"pew pew\")\n",
    "    else:\n",
    "        print(\"You died, you have {} lives left\".format(lives_left-1))\n",
    "        lives_left -= 1\n",
    "    "
   ]
  },
  {
   "cell_type": "markdown",
   "metadata": {},
   "source": [
    "## Everything is an object"
   ]
  },
  {
   "cell_type": "code",
   "execution_count": 23,
   "metadata": {},
   "outputs": [
    {
     "name": "stdout",
     "output_type": "stream",
     "text": [
      "['__abs__', '__add__', '__and__', '__bool__', '__ceil__', '__class__', '__delattr__', '__dir__', '__divmod__', '__doc__', '__eq__', '__float__', '__floor__', '__floordiv__', '__format__', '__ge__', '__getattribute__', '__getnewargs__', '__gt__', '__hash__', '__index__', '__init__', '__init_subclass__', '__int__', '__invert__', '__le__', '__lshift__', '__lt__', '__mod__', '__mul__', '__ne__', '__neg__', '__new__', '__or__', '__pos__', '__pow__', '__radd__', '__rand__', '__rdivmod__', '__reduce__', '__reduce_ex__', '__repr__', '__rfloordiv__', '__rlshift__', '__rmod__', '__rmul__', '__ror__', '__round__', '__rpow__', '__rrshift__', '__rshift__', '__rsub__', '__rtruediv__', '__rxor__', '__setattr__', '__sizeof__', '__str__', '__sub__', '__subclasshook__', '__truediv__', '__trunc__', '__xor__', 'bit_length', 'conjugate', 'denominator', 'from_bytes', 'imag', 'numerator', 'real', 'to_bytes']\n",
      "\n",
      "['__add__', '__class__', '__contains__', '__delattr__', '__dir__', '__doc__', '__eq__', '__format__', '__ge__', '__getattribute__', '__getitem__', '__getnewargs__', '__gt__', '__hash__', '__init__', '__init_subclass__', '__iter__', '__le__', '__len__', '__lt__', '__mod__', '__mul__', '__ne__', '__new__', '__reduce__', '__reduce_ex__', '__repr__', '__rmod__', '__rmul__', '__setattr__', '__sizeof__', '__str__', '__subclasshook__', 'capitalize', 'casefold', 'center', 'count', 'encode', 'endswith', 'expandtabs', 'find', 'format', 'format_map', 'index', 'isalnum', 'isalpha', 'isdecimal', 'isdigit', 'isidentifier', 'islower', 'isnumeric', 'isprintable', 'isspace', 'istitle', 'isupper', 'join', 'ljust', 'lower', 'lstrip', 'maketrans', 'partition', 'replace', 'rfind', 'rindex', 'rjust', 'rpartition', 'rsplit', 'rstrip', 'split', 'splitlines', 'startswith', 'strip', 'swapcase', 'title', 'translate', 'upper', 'zfill']\n"
     ]
    }
   ],
   "source": [
    "# Everything is an object\n",
    "# It has a type and unique id\n",
    "# And has characteristics telling it what it can and can't do\n",
    "print(dir(1))\n",
    "print(\"\")\n",
    "print(dir('hello word'))\n",
    "\n",
    "# Don't worry about this, but its good to remember that someone defined what 1 is and what you can and can't do with 1\n",
    "# Programming often entails creating a new object - and specifying what this object can and can't do\n",
    "# E.g.\n",
    "# class Quark(object):\n",
    "\n",
    "#     def __init__(self, color, flavor):\n",
    "#         self.color = color\n",
    "#         self.flavor = flavor\n",
    "\n",
    "#     baryon_number = 1 / 3\n",
    "\n",
    "#     def interact(self, other_quark):\n",
    "#         self.color, other_quark.color = other_quark.color, self.color\n",
    "\n",
    "#     def __repr__(self):\n",
    "#         return \"{} {} quark\".format(self.color, self.flavor)\n",
    "\n",
    "# # Now that we have the class set up, let's call Quark() to create two\n",
    "# # actual instances of quark objects.\n",
    "# q1 = Quark(\"red\", \"up\")\n",
    "# q2 = Quark(\"blue\", \"down\")\n",
    "\n",
    "# # Print each object to see what they look like.\n",
    "# print(\"q1 is a {}\".format(q1))\n",
    "# print(\"q2 is a {}\".format(q2))\n",
    "\n",
    "# # Test our interact() method by having q1 and q2 interact.\n",
    "# q1.interact(q2)\n",
    "\n",
    "# # Print them out again to see how they changed.\n",
    "# print(\"Now q1 is a {}\".format(q1))\n",
    "# print(\"Now q2 is a {}\".format(q2))"
   ]
  },
  {
   "cell_type": "code",
   "execution_count": null,
   "metadata": {
    "collapsed": true
   },
   "outputs": [],
   "source": []
  }
 ],
 "metadata": {
  "kernelspec": {
   "display_name": "Python 3",
   "language": "python",
   "name": "python3"
  },
  "language_info": {
   "codemirror_mode": {
    "name": "ipython",
    "version": 3
   },
   "file_extension": ".py",
   "mimetype": "text/x-python",
   "name": "python",
   "nbconvert_exporter": "python",
   "pygments_lexer": "ipython3",
   "version": "3.6.1"
  }
 },
 "nbformat": 4,
 "nbformat_minor": 2
}
