{
  "nbformat": 4,
  "nbformat_minor": 0,
  "metadata": {
    "colab": {
      "name": "Woodgreen Data Science Camp_Week 4_Instructions to Computers",
      "provenance": [],
      "authorship_tag": "ABX9TyNffXYJ8AecSYBYoN410ReN",
      "include_colab_link": true
    },
    "kernelspec": {
      "name": "python3",
      "display_name": "Python 3"
    }
  },
  "cells": [
    {
      "cell_type": "markdown",
      "metadata": {
        "id": "view-in-github",
        "colab_type": "text"
      },
      "source": [
        "<a href=\"https://colab.research.google.com/github/tjido/woodgreen/blob/master/Woodgreen_Data_Science_Camp_Week_4_Instructions_to_Computers.ipynb\" target=\"_parent\"><img src=\"https://colab.research.google.com/assets/colab-badge.svg\" alt=\"Open In Colab\"/></a>"
      ]
    },
    {
      "cell_type": "markdown",
      "metadata": {
        "id": "A7vEpjwwIN07",
        "colab_type": "text"
      },
      "source": [
        "<h1>Fireside Analytics Tutorial - Woodgreen Summer Camp_Week 4</h1>\n",
        "\n",
        "\n",
        "<h4><B>\"Data science is the process of ethically acquiring, engineering, analyzing, visualizaing and ultimately, creating value with data.\" - Shingai Manjengwa</h4></B>\n",
        "\n",
        "<h4><p>In this tutorial, participants will practice giving computers instuctions by writing Python code.</p> \n",
        "<p>For more information about this tutorial or other tutorials by Fireside Analytics, contact: info@firesideanalytics.com</p></h4>\n",
        "\n",
        "<h3><strong>Table of contents</h3>\n",
        "<div class=\"alert alert-block alert-info\" style=\"margin-top: 20px\">\n",
        "    <ol>\n",
        "        <li>Practice giving a computer instructions: 'Drawing with a Turtle'</li>\n",
        "          </ol></strong>\n",
        "\n",
        "<p>Python has a number of predefined groups of instructions called 'packages' so we don't have to write all the instructions from the beginning. ColabTurtle is an exmaple of a package that will let us draw in Python. Once we have ColabTurtle up and running by following the code below, we can start practicing how to give computers instructions! </p> \n",
        "</div>\n",
        "<br>\n",
        "<hr>"
      ]
    },
    {
      "cell_type": "markdown",
      "metadata": {
        "id": "xGcpn-PLH0BD",
        "colab_type": "text"
      },
      "source": [
        "Here are the commands you can use: \n",
        "*   forward(units)\n",
        "*   backward(units)\n",
        "*   right(degrees)\n",
        "*   face(degrees)\n",
        "*   left(degrees)\n",
        "*   penup()\n",
        "*   pendown()\n",
        "*   speed(speed)\n",
        "*   setx(x)\n",
        "*   sety(y)\n",
        "*   getx()\n",
        "*   gety()\n",
        "*   goto(x, y)\n",
        "*   showturtle()\n",
        "*   hideturtle()\n",
        "*   bgcolor(color)\n",
        "*   color(color)\n",
        "*   width(width)\n",
        "\n",
        "***Don't forget the brackets ( ) after the command"
      ]
    },
    {
      "cell_type": "code",
      "metadata": {
        "id": "CPJZ0hEbGex0",
        "colab_type": "code",
        "colab": {
          "base_uri": "https://localhost:8080/",
          "height": 538
        },
        "outputId": "c41ba1a3-c8f2-4f50-9dd6-adfc28ee57a3"
      },
      "source": [
        "## First we call the ColabTurtle package into our Google Colab environment using the '!pip3 install' commands\n",
        "## Then we use the 'import' command to bring in all the instructions associated with the 'ColabTurtle' package and call those instructions 't'\n",
        "## We can name the instructions 't' or something else, as long as we remember what we've called it\n",
        "## Then we 'run' the instructions with the 'initializeTurtle()' command\n",
        "!pip3 install ColabTurtle\n",
        "import ColabTurtle.Turtle as t\n",
        "t.initializeTurtle()"
      ],
      "execution_count": null,
      "outputs": [
        {
          "output_type": "stream",
          "text": [
            "Requirement already satisfied: ColabTurtle in /usr/local/lib/python3.6/dist-packages (2.0.0)\n"
          ],
          "name": "stdout"
        },
        {
          "output_type": "display_data",
          "data": {
            "text/html": [
              "\n",
              "      <svg width=\"800\" height=\"500\">\n",
              "        <rect width=\"100%\" height=\"100%\" fill=\"black\"/>\n",
              "        \n",
              "        \n",
              "      <g visibility=visible transform=\"rotate(180,400,250) translate(400, 250)\">\n",
              "        <circle stroke=\"white\" stroke-width=\"3\" fill=\"transparent\" r=\"12\" cx=\"0\" cy=\"0\"/>\n",
              "        <polygon points=\"0,19 3,16 -3,16\" style=\"fill:white;stroke:white;stroke-width:2\"/>\n",
              "      </g>\n",
              "    \n",
              "      </svg>\n",
              "    "
            ],
            "text/plain": [
              "<IPython.core.display.HTML object>"
            ]
          },
          "metadata": {
            "tags": []
          }
        }
      ]
    },
    {
      "cell_type": "code",
      "metadata": {
        "id": "sHnOTSQQGIJf",
        "colab_type": "code",
        "colab": {
          "base_uri": "https://localhost:8080/",
          "height": 539
        },
        "outputId": "1cc2b18a-c450-49b3-9d28-34ca9427ef00"
      },
      "source": [
        "## Now that we have the Turtle canvas or blank page, we can start adding instructions!\n",
        "## Here are the instructions for a square\n",
        "\n",
        "forward(50)\n",
        "right(90)\n",
        "forward(50)\n",
        "right(90)\n",
        "forward(50)\n",
        "right(90)\n",
        "forward(50)\n",
        "right(90)\n",
        "\n",
        "## We're going to use the ''' symbols to block off the next lines of code until we're ready to use them\n",
        "## The instructions we used above created a square - now ***remove*** the ''' symbols at the beginning and end of this next code block\n",
        "\n",
        "'''\n",
        "forward(100)\n",
        "right(90)\n",
        "forward(100)\n",
        "right(90)\n",
        "forward(100)\n",
        "right(90)\n",
        "forward(100)\n",
        "right(90)\n",
        "'''\n",
        "\n"
      ],
      "execution_count": null,
      "outputs": [
        {
          "output_type": "display_data",
          "data": {
            "text/html": [
              "\n",
              "      <svg width=\"800\" height=\"500\">\n",
              "        <rect width=\"100%\" height=\"100%\" fill=\"black\"/>\n",
              "        <line x1=\"400\" y1=\"250\" x2=\"400.0\" y2=\"200.0\" stroke-linecap=\"round\" style=\"stroke:white;stroke-width:4\"/><line x1=\"400.0\" y1=\"200.0\" x2=\"450.0\" y2=\"200.0\" stroke-linecap=\"round\" style=\"stroke:white;stroke-width:4\"/><line x1=\"450.0\" y1=\"200.0\" x2=\"450.0\" y2=\"250.0\" stroke-linecap=\"round\" style=\"stroke:white;stroke-width:4\"/><line x1=\"450.0\" y1=\"250.0\" x2=\"400.0\" y2=\"250.0\" stroke-linecap=\"round\" style=\"stroke:white;stroke-width:4\"/>\n",
              "        \n",
              "      <g visibility=visible transform=\"rotate(180,400.0,250.0) translate(400.0, 250.0)\">\n",
              "        <circle stroke=\"white\" stroke-width=\"3\" fill=\"transparent\" r=\"12\" cx=\"0\" cy=\"0\"/>\n",
              "        <polygon points=\"0,19 3,16 -3,16\" style=\"fill:white;stroke:white;stroke-width:2\"/>\n",
              "      </g>\n",
              "    \n",
              "      </svg>\n",
              "    "
            ],
            "text/plain": [
              "<IPython.core.display.HTML object>"
            ]
          },
          "metadata": {
            "tags": []
          }
        },
        {
          "output_type": "execute_result",
          "data": {
            "application/vnd.google.colaboratory.intrinsic+json": {
              "type": "string"
            },
            "text/plain": [
              "'\\nforward(150)\\nright(90)\\nforward(150)\\nright(90)\\nforward(150)\\nright(90)\\nforward(150)\\nright(90)\\n'"
            ]
          },
          "metadata": {
            "tags": []
          },
          "execution_count": 25
        }
      ]
    },
    {
      "cell_type": "markdown",
      "metadata": {
        "id": "5DSAn9OpHyfV",
        "colab_type": "text"
      },
      "source": [
        ""
      ]
    },
    {
      "cell_type": "code",
      "metadata": {
        "id": "dJivOPrnGk6G",
        "colab_type": "code",
        "colab": {
          "base_uri": "https://localhost:8080/",
          "height": 521
        },
        "outputId": "537602a2-eb03-4a4a-e69b-e376730ca57d"
      },
      "source": [
        "## Lastly, what do you think will happen if you remove these last ''' symbols before and after this next code block\n",
        "\n",
        "forward(150)\n",
        "right(90)\n",
        "forward(150)\n",
        "right(90)\n",
        "forward(150)\n",
        "right(90)\n",
        "forward(150)\n",
        "right(90)"
      ],
      "execution_count": null,
      "outputs": [
        {
          "output_type": "display_data",
          "data": {
            "text/html": [
              "\n",
              "      <svg width=\"800\" height=\"500\">\n",
              "        <rect width=\"100%\" height=\"100%\" fill=\"black\"/>\n",
              "        <line x1=\"400\" y1=\"250\" x2=\"400.0\" y2=\"200.0\" stroke-linecap=\"round\" style=\"stroke:white;stroke-width:4\"/><line x1=\"400.0\" y1=\"200.0\" x2=\"450.0\" y2=\"200.0\" stroke-linecap=\"round\" style=\"stroke:white;stroke-width:4\"/><line x1=\"450.0\" y1=\"200.0\" x2=\"450.0\" y2=\"250.0\" stroke-linecap=\"round\" style=\"stroke:white;stroke-width:4\"/><line x1=\"450.0\" y1=\"250.0\" x2=\"400.0\" y2=\"250.0\" stroke-linecap=\"round\" style=\"stroke:white;stroke-width:4\"/><line x1=\"400.0\" y1=\"250.0\" x2=\"400.0\" y2=\"100.0\" stroke-linecap=\"round\" style=\"stroke:white;stroke-width:4\"/><line x1=\"400.0\" y1=\"100.0\" x2=\"550.0\" y2=\"100.0\" stroke-linecap=\"round\" style=\"stroke:white;stroke-width:4\"/><line x1=\"550.0\" y1=\"100.0\" x2=\"550.0\" y2=\"250.0\" stroke-linecap=\"round\" style=\"stroke:white;stroke-width:4\"/><line x1=\"550.0\" y1=\"250.0\" x2=\"400.0\" y2=\"250.00000000000003\" stroke-linecap=\"round\" style=\"stroke:white;stroke-width:4\"/><line x1=\"400.0\" y1=\"250.00000000000003\" x2=\"400.0\" y2=\"100.00000000000003\" stroke-linecap=\"round\" style=\"stroke:white;stroke-width:4\"/><line x1=\"400.0\" y1=\"100.00000000000003\" x2=\"550.0\" y2=\"100.00000000000003\" stroke-linecap=\"round\" style=\"stroke:white;stroke-width:4\"/><line x1=\"550.0\" y1=\"100.00000000000003\" x2=\"550.0\" y2=\"250.00000000000003\" stroke-linecap=\"round\" style=\"stroke:white;stroke-width:4\"/><line x1=\"550.0\" y1=\"250.00000000000003\" x2=\"400.0\" y2=\"250.00000000000006\" stroke-linecap=\"round\" style=\"stroke:white;stroke-width:4\"/>\n",
              "        \n",
              "      <g visibility=visible transform=\"rotate(180,400.0,250.00000000000006) translate(400.0, 250.00000000000006)\">\n",
              "        <circle stroke=\"white\" stroke-width=\"3\" fill=\"transparent\" r=\"12\" cx=\"0\" cy=\"0\"/>\n",
              "        <polygon points=\"0,19 3,16 -3,16\" style=\"fill:white;stroke:white;stroke-width:2\"/>\n",
              "      </g>\n",
              "    \n",
              "      </svg>\n",
              "    "
            ],
            "text/plain": [
              "<IPython.core.display.HTML object>"
            ]
          },
          "metadata": {
            "tags": []
          }
        }
      ]
    },
    {
      "cell_type": "code",
      "metadata": {
        "id": "JLaBBkdUOwtI",
        "colab_type": "code",
        "colab": {}
      },
      "source": [
        "## Notice the code you write draws on top of the other pictures you have already drawn?\n",
        "## To clear the page, you would have to re-call a blank page!\n",
        "## See how computers need very specific instructions!\n",
        "\n",
        "## Now, let's move the point where we start drawing by 10 points\n",
        "## Then draw the next bigger squares\n"
      ],
      "execution_count": null,
      "outputs": []
    },
    {
      "cell_type": "code",
      "metadata": {
        "id": "Jz-jGCqBQOcH",
        "colab_type": "code",
        "colab": {
          "base_uri": "https://localhost:8080/",
          "height": 521
        },
        "outputId": "b7596604-9748-48ee-91ef-741fc9276f28"
      },
      "source": [
        "t.initializeTurtle()\n",
        "\n",
        "forward(50)\n",
        "right(90)\n",
        "forward(50)\n",
        "right(90)\n",
        "forward(50)\n",
        "right(90)\n",
        "forward(50)\n",
        "right(90)\n",
        "\n",
        "## Let's move the point where we start drawing by 5 points\n",
        "\n",
        "penup()\n",
        "forward(10)\n",
        "pendown()\n",
        "\n",
        "## Then draw the next bigger square\n",
        "\n",
        "forward(100)\n",
        "right(90)\n",
        "forward(100)\n",
        "right(90)\n",
        "forward(100)\n",
        "right(90)\n",
        "forward(100)\n",
        "right(90)\n",
        "\n",
        "## And again\n",
        "penup()\n",
        "forward(10)\n",
        "pendown()\n",
        "\n",
        "## Then draw the next bigger square\n",
        "forward(150)\n",
        "right(90)\n",
        "forward(150)\n",
        "right(90)\n",
        "forward(150)\n",
        "right(90)\n",
        "forward(150)\n",
        "right(90)"
      ],
      "execution_count": null,
      "outputs": [
        {
          "output_type": "display_data",
          "data": {
            "text/html": [
              "\n",
              "      <svg width=\"800\" height=\"500\">\n",
              "        <rect width=\"100%\" height=\"100%\" fill=\"black\"/>\n",
              "        <line x1=\"400\" y1=\"250\" x2=\"400.0\" y2=\"200.0\" stroke-linecap=\"round\" style=\"stroke:white;stroke-width:4\"/><line x1=\"400.0\" y1=\"200.0\" x2=\"450.0\" y2=\"200.0\" stroke-linecap=\"round\" style=\"stroke:white;stroke-width:4\"/><line x1=\"450.0\" y1=\"200.0\" x2=\"450.0\" y2=\"250.0\" stroke-linecap=\"round\" style=\"stroke:white;stroke-width:4\"/><line x1=\"450.0\" y1=\"250.0\" x2=\"400.0\" y2=\"250.0\" stroke-linecap=\"round\" style=\"stroke:white;stroke-width:4\"/><line x1=\"400.0\" y1=\"205.0\" x2=\"400.0\" y2=\"105.0\" stroke-linecap=\"round\" style=\"stroke:white;stroke-width:4\"/><line x1=\"400.0\" y1=\"105.0\" x2=\"500.0\" y2=\"105.0\" stroke-linecap=\"round\" style=\"stroke:white;stroke-width:4\"/><line x1=\"500.0\" y1=\"105.0\" x2=\"500.0\" y2=\"205.0\" stroke-linecap=\"round\" style=\"stroke:white;stroke-width:4\"/><line x1=\"500.0\" y1=\"205.0\" x2=\"400.0\" y2=\"205.0\" stroke-linecap=\"round\" style=\"stroke:white;stroke-width:4\"/><line x1=\"400.0\" y1=\"160.0\" x2=\"400.0\" y2=\"10.0\" stroke-linecap=\"round\" style=\"stroke:white;stroke-width:4\"/><line x1=\"400.0\" y1=\"10.0\" x2=\"550.0\" y2=\"10.0\" stroke-linecap=\"round\" style=\"stroke:white;stroke-width:4\"/><line x1=\"550.0\" y1=\"10.0\" x2=\"550.0\" y2=\"160.0\" stroke-linecap=\"round\" style=\"stroke:white;stroke-width:4\"/><line x1=\"550.0\" y1=\"160.0\" x2=\"400.0\" y2=\"160.00000000000003\" stroke-linecap=\"round\" style=\"stroke:white;stroke-width:4\"/>\n",
              "        \n",
              "      <g visibility=visible transform=\"rotate(180,400.0,160.00000000000003) translate(400.0, 160.00000000000003)\">\n",
              "        <circle stroke=\"white\" stroke-width=\"3\" fill=\"transparent\" r=\"12\" cx=\"0\" cy=\"0\"/>\n",
              "        <polygon points=\"0,19 3,16 -3,16\" style=\"fill:white;stroke:white;stroke-width:2\"/>\n",
              "      </g>\n",
              "    \n",
              "      </svg>\n",
              "    "
            ],
            "text/plain": [
              "<IPython.core.display.HTML object>"
            ]
          },
          "metadata": {
            "tags": []
          }
        }
      ]
    },
    {
      "cell_type": "code",
      "metadata": {
        "id": "-HVYdiPER0uO",
        "colab_type": "code",
        "colab": {
          "base_uri": "https://localhost:8080/",
          "height": 521
        },
        "outputId": "dd748335-88a8-45cc-f3ff-95455ef45c5e"
      },
      "source": [
        "##Let's try and draw a circle \n",
        "\n",
        "t.initializeTurtle()\n",
        "\n",
        "def polygon(length, n):\n",
        "    for _ in range(n):\n",
        "        t.forward(length)\n",
        "        t.left(180 / n)\n",
        "\n",
        "polygon(5, 20)\n",
        "\n",
        "## What is happening here? How can we fix it?"
      ],
      "execution_count": null,
      "outputs": [
        {
          "output_type": "display_data",
          "data": {
            "text/html": [
              "\n",
              "      <svg width=\"800\" height=\"500\">\n",
              "        <rect width=\"100%\" height=\"100%\" fill=\"black\"/>\n",
              "        <line x1=\"400\" y1=\"250\" x2=\"400.0\" y2=\"245.0\" stroke-linecap=\"round\" style=\"stroke:white;stroke-width:4\"/><line x1=\"400.0\" y1=\"245.0\" x2=\"399.68604740235344\" y2=\"240.00986635785864\" stroke-linecap=\"round\" style=\"stroke:white;stroke-width:4\"/><line x1=\"399.68604740235344\" y1=\"240.00986635785864\" x2=\"399.0593812345319\" y2=\"235.04929285128625\" stroke-linecap=\"round\" style=\"stroke:white;stroke-width:4\"/><line x1=\"399.0593812345319\" y1=\"235.04929285128625\" x2=\"398.12247466160323\" y2=\"230.1378565976428\" stroke-linecap=\"round\" style=\"stroke:white;stroke-width:4\"/><line x1=\"398.12247466160323\" y1=\"230.1378565976428\" x2=\"396.87902522577895\" y2=\"225.29494079199966\" stroke-linecap=\"round\" style=\"stroke:white;stroke-width:4\"/><line x1=\"396.87902522577895\" y1=\"225.29494079199966\" x2=\"395.3339402539042\" y2=\"220.5396582105239\" stroke-linecap=\"round\" style=\"stroke:white;stroke-width:4\"/><line x1=\"395.3339402539042\" y1=\"220.5396582105239\" x2=\"393.4933174904808\" y2=\"215.89077578108265\" stroke-linecap=\"round\" style=\"stroke:white;stroke-width:4\"/><line x1=\"393.4933174904808\" y1=\"215.89077578108265\" x2=\"391.36442103265546\" y2=\"211.36664051875255\" stroke-linecap=\"round\" style=\"stroke:white;stroke-width:4\"/><line x1=\"391.36442103265546\" y1=\"211.36664051875255\" x2=\"388.95565266214686\" y2=\"206.98510711853322\" stroke-linecap=\"round\" style=\"stroke:white;stroke-width:4\"/><line x1=\"388.95565266214686\" y1=\"206.98510711853322\" x2=\"386.2765186872519\" y2=\"202.76346749102314\" stroke-linecap=\"round\" style=\"stroke:white;stroke-width:4\"/><line x1=\"386.2765186872519\" y1=\"202.76346749102314\" x2=\"383.3375924257895\" y2=\"198.7183825191484\" stroke-linecap=\"round\" style=\"stroke:white;stroke-width:4\"/><line x1=\"383.3375924257895\" y1=\"198.7183825191484\" x2=\"380.1504724770461\" y2=\"194.86581630526945\" stroke-linecap=\"round\" style=\"stroke:white;stroke-width:4\"/><line x1=\"380.1504724770461\" y1=\"194.86581630526945\" x2=\"376.72773694740266\" y2=\"191.2209731681624\" stroke-linecap=\"round\" style=\"stroke:white;stroke-width:4\"/><line x1=\"376.72773694740266\" y1=\"191.2209731681624\" x2=\"373.0828938102956\" y2=\"187.79823763851897\" stroke-linecap=\"round\" style=\"stroke:white;stroke-width:4\"/><line x1=\"373.0828938102956\" y1=\"187.79823763851897\" x2=\"369.23032759641666\" y2=\"184.6111176897755\" stroke-linecap=\"round\" style=\"stroke:white;stroke-width:4\"/><line x1=\"369.23032759641666\" y1=\"184.6111176897755\" x2=\"365.1852426245419\" y2=\"181.67219142831314\" stroke-linecap=\"round\" style=\"stroke:white;stroke-width:4\"/><line x1=\"365.1852426245419\" y1=\"181.67219142831314\" x2=\"360.96360299703184\" y2=\"178.99305745341815\" stroke-linecap=\"round\" style=\"stroke:white;stroke-width:4\"/><line x1=\"360.96360299703184\" y1=\"178.99305745341815\" x2=\"356.5820695968125\" y2=\"176.58428908290958\" stroke-linecap=\"round\" style=\"stroke:white;stroke-width:4\"/><line x1=\"356.5820695968125\" y1=\"176.58428908290958\" x2=\"352.0579343344824\" y2=\"174.45539262508422\" stroke-linecap=\"round\" style=\"stroke:white;stroke-width:4\"/><line x1=\"352.0579343344824\" y1=\"174.45539262508422\" x2=\"347.40905190504117\" y2=\"172.61476986166082\" stroke-linecap=\"round\" style=\"stroke:white;stroke-width:4\"/><line x1=\"347.40905190504117\" y1=\"172.61476986166082\" x2=\"342.6537693235654\" y2=\"171.0696848897861\" stroke-linecap=\"round\" style=\"stroke:white;stroke-width:4\"/><line x1=\"342.6537693235654\" y1=\"171.0696848897861\" x2=\"337.8108535179223\" y2=\"169.8262354539618\" stroke-linecap=\"round\" style=\"stroke:white;stroke-width:4\"/><line x1=\"337.8108535179223\" y1=\"169.8262354539618\" x2=\"332.89941726427884\" y2=\"168.88932888103318\" stroke-linecap=\"round\" style=\"stroke:white;stroke-width:4\"/><line x1=\"332.89941726427884\" y1=\"168.88932888103318\" x2=\"327.9388437577064\" y2=\"168.26266271321165\" stroke-linecap=\"round\" style=\"stroke:white;stroke-width:4\"/><line x1=\"327.9388437577064\" y1=\"168.26266271321165\" x2=\"322.94871011556506\" y2=\"167.9487101155651\" stroke-linecap=\"round\" style=\"stroke:white;stroke-width:4\"/><line x1=\"322.94871011556506\" y1=\"167.9487101155651\" x2=\"317.94871011556506\" y2=\"167.9487101155651\" stroke-linecap=\"round\" style=\"stroke:white;stroke-width:4\"/><line x1=\"317.94871011556506\" y1=\"167.9487101155651\" x2=\"312.9585764734237\" y2=\"168.26266271321165\" stroke-linecap=\"round\" style=\"stroke:white;stroke-width:4\"/><line x1=\"312.9585764734237\" y1=\"168.26266271321165\" x2=\"307.9980029668513\" y2=\"168.88932888103318\" stroke-linecap=\"round\" style=\"stroke:white;stroke-width:4\"/><line x1=\"307.9980029668513\" y1=\"168.88932888103318\" x2=\"303.08656671320784\" y2=\"169.8262354539618\" stroke-linecap=\"round\" style=\"stroke:white;stroke-width:4\"/><line x1=\"303.08656671320784\" y1=\"169.8262354539618\" x2=\"298.2436509075647\" y2=\"171.06968488978606\" stroke-linecap=\"round\" style=\"stroke:white;stroke-width:4\"/><line x1=\"298.2436509075647\" y1=\"171.06968488978606\" x2=\"293.4883683260889\" y2=\"172.6147698616608\" stroke-linecap=\"round\" style=\"stroke:white;stroke-width:4\"/><line x1=\"293.4883683260889\" y1=\"172.6147698616608\" x2=\"288.83948589664766\" y2=\"174.45539262508416\" stroke-linecap=\"round\" style=\"stroke:white;stroke-width:4\"/><line x1=\"288.83948589664766\" y1=\"174.45539262508416\" x2=\"284.31535063431755\" y2=\"176.58428908290952\" stroke-linecap=\"round\" style=\"stroke:white;stroke-width:4\"/><line x1=\"284.31535063431755\" y1=\"176.58428908290952\" x2=\"279.9338172340982\" y2=\"178.9930574534181\" stroke-linecap=\"round\" style=\"stroke:white;stroke-width:4\"/><line x1=\"279.9338172340982\" y1=\"178.9930574534181\" x2=\"275.71217760658817\" y2=\"181.67219142831306\" stroke-linecap=\"round\" style=\"stroke:white;stroke-width:4\"/><line x1=\"275.71217760658817\" y1=\"181.67219142831306\" x2=\"271.6670926347134\" y2=\"184.61111768977543\" stroke-linecap=\"round\" style=\"stroke:white;stroke-width:4\"/><line x1=\"271.6670926347134\" y1=\"184.61111768977543\" x2=\"267.81452642083445\" y2=\"187.79823763851886\" stroke-linecap=\"round\" style=\"stroke:white;stroke-width:4\"/><line x1=\"267.81452642083445\" y1=\"187.79823763851886\" x2=\"264.1696832837274\" y2=\"191.2209731681623\" stroke-linecap=\"round\" style=\"stroke:white;stroke-width:4\"/><line x1=\"264.1696832837274\" y1=\"191.2209731681623\" x2=\"260.746947754084\" y2=\"194.86581630526933\" stroke-linecap=\"round\" style=\"stroke:white;stroke-width:4\"/><line x1=\"260.746947754084\" y1=\"194.86581630526933\" x2=\"257.55982780534055\" y2=\"198.71838251914826\" stroke-linecap=\"round\" style=\"stroke:white;stroke-width:4\"/><line x1=\"257.55982780534055\" y1=\"198.71838251914826\" x2=\"254.62090154387818\" y2=\"202.763467491023\" stroke-linecap=\"round\" style=\"stroke:white;stroke-width:4\"/><line x1=\"254.62090154387818\" y1=\"202.763467491023\" x2=\"251.94176756898318\" y2=\"206.98510711853305\" stroke-linecap=\"round\" style=\"stroke:white;stroke-width:4\"/><line x1=\"251.94176756898318\" y1=\"206.98510711853305\" x2=\"249.53299919847458\" y2=\"211.36664051875238\" stroke-linecap=\"round\" style=\"stroke:white;stroke-width:4\"/><line x1=\"249.53299919847458\" y1=\"211.36664051875238\" x2=\"247.40410274064922\" y2=\"215.89077578108248\" stroke-linecap=\"round\" style=\"stroke:white;stroke-width:4\"/><line x1=\"247.40410274064922\" y1=\"215.89077578108248\" x2=\"245.56347997722582\" y2=\"220.53965821052373\" stroke-linecap=\"round\" style=\"stroke:white;stroke-width:4\"/><line x1=\"245.56347997722582\" y1=\"220.53965821052373\" x2=\"244.01839500535107\" y2=\"225.2949407919995\" stroke-linecap=\"round\" style=\"stroke:white;stroke-width:4\"/><line x1=\"244.01839500535107\" y1=\"225.2949407919995\" x2=\"242.77494556952678\" y2=\"230.13785659764264\" stroke-linecap=\"round\" style=\"stroke:white;stroke-width:4\"/><line x1=\"242.77494556952678\" y1=\"230.13785659764264\" x2=\"241.83803899659813\" y2=\"235.04929285128608\" stroke-linecap=\"round\" style=\"stroke:white;stroke-width:4\"/><line x1=\"241.83803899659813\" y1=\"235.04929285128608\" x2=\"241.2113728287766\" y2=\"240.00986635785847\" stroke-linecap=\"round\" style=\"stroke:white;stroke-width:4\"/><line x1=\"241.2113728287766\" y1=\"240.00986635785847\" x2=\"240.89742023113\" y2=\"244.99999999999983\" stroke-linecap=\"round\" style=\"stroke:white;stroke-width:4\"/>\n",
              "        \n",
              "      <g visibility=visible transform=\"rotate(1.9895196601282805e-13,240.89742023113,244.99999999999983) translate(240.89742023113, 244.99999999999983)\">\n",
              "        <circle stroke=\"white\" stroke-width=\"3\" fill=\"transparent\" r=\"12\" cx=\"0\" cy=\"0\"/>\n",
              "        <polygon points=\"0,19 3,16 -3,16\" style=\"fill:white;stroke:white;stroke-width:2\"/>\n",
              "      </g>\n",
              "    \n",
              "      </svg>\n",
              "    "
            ],
            "text/plain": [
              "<IPython.core.display.HTML object>"
            ]
          },
          "metadata": {
            "tags": []
          }
        }
      ]
    },
    {
      "cell_type": "markdown",
      "metadata": {
        "id": "A6m1c6DeUNGj",
        "colab_type": "text"
      },
      "source": [
        "```\n",
        "## The code we wrote is a shortcut that draws a regular polygon or shape of 'n' sides and it looks like a shape with 180 sides. It looks like half a circle.\n",
        "\n",
        "How many degrees are in half a circle? How many degrees does a whole cicle have?\n",
        "Try it with the number of degrees in a circle!\n",
        "```\n",
        "\n"
      ]
    },
    {
      "cell_type": "markdown",
      "metadata": {
        "id": "ozJX_TD9D7mU",
        "colab_type": "text"
      },
      "source": [
        "#Conclusion\n",
        "\n",
        "1.   Computer programming is just a series of instructions to get a computer to execute on very specific commands.\n",
        "2.   Computer programming environments like Google Colab, that we are accessing through our browser, has some predefined instructions called 'packages' so we don't have to write all code from scratch.\n",
        "3. We can call packages and they will execute on the predefined instructions and then we can add more code that we write ourselves.\n",
        "\n",
        "Practice making different shapes in ColabTurtle\n",
        "\n",
        "\n",
        "\n",
        "\n",
        "\n"
      ]
    },
    {
      "cell_type": "markdown",
      "metadata": {
        "id": "sipRcJ84f_bZ",
        "colab_type": "text"
      },
      "source": [
        "# Contact Information\n",
        "\n",
        "Congratulations, you have completed a tutorial in the Python Programming language!\n",
        "\n",
        "\n",
        "\n",
        "Fireside Analytics Inc. | \n",
        "Instructor: Shingai Manjengwa (Twitter: @tjido) |\n",
        "Canada School of Public Service - Woodgreen Community Services 2020 |\n",
        "Contact: info@firesideanalytics.com or [www.firesideanalytics.com](www.firesideanalytics.com)\n",
        "\n",
        "Never stop learning!\n",
        "\n"
      ]
    }
  ]
}