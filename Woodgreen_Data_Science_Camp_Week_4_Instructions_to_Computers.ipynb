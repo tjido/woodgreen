{
  "nbformat": 4,
  "nbformat_minor": 0,
  "metadata": {
    "colab": {
      "name": "Woodgreen Data Science Camp_Week 4_Instructions to Computers",
      "provenance": [],
      "authorship_tag": "ABX9TyN6NXVrjDoCDvi6F/RKiyPb",
      "include_colab_link": true
    },
    "kernelspec": {
      "name": "python3",
      "display_name": "Python 3"
    }
  },
  "cells": [
    {
      "cell_type": "markdown",
      "metadata": {
        "id": "view-in-github",
        "colab_type": "text"
      },
      "source": [
        "<a href=\"https://colab.research.google.com/github/tjido/woodgreen/blob/master/Woodgreen_Data_Science_Camp_Week_4_Instructions_to_Computers.ipynb\" target=\"_parent\"><img src=\"https://colab.research.google.com/assets/colab-badge.svg\" alt=\"Open In Colab\"/></a>"
      ]
    },
    {
      "cell_type": "markdown",
      "metadata": {
        "id": "A7vEpjwwIN07",
        "colab_type": "text"
      },
      "source": [
        "<h1>Fireside Analytics Tutorial - Woodgreen Summer Camp_Week 4</h1>\n",
        "\n",
        "\n",
        "<h4><B>\"Data science is the process of ethically acquiring, engineering, analyzing, visualizaing and ultimately, creating value with data.\" - Shingai Manjengwa</h4></B>\n",
        "\n",
        "<h4><p>In this tutorial, participants will practice giving computers instuctions by writing Python code. Don't forget to scroll down to see your code output and for more instructions!</p> \n",
        "<p>For more information about this tutorial or other tutorials by Fireside Analytics, contact: info@firesideanalytics.com</p></h4>\n",
        "\n",
        "<h3><strong>Table of contents</h3>\n",
        "<div class=\"alert alert-block alert-info\" style=\"margin-top: 20px\">\n",
        "    <ol>\n",
        "        <li>Practice giving a computer instructions: 'Drawing with a Turtle'</li>\n",
        "          </ol></strong>\n",
        "\n",
        "<p>Python has a number of predefined groups of instructions called 'packages' so we don't have to write all the instructions from the beginning. ColabTurtle is an exmaple of a package that will let us draw in Python. Once we have ColabTurtle up and running by following the code below, we can start practicing how to give computers instructions! </p> \n",
        "</div>\n",
        "<br>\n",
        "<hr>"
      ]
    },
    {
      "cell_type": "markdown",
      "metadata": {
        "id": "xGcpn-PLH0BD",
        "colab_type": "text"
      },
      "source": [
        "Here are the commands you can use: \n",
        "*   forward(units)\n",
        "*   backward(units)\n",
        "*   right(degrees)\n",
        "*   face(degrees)\n",
        "*   left(degrees)\n",
        "*   penup()\n",
        "*   pendown()\n",
        "*   speed(speed)\n",
        "*   setx(x)\n",
        "*   sety(y)\n",
        "*   getx()\n",
        "*   gety()\n",
        "*   goto(x, y)\n",
        "*   showturtle()\n",
        "*   hideturtle()\n",
        "*   bgcolor(color)\n",
        "*   color(color)\n",
        "*   width(width)\n",
        "\n",
        "***Don't forget the brackets ( ) after the command"
      ]
    },
    {
      "cell_type": "code",
      "metadata": {
        "id": "CPJZ0hEbGex0",
        "colab_type": "code",
        "colab": {
          "base_uri": "https://localhost:8080/",
          "height": 538
        },
        "outputId": "57ca7e77-ed50-4660-e601-13abab4b2f06"
      },
      "source": [
        "## First we call the ColabTurtle package into our Google Colab environment using the '!pip3 install' commands\n",
        "## Then we use the 'import' command to bring in all the instructions associated with the 'ColabTurtle' package and call those instructions 't'\n",
        "## We can name the instructions 't' or something else, as long as we remember what we've called it\n",
        "## Then we 'run' the instructions with the 'initializeTurtle()' command\n",
        "!pip3 install ColabTurtle\n",
        "import ColabTurtle.Turtle as t\n",
        "t.initializeTurtle()\n"
      ],
      "execution_count": 2,
      "outputs": [
        {
          "output_type": "stream",
          "text": [
            "Requirement already satisfied: ColabTurtle in /usr/local/lib/python3.6/dist-packages (2.0.0)\n"
          ],
          "name": "stdout"
        },
        {
          "output_type": "display_data",
          "data": {
            "text/html": [
              "\n",
              "      <svg width=\"800\" height=\"500\">\n",
              "        <rect width=\"100%\" height=\"100%\" fill=\"black\"/>\n",
              "        \n",
              "        \n",
              "      <g visibility=visible transform=\"rotate(180,400,250) translate(400, 250)\">\n",
              "        <circle stroke=\"white\" stroke-width=\"3\" fill=\"transparent\" r=\"12\" cx=\"0\" cy=\"0\"/>\n",
              "        <polygon points=\"0,19 3,16 -3,16\" style=\"fill:white;stroke:white;stroke-width:2\"/>\n",
              "      </g>\n",
              "    \n",
              "      </svg>\n",
              "    "
            ],
            "text/plain": [
              "<IPython.core.display.HTML object>"
            ]
          },
          "metadata": {
            "tags": []
          }
        }
      ]
    },
    {
      "cell_type": "code",
      "metadata": {
        "id": "fkxJrBVcZroS",
        "colab_type": "code",
        "colab": {
          "base_uri": "https://localhost:8080/",
          "height": 521
        },
        "outputId": "9edfe54e-9029-4a39-fb86-a035ff7a3cc4"
      },
      "source": [
        "t.forward (50)"
      ],
      "execution_count": 6,
      "outputs": [
        {
          "output_type": "display_data",
          "data": {
            "text/html": [
              "\n",
              "      <svg width=\"800\" height=\"500\">\n",
              "        <rect width=\"100%\" height=\"100%\" fill=\"black\"/>\n",
              "        <line x1=\"400\" y1=\"250\" x2=\"400.0\" y2=\"200.0\" stroke-linecap=\"round\" style=\"stroke:white;stroke-width:4\"/>\n",
              "        \n",
              "      <g visibility=visible transform=\"rotate(180,400.0,200.0) translate(400.0, 200.0)\">\n",
              "        <circle stroke=\"white\" stroke-width=\"3\" fill=\"transparent\" r=\"12\" cx=\"0\" cy=\"0\"/>\n",
              "        <polygon points=\"0,19 3,16 -3,16\" style=\"fill:white;stroke:white;stroke-width:2\"/>\n",
              "      </g>\n",
              "    \n",
              "      </svg>\n",
              "    "
            ],
            "text/plain": [
              "<IPython.core.display.HTML object>"
            ]
          },
          "metadata": {
            "tags": []
          }
        }
      ]
    },
    {
      "cell_type": "code",
      "metadata": {
        "id": "sHnOTSQQGIJf",
        "colab_type": "code",
        "colab": {
          "base_uri": "https://localhost:8080/",
          "height": 539
        },
        "outputId": "61397ebe-8f2e-4981-e206-da4d1f957630"
      },
      "source": [
        "## Now that we have the Turtle canvas or blank page, we can start adding instructions!\n",
        "## Here are the instructions for a square\n",
        "\n",
        "t.forward(50)\n",
        "t.right(90)\n",
        "t.forward(50)\n",
        "t.right(90)\n",
        "t.forward(50)\n",
        "t.right(90)\n",
        "t.forward(50)\n",
        "t.right(90)\n",
        "\n",
        "## We're going to use the ''' symbols to block off the next lines of code until we're ready to use them\n",
        "## The instructions we used above created a square - now ***remove*** the ''' symbols at the beginning and end of this next code block\n",
        "## Check the code above, what is missing from the code below? What changes do you need to make for the code to run?\n",
        "\n",
        "'''\n",
        "forward(100)\n",
        "right(90)\n",
        "forward(100)\n",
        "right(90)\n",
        "forward(100)\n",
        "right(90)\n",
        "forward(100)\n",
        "right(90)\n",
        "'''\n",
        "\n"
      ],
      "execution_count": 7,
      "outputs": [
        {
          "output_type": "display_data",
          "data": {
            "text/html": [
              "\n",
              "      <svg width=\"800\" height=\"500\">\n",
              "        <rect width=\"100%\" height=\"100%\" fill=\"black\"/>\n",
              "        <line x1=\"400\" y1=\"250\" x2=\"400.0\" y2=\"200.0\" stroke-linecap=\"round\" style=\"stroke:white;stroke-width:4\"/><line x1=\"400.0\" y1=\"200.0\" x2=\"400.0\" y2=\"150.0\" stroke-linecap=\"round\" style=\"stroke:white;stroke-width:4\"/><line x1=\"400.0\" y1=\"150.0\" x2=\"450.0\" y2=\"150.0\" stroke-linecap=\"round\" style=\"stroke:white;stroke-width:4\"/><line x1=\"450.0\" y1=\"150.0\" x2=\"450.0\" y2=\"200.0\" stroke-linecap=\"round\" style=\"stroke:white;stroke-width:4\"/><line x1=\"450.0\" y1=\"200.0\" x2=\"400.0\" y2=\"200.0\" stroke-linecap=\"round\" style=\"stroke:white;stroke-width:4\"/>\n",
              "        \n",
              "      <g visibility=visible transform=\"rotate(180,400.0,200.0) translate(400.0, 200.0)\">\n",
              "        <circle stroke=\"white\" stroke-width=\"3\" fill=\"transparent\" r=\"12\" cx=\"0\" cy=\"0\"/>\n",
              "        <polygon points=\"0,19 3,16 -3,16\" style=\"fill:white;stroke:white;stroke-width:2\"/>\n",
              "      </g>\n",
              "    \n",
              "      </svg>\n",
              "    "
            ],
            "text/plain": [
              "<IPython.core.display.HTML object>"
            ]
          },
          "metadata": {
            "tags": []
          }
        },
        {
          "output_type": "execute_result",
          "data": {
            "application/vnd.google.colaboratory.intrinsic+json": {
              "type": "string"
            },
            "text/plain": [
              "'\\nforward(100)\\nright(90)\\nforward(100)\\nright(90)\\nforward(100)\\nright(90)\\nforward(100)\\nright(90)\\n'"
            ]
          },
          "metadata": {
            "tags": []
          },
          "execution_count": 7
        }
      ]
    },
    {
      "cell_type": "markdown",
      "metadata": {
        "id": "5DSAn9OpHyfV",
        "colab_type": "text"
      },
      "source": [
        ""
      ]
    },
    {
      "cell_type": "code",
      "metadata": {
        "id": "dJivOPrnGk6G",
        "colab_type": "code",
        "colab": {}
      },
      "source": [
        "## Lastly, what do you think will happen if you remove these last ''' symbols before and after this next code block\n",
        "\n",
        "t.forward(150)\n",
        "t.right(90)\n",
        "t.forward(150)\n",
        "t.right(90)\n",
        "t.forward(150)\n",
        "t.right(90)\n",
        "t.forward(150)\n",
        "t.right(90)"
      ],
      "execution_count": null,
      "outputs": []
    },
    {
      "cell_type": "code",
      "metadata": {
        "id": "JLaBBkdUOwtI",
        "colab_type": "code",
        "colab": {}
      },
      "source": [
        "## Notice the code you write draws on top of the other pictures you have already drawn?\n",
        "## To clear the page, you would have to re-call a blank page!\n",
        "## See how computers need very specific instructions!\n",
        "\n",
        "## Now, let's move the point where we start drawing by 10 points\n",
        "## Then draw the next bigger squares\n"
      ],
      "execution_count": null,
      "outputs": []
    },
    {
      "cell_type": "code",
      "metadata": {
        "id": "Jz-jGCqBQOcH",
        "colab_type": "code",
        "colab": {}
      },
      "source": [
        "t.initializeTurtle()\n",
        "\n",
        "t.forward(50)\n",
        "t.right(90)\n",
        "t.forward(50)\n",
        "t.right(90)\n",
        "t.forward(50)\n",
        "t.right(90)\n",
        "t.forward(50)\n",
        "t.right(90)\n",
        "\n",
        "## Let's move the point where we start drawing by 5 points\n",
        "\n",
        "t.penup()\n",
        "t.forward(10)\n",
        "t.pendown()\n",
        "\n",
        "## Then draw the next bigger square\n",
        "\n",
        "t.forward(100)\n",
        "t.right(90)\n",
        "t.forward(100)\n",
        "t.right(90)\n",
        "t.forward(100)\n",
        "t.right(90)\n",
        "t.forward(100)\n",
        "t.right(90)\n",
        "\n",
        "## And again\n",
        "t.penup()\n",
        "t.forward(10)\n",
        "t.pendown()\n",
        "\n",
        "## Then draw the next bigger square\n",
        "t.forward(150)\n",
        "t.right(90)\n",
        "t.forward(150)\n",
        "t.right(90)\n",
        "t.forward(150)\n",
        "t.right(90)\n",
        "t.forward(150)\n",
        "t.right(90)"
      ],
      "execution_count": null,
      "outputs": []
    },
    {
      "cell_type": "code",
      "metadata": {
        "id": "-HVYdiPER0uO",
        "colab_type": "code",
        "colab": {
          "base_uri": "https://localhost:8080/",
          "height": 521
        },
        "outputId": "6d150005-4adb-4965-bc2a-956929d1d56b"
      },
      "source": [
        "##Let's try and draw a circle \n",
        "\n",
        "t.initializeTurtle()\n",
        "\n",
        "def polygon(length, n):\n",
        "    for _ in range(n):\n",
        "        t.forward(length)\n",
        "        t.left(180 / n)\n",
        "\n",
        "polygon(5, 20)\n",
        "\n",
        "## What is happening here? How can we fix the code to make a circle?"
      ],
      "execution_count": 8,
      "outputs": [
        {
          "output_type": "display_data",
          "data": {
            "text/html": [
              "\n",
              "      <svg width=\"800\" height=\"500\">\n",
              "        <rect width=\"100%\" height=\"100%\" fill=\"black\"/>\n",
              "        <line x1=\"400\" y1=\"250\" x2=\"400.0\" y2=\"245.0\" stroke-linecap=\"round\" style=\"stroke:white;stroke-width:4\"/><line x1=\"400.0\" y1=\"245.0\" x2=\"399.21782767479885\" y2=\"240.0615582970243\" stroke-linecap=\"round\" style=\"stroke:white;stroke-width:4\"/><line x1=\"399.21782767479885\" y1=\"240.0615582970243\" x2=\"397.6727427029241\" y2=\"235.30627571554854\" stroke-linecap=\"round\" style=\"stroke:white;stroke-width:4\"/><line x1=\"397.6727427029241\" y1=\"235.30627571554854\" x2=\"395.40279020422633\" y2=\"230.8512430946067\" stroke-linecap=\"round\" style=\"stroke:white;stroke-width:4\"/><line x1=\"395.40279020422633\" y1=\"230.8512430946067\" x2=\"392.46386394276396\" y2=\"226.80615812273197\" stroke-linecap=\"round\" style=\"stroke:white;stroke-width:4\"/><line x1=\"392.46386394276396\" y1=\"226.80615812273197\" x2=\"388.9283300368312\" y2=\"223.27062421679923\" stroke-linecap=\"round\" style=\"stroke:white;stroke-width:4\"/><line x1=\"388.9283300368312\" y1=\"223.27062421679923\" x2=\"384.88324506495644\" y2=\"220.33169795533686\" stroke-linecap=\"round\" style=\"stroke:white;stroke-width:4\"/><line x1=\"384.88324506495644\" y1=\"220.33169795533686\" x2=\"380.4282124440146\" y2=\"218.06174545663913\" stroke-linecap=\"round\" style=\"stroke:white;stroke-width:4\"/><line x1=\"380.4282124440146\" y1=\"218.06174545663913\" x2=\"375.6729298625388\" y2=\"216.5166604847644\" stroke-linecap=\"round\" style=\"stroke:white;stroke-width:4\"/><line x1=\"375.6729298625388\" y1=\"216.5166604847644\" x2=\"370.7344881595631\" y2=\"215.73448815956326\" stroke-linecap=\"round\" style=\"stroke:white;stroke-width:4\"/><line x1=\"370.7344881595631\" y1=\"215.73448815956326\" x2=\"365.7344881595631\" y2=\"215.73448815956326\" stroke-linecap=\"round\" style=\"stroke:white;stroke-width:4\"/><line x1=\"365.7344881595631\" y1=\"215.73448815956326\" x2=\"360.7960464565874\" y2=\"216.5166604847644\" stroke-linecap=\"round\" style=\"stroke:white;stroke-width:4\"/><line x1=\"360.7960464565874\" y1=\"216.5166604847644\" x2=\"356.0407638751117\" y2=\"218.06174545663913\" stroke-linecap=\"round\" style=\"stroke:white;stroke-width:4\"/><line x1=\"356.0407638751117\" y1=\"218.06174545663913\" x2=\"351.58573125416984\" y2=\"220.33169795533686\" stroke-linecap=\"round\" style=\"stroke:white;stroke-width:4\"/><line x1=\"351.58573125416984\" y1=\"220.33169795533686\" x2=\"347.5406462822951\" y2=\"223.27062421679923\" stroke-linecap=\"round\" style=\"stroke:white;stroke-width:4\"/><line x1=\"347.5406462822951\" y1=\"223.27062421679923\" x2=\"344.0051123763624\" y2=\"226.80615812273197\" stroke-linecap=\"round\" style=\"stroke:white;stroke-width:4\"/><line x1=\"344.0051123763624\" y1=\"226.80615812273197\" x2=\"341.0661861149\" y2=\"230.8512430946067\" stroke-linecap=\"round\" style=\"stroke:white;stroke-width:4\"/><line x1=\"341.0661861149\" y1=\"230.8512430946067\" x2=\"338.7962336162023\" y2=\"235.30627571554854\" stroke-linecap=\"round\" style=\"stroke:white;stroke-width:4\"/><line x1=\"338.7962336162023\" y1=\"235.30627571554854\" x2=\"337.25114864432754\" y2=\"240.0615582970243\" stroke-linecap=\"round\" style=\"stroke:white;stroke-width:4\"/><line x1=\"337.25114864432754\" y1=\"240.0615582970243\" x2=\"336.4689763191264\" y2=\"245.0\" stroke-linecap=\"round\" style=\"stroke:white;stroke-width:4\"/>\n",
              "        \n",
              "      <g visibility=visible transform=\"rotate(0.0,336.4689763191264,245.0) translate(336.4689763191264, 245.0)\">\n",
              "        <circle stroke=\"white\" stroke-width=\"3\" fill=\"transparent\" r=\"12\" cx=\"0\" cy=\"0\"/>\n",
              "        <polygon points=\"0,19 3,16 -3,16\" style=\"fill:white;stroke:white;stroke-width:2\"/>\n",
              "      </g>\n",
              "    \n",
              "      </svg>\n",
              "    "
            ],
            "text/plain": [
              "<IPython.core.display.HTML object>"
            ]
          },
          "metadata": {
            "tags": []
          }
        }
      ]
    },
    {
      "cell_type": "markdown",
      "metadata": {
        "id": "A6m1c6DeUNGj",
        "colab_type": "text"
      },
      "source": [
        "```\n",
        "## The code we wrote is a shortcut that draws a regular polygon or shape of 'n' sides and it looks like a shape with 180 sides. It looks like half a circle.\n",
        "\n",
        "How many degrees are in half a circle? How many degrees does a whole cicle have?\n",
        "Try it with the number of degrees in a circle!\n",
        "```\n",
        "\n"
      ]
    },
    {
      "cell_type": "markdown",
      "metadata": {
        "id": "ozJX_TD9D7mU",
        "colab_type": "text"
      },
      "source": [
        "#Conclusion\n",
        "\n",
        "1.   Computer programming is just a series of instructions to get a computer to execute on very specific commands.\n",
        "2.   Computer programming environments like Google Colab, that we are accessing through our browser, has some predefined instructions called 'packages' so we don't have to write all code from scratch.\n",
        "3. We can call packages and they will execute on the predefined instructions and then we can add more code that we write ourselves.\n",
        "\n",
        "Practice making different shapes in ColabTurtle\n",
        "\n",
        "\n",
        "\n",
        "\n",
        "\n"
      ]
    },
    {
      "cell_type": "markdown",
      "metadata": {
        "id": "sipRcJ84f_bZ",
        "colab_type": "text"
      },
      "source": [
        "# Contact Information\n",
        "\n",
        "Congratulations, you have completed a tutorial in the Python Programming language!\n",
        "\n",
        "\n",
        "\n",
        "Fireside Analytics Inc. | \n",
        "Instructor: Shingai Manjengwa (Twitter: @tjido) |\n",
        "Canada School of Public Service - Woodgreen Community Services 2020 |\n",
        "Contact: info@firesideanalytics.com or [www.firesideanalytics.com](www.firesideanalytics.com)\n",
        "\n",
        "Never stop learning!\n",
        "\n"
      ]
    }
  ]
}