{
  "nbformat": 4,
  "nbformat_minor": 0,
  "metadata": {
    "celltoolbar": "Slideshow",
    "kernelspec": {
      "display_name": "Python 3.6",
      "language": "python",
      "name": "python3"
    },
    "language_info": {
      "codemirror_mode": {
        "name": "ipython",
        "version": 3
      },
      "file_extension": ".py",
      "mimetype": "text/x-python",
      "name": "python",
      "nbconvert_exporter": "python",
      "pygments_lexer": "ipython3",
      "version": "3.6.9"
    },
    "colab": {
      "name": "Woodgreen Summer Camp_Week 1 & 2",
      "provenance": [],
      "collapsed_sections": [],
      "toc_visible": true,
      "include_colab_link": true
    }
  },
  "cells": [
    {
      "cell_type": "markdown",
      "metadata": {
        "id": "view-in-github",
        "colab_type": "text"
      },
      "source": [
        "<a href=\"https://colab.research.google.com/github/tjido/woodgreen/blob/master/Woodgreen_Summer_Camp_Week_1_%26_2.ipynb\" target=\"_parent\"><img src=\"https://colab.research.google.com/assets/colab-badge.svg\" alt=\"Open In Colab\"/></a>"
      ]
    },
    {
      "cell_type": "markdown",
      "metadata": {
        "id": "hTUpGjrXRrPD",
        "colab_type": "text"
      },
      "source": [
        "# Fireside Analytics_Woodgreen Summer Camp_Week 1 & 2"
      ]
    },
    {
      "cell_type": "markdown",
      "metadata": {
        "id": "6q335toNRrPF",
        "colab_type": "text"
      },
      "source": [
        "<h1>Fireside Analytics Tutorial - Woodgreen Summer Camp_Week 1 & 2</h1>\n",
        "\n",
        "\n",
        "<h4>Data science is the process of ethically acquiring, engineering, analyzing, visualizaing and ultimately, creating value with data.\n",
        "\n",
        "<p>In this tutorial, participants will gain experience analyzing a data set in a Python cloud environment using Jupiter notebook in Google Colab.</p> </h4>\n",
        "<p>For more information about this tutorial or other tutorials by Fireside Analytics, contact: info@firesideanalytics.com</p>\n",
        "\n",
        "<h3><strong>Table of contents</h3>\n",
        "<div class=\"alert alert-block alert-info\" style=\"margin-top: 20px\">\n",
        "    <ol>\n",
        "        <li>How does a computer work?</li>\n",
        "        <Li>What is \"data\"?</li>\n",
        "        <li>Working with data</li>\n",
        "    </ol>\n",
        "</div>\n",
        "<br>\n",
        "<hr>"
      ]
    },
    {
      "cell_type": "markdown",
      "metadata": {
        "id": "FlwuUW6L6fV3",
        "colab_type": "text"
      },
      "source": [
        "**Let's get started! Firstly, this page you are reading is not regular website, it is an interactive computer programming environment called a Colab notebook that lets you write and execute code in Python.**"
      ]
    },
    {
      "cell_type": "markdown",
      "metadata": {
        "id": "EC4QnPjS41xc",
        "colab_type": "text"
      },
      "source": [
        "# 1. How does a computer work?"
      ]
    },
    {
      "cell_type": "markdown",
      "metadata": {
        "id": "rgDnpC-zc0kD",
        "colab_type": "text"
      },
      "source": [
        "## A computer is a device that takes INPUTS, does some PROCESSES and results in OUTPUTS\n",
        "\n",
        "EXAMPLES OF INPUTS\n",
        "1.   Keyboard\n",
        "2.   Mouse\n",
        "3.   Touch screen\n",
        "\n",
        "PROCESSES\n",
        "1.   CPU - Central Processing Unit\n",
        "2.   Data storage\n",
        "3.   Converts inputs from words and numbers to 1s and 0s\n",
        "4.   Computes 1s and 0s\n",
        "5.   Produces outputs and information\n",
        "\n",
        "OUTPUTS\n",
        "1.   Screen - words, numbers, pictures or sounds\n",
        "2.   Printer\n",
        "3.   Speaker\n"
      ]
    },
    {
      "cell_type": "markdown",
      "metadata": {
        "id": "fX1ZV9H9RrPH",
        "colab_type": "text"
      },
      "source": [
        "# 2. What is \"data\"?"
      ]
    },
    {
      "cell_type": "markdown",
      "metadata": {
        "colab_type": "text",
        "id": "G0Mqvml-i8br"
      },
      "source": [
        "## A computer is a device that takes INPUTS, does some PROCESSES and results in OUTPUTS\n",
        "1. Computers use many on and off switches to work\n",
        "2. The 'on' switch is represented by a '1' and the 'off' switch is \n",
        "3. A BIT is a one or a zero, and a BYTE is a combination of 8 ones and zeros e.g., 1100 0010\n",
        "4. Combinations of Ones and Zeros in a computer, represent whole words and numbers, symbols and even pictures in the real world\n",
        "5. Information stored in ones and zeros, in bits and bytes, is data!\n",
        "\n",
        "*   The letter a =  0110 0001\n",
        "*   The letter b =  0110 0010\n",
        "*   The letter A =  0100 0001\n",
        "*   The letter B =  0100 0010\n",
        "*   The symbol @ =  1000 0000\n",
        "\n",
        "## This conversion is done with the ASCII Code, American Standard Code Information Interchange"
      ]
    },
    {
      "cell_type": "markdown",
      "metadata": {
        "id": "rBp4oY9Wq7E6",
        "colab_type": "text"
      },
      "source": [
        ""
      ]
    },
    {
      "cell_type": "markdown",
      "metadata": {
        "colab_type": "text",
        "id": "BV854zZSq7uD"
      },
      "source": [
        "# 3. Working with data"
      ]
    },
    {
      "cell_type": "markdown",
      "metadata": {
        "id": "wuwMUpcaRrPI",
        "colab_type": "text"
      },
      "source": [
        "### Let's get to know Python. The following code is an example of a Python Progam. Run the code by clicking on the 'play' button and you will see the result of your program beneath the code."
      ]
    },
    {
      "cell_type": "code",
      "metadata": {
        "id": "QPQqVqfc7Dgh",
        "colab_type": "code",
        "colab": {
          "base_uri": "https://localhost:8080/",
          "height": 34
        },
        "outputId": "68761bef-969a-424d-d560-3f1d4e12181d"
      },
      "source": [
        "print (\"Hello, World\")"
      ],
      "execution_count": 1,
      "outputs": [
        {
          "output_type": "stream",
          "text": [
            "Hello, World\n"
          ],
          "name": "stdout"
        }
      ]
    },
    {
      "cell_type": "code",
      "metadata": {
        "id": "M16LofDG_iCa",
        "colab_type": "code",
        "colab": {
          "base_uri": "https://localhost:8080/",
          "height": 34
        },
        "outputId": "6a3dbccb-19f1-4afa-a803-dd3ed24070cf"
      },
      "source": [
        "## We can do calculations here\n",
        "2 + 2"
      ],
      "execution_count": 10,
      "outputs": [
        {
          "output_type": "execute_result",
          "data": {
            "text/plain": [
              "4"
            ]
          },
          "metadata": {
            "tags": []
          },
          "execution_count": 10
        }
      ]
    },
    {
      "cell_type": "markdown",
      "metadata": {
        "id": "GnUICGCW7vtw",
        "colab_type": "text"
      },
      "source": [
        "Remember we said Netflix users stream 404,444 hours of movies every minute? Let's calculate how many years that is!"
      ]
    },
    {
      "cell_type": "code",
      "metadata": {
        "id": "_xSyRXHH7s53",
        "colab_type": "code",
        "colab": {}
      },
      "source": [
        "## From hours to days, we divide by 24\n",
        "days_watching_netflix = 404444/24"
      ],
      "execution_count": 6,
      "outputs": []
    },
    {
      "cell_type": "code",
      "metadata": {
        "id": "a-zT2Z8a8urK",
        "colab_type": "code",
        "colab": {
          "base_uri": "https://localhost:8080/",
          "height": 34
        },
        "outputId": "933fdc4c-241c-49ce-c7bb-fab55e0cca56"
      },
      "source": [
        "# Let's look at what's in this new object we've just created!\n",
        "days_watching_netflix"
      ],
      "execution_count": 8,
      "outputs": [
        {
          "output_type": "execute_result",
          "data": {
            "text/plain": [
              "16851.833333333332"
            ]
          },
          "metadata": {
            "tags": []
          },
          "execution_count": 8
        }
      ]
    },
    {
      "cell_type": "code",
      "metadata": {
        "id": "SvLdP05g7tBd",
        "colab_type": "code",
        "colab": {}
      },
      "source": [
        "## From days to years, we divide by 365\n",
        "years_watching_netflix = days_watching_netflix/365"
      ],
      "execution_count": 7,
      "outputs": []
    },
    {
      "cell_type": "code",
      "metadata": {
        "id": "X_2eUFRT7ske",
        "colab_type": "code",
        "colab": {
          "base_uri": "https://localhost:8080/",
          "height": 34
        },
        "outputId": "1d0265f6-0011-49bb-b178-92dfb1437316"
      },
      "source": [
        "## Let's look at what's in this new object we've just created!\n",
        "years_watching_netflix"
      ],
      "execution_count": 9,
      "outputs": [
        {
          "output_type": "execute_result",
          "data": {
            "text/plain": [
              "46.16940639269406"
            ]
          },
          "metadata": {
            "tags": []
          },
          "execution_count": 9
        }
      ]
    },
    {
      "cell_type": "markdown",
      "metadata": {
        "id": "VheMannb89R0",
        "colab_type": "text"
      },
      "source": [
        "In **1 minute**, all around the world, we 46,17 years of Netflix movies are streamed!!"
      ]
    },
    {
      "cell_type": "markdown",
      "metadata": {
        "id": "SYhx4bflFNp5",
        "colab_type": "text"
      },
      "source": [
        "How could we have done the survey in Python? We type 'input' to let Python know to wait for a user response. Once you type in the name, Python will remember it!"
      ]
    },
    {
      "cell_type": "code",
      "metadata": {
        "id": "D6sTsZwUFR3Z",
        "colab_type": "code",
        "colab": {}
      },
      "source": [
        "response_1 = input(\"Response 1: What is your name?\")"
      ],
      "execution_count": null,
      "outputs": []
    },
    {
      "cell_type": "code",
      "metadata": {
        "id": "4lUBLevAFgx1",
        "colab_type": "code",
        "colab": {}
      },
      "source": [
        "## We can now look at the response\n",
        "response_1"
      ],
      "execution_count": null,
      "outputs": []
    },
    {
      "cell_type": "code",
      "metadata": {
        "id": "TjBjUDJTF3vx",
        "colab_type": "code",
        "colab": {}
      },
      "source": [
        "response_2 = input(\"Response 2: What is your name?\")\n",
        "response_3 = input(\"Response 3: What is your name?\")\n",
        "response_4 = input(\"Response 4: What is your name?\")\n",
        "response_5 = input(\"Response 5: What is your name?\")"
      ],
      "execution_count": null,
      "outputs": []
    },
    {
      "cell_type": "markdown",
      "metadata": {
        "id": "PDFAP2QmGUXM",
        "colab_type": "text"
      },
      "source": [
        "Let's look at response_5"
      ]
    },
    {
      "cell_type": "markdown",
      "metadata": {
        "id": "gy-L-KE49W4w",
        "colab_type": "text"
      },
      "source": [
        "We can also add the names one at a time by typing them."
      ]
    },
    {
      "cell_type": "code",
      "metadata": {
        "id": "7IR-dmN1-4A0",
        "colab_type": "code",
        "colab": {}
      },
      "source": [
        "## Let's create an object for the 5 names from question 1\n",
        "survey_names = [\"nyasha\", \"tapiwa\", \"jared\", \"david\", \"sarah\"]"
      ],
      "execution_count": 14,
      "outputs": []
    },
    {
      "cell_type": "code",
      "metadata": {
        "id": "rPwARUGmAxLu",
        "colab_type": "code",
        "colab": {
          "base_uri": "https://localhost:8080/",
          "height": 34
        },
        "outputId": "06182218-3234-4381-d239-43d2945dfa30"
      },
      "source": [
        "## Let's look at the object we've just created!\n",
        "survey_names"
      ],
      "execution_count": 15,
      "outputs": [
        {
          "output_type": "execute_result",
          "data": {
            "text/plain": [
              "['nyasha', 'tapiwa', 'jared', 'david', 'sarah']"
            ]
          },
          "metadata": {
            "tags": []
          },
          "execution_count": 15
        }
      ]
    },
    {
      "cell_type": "code",
      "metadata": {
        "id": "Z0MeO3gqA410",
        "colab_type": "code",
        "colab": {
          "base_uri": "https://localhost:8080/",
          "height": 34
        },
        "outputId": "a34b04f4-74a2-4d57-b02d-de816d5dbafb"
      },
      "source": [
        "print(survey_names)"
      ],
      "execution_count": 16,
      "outputs": [
        {
          "output_type": "stream",
          "text": [
            "['nyasha', 'tapiwa', 'jared', 'david', 'sarah']\n"
          ],
          "name": "stdout"
        }
      ]
    },
    {
      "cell_type": "code",
      "metadata": {
        "id": "cqv2SK8ZvFc1",
        "colab_type": "code",
        "colab": {}
      },
      "source": [
        "import matplotlib.pyplot as plt; plt.rcdefaults()\n",
        "import numpy as np\n",
        "import matplotlib.pyplot as plt\n",
        "\n",
        "y_pos = np.arange(len(survey_names))\n",
        "survey_know_how_computers_work = [\"yes\",\"yes\",\"yes\",\"no\",\"no\"]\n",
        "\n",
        "plt.bar(y_pos, performance, align='center', alpha=0.5)\n",
        "plt.xticks(y_pos, objects)\n",
        "plt.ylabel('Usage')\n",
        "plt.title('Woodgreen Data Science Program: Survey Results')\n",
        "\n",
        "plt.show()\n"
      ],
      "execution_count": null,
      "outputs": []
    },
    {
      "cell_type": "markdown",
      "metadata": {
        "id": "OldE5zdcRrP6",
        "colab_type": "text"
      },
      "source": [
        "## Let's look at the survey responses to question 2 ('yes' or 'no' or 'maybe')"
      ]
    },
    {
      "cell_type": "code",
      "metadata": {
        "id": "9_4z2CeGRrRm",
        "colab_type": "code",
        "colab": {
          "base_uri": "https://localhost:8080/",
          "height": 472
        },
        "outputId": "2e0cb26f-ea47-4555-e0a5-c897898fd3a6"
      },
      "source": [
        "import numpy as np\n",
        "import pandas as pd\n",
        "from pandas import Series, DataFrame\n",
        "import matplotlib.pyplot as plt\n",
        "\n",
        "data = [3,2]\n",
        "labels = ['yes', 'no']\n",
        "plt.xticks(range(len(data)), labels)\n",
        "plt.xlabel('Responses')\n",
        "plt.ylabel('Number of People')\n",
        "plt.title('Woodgreen Data Science Program: Survey Results for Questions 2: \"Do you know how a computer works?\"')\n",
        "plt.bar(range(len(data)), data) \n",
        "plt.show()\n"
      ],
      "execution_count": 21,
      "outputs": [
        {
          "output_type": "display_data",
          "data": {
            "image/png": "[encoded data removed]",
            "text/plain": [
              "<Figure size 640x480 with 1 Axes>"
            ]
          },
          "metadata": {
            "tags": []
          }
        }
      ]
    },
    {
      "cell_type": "markdown",
      "metadata": {
        "id": "q8iTpX7_AaJl",
        "colab_type": "text"
      },
      "source": [
        "# Practice what you have learned\n"
      ]
    },
    {
      "cell_type": "markdown",
      "metadata": {
        "id": "PHZO8QQjGrVz",
        "colab_type": "text"
      },
      "source": [
        "## Practice\n",
        "* Enter the rest of your survey data and produce charts\n",
        "* What if some people responded with a 'maybe'? Try it and see\n",
        "* Change the labels and headings of your charts"
      ]
    },
    {
      "cell_type": "markdown",
      "metadata": {
        "id": "ozJX_TD9D7mU",
        "colab_type": "text"
      },
      "source": [
        "#Conclusion\n",
        "\n",
        "1.   Computer programming is a set of instructions we give a computer. \n",
        "2.   Computers must process the instructions in 'binary', in ones and zeros.\n",
        "3.   Anything 'digital' is data.\n",
        "\n",
        "\n",
        "\n",
        "\n",
        "\n"
      ]
    },
    {
      "cell_type": "markdown",
      "metadata": {
        "id": "sipRcJ84f_bZ",
        "colab_type": "text"
      },
      "source": [
        "# Contact Information"
      ]
    },
    {
      "cell_type": "markdown",
      "metadata": {
        "id": "w3tU4uFDbQ3y",
        "colab_type": "text"
      },
      "source": [
        "Congratulations, you have completed a tutorial in the Python Programming language!\n",
        "\n",
        "\n",
        "\n",
        "Fireside Analytics Inc. | \n",
        "Instructor: Shingai Manjengwa (Twitter: @tjido) |\n",
        "Woodgreen Community Services Summer Camp 2020 |\n",
        "Contact: info@firesideanalytics.com or [www.firesideanalytics.com](www.firesideanalytics.com)\n",
        "\n",
        "Never stop learning!\n",
        "\n"
      ]
    }
  ]
}