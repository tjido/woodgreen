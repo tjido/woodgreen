{
  "nbformat": 4,
  "nbformat_minor": 0,
  "metadata": {
    "colab": {
      "name": "Week 3_Fireside Analytics_Resume Builder",
      "provenance": [],
      "collapsed_sections": [],
      "authorship_tag": "ABX9TyMwzpPPC7eX6iFXw7CF0/iB",
      "include_colab_link": true
    },
    "kernelspec": {
      "name": "python3",
      "display_name": "Python 3"
    },
    "language_info": {
      "name": "python"
    }
  },
  "cells": [
    {
      "cell_type": "markdown",
      "metadata": {
        "id": "view-in-github",
        "colab_type": "text"
      },
      "source": [
        "<a href=\"https://colab.research.google.com/github/tjido/woodgreen/blob/master/Week_3_Fireside_Analytics_Resume_Builder.ipynb\" target=\"_parent\"><img src=\"https://colab.research.google.com/assets/colab-badge.svg\" alt=\"Open In Colab\"/></a>"
      ]
    },
    {
      "cell_type": "code",
      "metadata": {
        "colab": {
          "base_uri": "https://localhost:8080/"
        },
        "id": "XjtzTmlm_xdK",
        "outputId": "454a3b6d-f610-4d3f-95e0-58bfaf97405b"
      },
      "source": [
        "pip install python-docx"
      ],
      "execution_count": 17,
      "outputs": [
        {
          "output_type": "stream",
          "name": "stdout",
          "text": [
            "Requirement already satisfied: python-docx in /usr/local/lib/python3.7/dist-packages (0.8.11)\n",
            "Requirement already satisfied: lxml>=2.3.2 in /usr/local/lib/python3.7/dist-packages (from python-docx) (4.2.6)\n"
          ]
        }
      ]
    },
    {
      "cell_type": "code",
      "metadata": {
        "id": "TaZdzkF3BGgt"
      },
      "source": [
        "from docx import Document\n",
        "from docx.shared import Inches\n",
        "\n"
      ],
      "execution_count": 18,
      "outputs": []
    },
    {
      "cell_type": "code",
      "metadata": {
        "id": "EGXDEP-ZMpoc"
      },
      "source": [
        "#pip install pyttsx3"
      ],
      "execution_count": 19,
      "outputs": []
    },
    {
      "cell_type": "code",
      "metadata": {
        "id": "PU6aXnmqBT5L"
      },
      "source": [
        "#def speak(text):\n",
        "      #pyttsx3.speak(text)"
      ],
      "execution_count": 20,
      "outputs": []
    },
    {
      "cell_type": "code",
      "metadata": {
        "id": "Jag3jLnf_1eT"
      },
      "source": [
        "document = Document()\n"
      ],
      "execution_count": 21,
      "outputs": []
    },
    {
      "cell_type": "code",
      "metadata": {
        "id": "_QzZE7bg_6cw"
      },
      "source": [
        "# This exercise is about creating a resume for your future self\n",
        "# Imagine yourself 10 years in the future, what degrees will you have?\n",
        "# What jobs have you had?\n",
        "# What companies have you worked for?\n",
        "# In this section, you will enter the following information: name and email\n"
      ],
      "execution_count": 23,
      "outputs": []
    },
    {
      "cell_type": "code",
      "metadata": {
        "id": "n__SFN89Oj3-",
        "colab": {
          "base_uri": "https://localhost:8080/"
        },
        "outputId": "946f7dab-dd97-41ba-8e4e-c5fadd0ef619"
      },
      "source": [
        "name = input('What is your FULL NAME? ')\n",
        "print('Hello ' + name)\n",
        "print ('This is a Python program to help you build a resume! ')\n"
      ],
      "execution_count": 25,
      "outputs": [
        {
          "output_type": "stream",
          "name": "stdout",
          "text": [
            "What is your FULL NAME? William Poe\n",
            "Hello William Poe\n",
            "This is a Python program to help you build a resume! \n"
          ]
        }
      ]
    },
    {
      "cell_type": "code",
      "metadata": {
        "id": "MgPW_K8FPp9v",
        "colab": {
          "base_uri": "https://localhost:8080/"
        },
        "outputId": "ce350774-b0d9-4e32-fa0c-5df191dd923b"
      },
      "source": [
        "print ('Enter your email address')\n",
        "email= input('What is your EMAIL? ')"
      ],
      "execution_count": 26,
      "outputs": [
        {
          "name": "stdout",
          "output_type": "stream",
          "text": [
            "Enter your email address\n",
            "What is your EMAIL? william@poe.com\n"
          ]
        }
      ]
    },
    {
      "cell_type": "code",
      "metadata": {
        "id": "29aH5MwPP2sB",
        "colab": {
          "base_uri": "https://localhost:8080/"
        },
        "outputId": "21c46e97-2d3e-4e04-8c61-933a3e04fdc0"
      },
      "source": [
        "# First, the program will print your name and email at the top of the document\n",
        "# Add a Title to the document\n",
        "document.add_heading(name, 0)\n",
        "document.add_heading(email,4)"
      ],
      "execution_count": 27,
      "outputs": [
        {
          "output_type": "execute_result",
          "data": {
            "text/plain": [
              "<docx.text.paragraph.Paragraph at 0x7f5233a02410>"
            ]
          },
          "metadata": {},
          "execution_count": 27
        }
      ]
    },
    {
      "cell_type": "code",
      "metadata": {
        "id": "B2ZuI6CZAA0z",
        "colab": {
          "base_uri": "https://localhost:8080/"
        },
        "outputId": "7daa4a8a-c30f-4fff-ccdd-1b418ae984e2"
      },
      "source": [
        "# Personal Statement\n",
        "# This code creates a section at the beginning of your resume where you make a personal statement\n",
        "# A personal statement may describe your hopes and what you would like to accomplish\n",
        "# A personal statement may answer the question, 'why do you want this job?' \n",
        "\n",
        "document.add_heading('Personal Statement')\n",
        "personal_statement = input('Tell us about yourself? ')\n",
        "document.add_paragraph(personal_statement)\n",
        "\n"
      ],
      "execution_count": 28,
      "outputs": [
        {
          "name": "stdout",
          "output_type": "stream",
          "text": [
            "Tell us about yourself? I am looking to work as a data scientist. \n"
          ]
        },
        {
          "output_type": "execute_result",
          "data": {
            "text/plain": [
              "<docx.text.paragraph.Paragraph at 0x7f5233a9be50>"
            ]
          },
          "metadata": {},
          "execution_count": 28
        }
      ]
    },
    {
      "cell_type": "code",
      "metadata": {
        "id": "aL82Ul0YADcX",
        "colab": {
          "base_uri": "https://localhost:8080/"
        },
        "outputId": "7a09e309-f35c-45b4-f9cf-605fcd66b9c2"
      },
      "source": [
        "# In this section, you will add your work experience?\n",
        "# You may not have any work experience so you can make up work experience. \n",
        "# You will need to add a company name, what you did at that company and the start and end dates of when you worked there.\n",
        "# You can add more companies and job titles by typing 'Yes', or you can move on to the next section by typing 'No'.\n",
        "\n",
        "document.add_heading('Work Experience')\n",
        "p = document.add_paragraph()\n",
        "company = input('Enter name of the Company : ')\n",
        "from_date= input('From date : ')\n",
        "to_date=input('to_date : ')\n",
        "p.add_run(company + ' ').bold =True\n",
        "p.add_run(from_date + '-'+ to_date+'\\n').italic= True\n",
        "experience_details=input('What job title did you have at '+ company)\n",
        "p.add_run(experience_details)\n",
        "\n",
        "while True:\n",
        "      has_more_experiences =input('Do you have more Experiences? Yes or No '+' ')\n",
        "      if has_more_experiences.lower() == 'yes':\n",
        "            p = document.add_paragraph()\n",
        "            company = input('Enter name of the Company : ')\n",
        "            from_date= input('From date :')\n",
        "            to_date=input('to_date : ')\n",
        "            p.add_run(company + ' ').bold =True\n",
        "            p.add_run(from_date + '-'+ to_date+'\\n').italic= True\n",
        "            experience_details=input('What was your Job Title at '+ company + ' ')\n",
        "            p.add_run(experience_details)\n",
        "      else:\n",
        "            break\n"
      ],
      "execution_count": 29,
      "outputs": [
        {
          "name": "stdout",
          "output_type": "stream",
          "text": [
            "Enter name of the Company : Google\n",
            "From date : 2001\n",
            "to_date : 2010\n",
            "What job title did you have at GoogleData Scientist\n",
            "Do you have more Experiences? Yes or No  Yes\n",
            "Enter name of the CompanyShopify\n",
            "From date :2010\n",
            "to_date : 2022\n",
            "Describe your experience at Shopify Senior  Data Scientist\n",
            "Do you have more Experiences? Yes or No  No\n"
          ]
        }
      ]
    },
    {
      "cell_type": "code",
      "metadata": {
        "id": "K2aFcKPjAGho",
        "colab": {
          "base_uri": "https://localhost:8080/"
        },
        "outputId": "310e55fb-4450-4dbe-b5e7-9eaf463b77a0"
      },
      "source": [
        "# Your resume should also include skills you have\n",
        "# Skills are things you are able to do that can help you in your job\n",
        "# Remember, this is you in the future so you can include skills you will get e.g., Python Programming\n",
        "# You will need to enter your skills one at a time and type 'Yes' to add more or 'No' to end the entry\n",
        "\n",
        "document.add_heading('Skills')\n",
        "\n",
        "while True:\n",
        "      more_skills=input('Do you want to add skills? Yes or No ')\n",
        "      if more_skills.lower()=='yes':\n",
        "            s=document.add_paragraph()\n",
        "            skills= input('Enter your skill : ')\n",
        "            s.add_run(skills)\n",
        "            s.style='List Bullet'\n",
        "      else:\n",
        "            break\n",
        "\n",
        "\n"
      ],
      "execution_count": 31,
      "outputs": [
        {
          "name": "stdout",
          "output_type": "stream",
          "text": [
            "Do you want to add skills? Yes or No Yes\n",
            "Enter your skill : Data Analysis\n",
            "Do you want to add skills? Yes or No Yes\n",
            "Enter your skill : Python Programming\n",
            "Do you want to add skills? Yes or No Yes\n",
            "Enter your skill : Public Speaking\n",
            "Do you want to add skills? Yes or No No\n"
          ]
        }
      ]
    },
    {
      "cell_type": "code",
      "metadata": {
        "id": "tcWiPltQdQFe"
      },
      "source": [
        "# Employers prefer to hire people that are 'well rounded'\n",
        "# This means people that have hobbies and don't work all the time \n",
        "# Including appropriate hobbies can show employers that you are an interesting person\n",
        "# Examples of appropriate hobbies include, playing in team sports or arts and crafts\n",
        "\n",
        "document.add_heading('Hobbies / Other Interests')\n",
        "\n",
        "while True:\n",
        "      more_skills=input('Do you want to add hobbies? Yes or No ')\n",
        "      if more_skills.lower()=='yes':\n",
        "            s=document.add_paragraph()\n",
        "            skills= input('Enter your hobby : ')\n",
        "            s.add_run(skills)\n",
        "            s.style='List Bullet'\n",
        "      else:\n",
        "            break\n"
      ],
      "execution_count": null,
      "outputs": []
    },
    {
      "cell_type": "code",
      "metadata": {
        "id": "sRnguPTBG-Dh",
        "colab": {
          "base_uri": "https://localhost:8080/",
          "height": 17
        },
        "outputId": "6f6add96-8721-48ee-ab6d-d4eb9cfca87a"
      },
      "source": [
        "document.save('my_resume.docx')\n",
        "from google.colab import files\n",
        "files.download(\"my_resume.docx\")\n"
      ],
      "execution_count": 32,
      "outputs": [
        {
          "output_type": "display_data",
          "data": {
            "application/javascript": [
              "\n",
              "    async function download(id, filename, size) {\n",
              "      if (!google.colab.kernel.accessAllowed) {\n",
              "        return;\n",
              "      }\n",
              "      const div = document.createElement('div');\n",
              "      const label = document.createElement('label');\n",
              "      label.textContent = `Downloading \"${filename}\": `;\n",
              "      div.appendChild(label);\n",
              "      const progress = document.createElement('progress');\n",
              "      progress.max = size;\n",
              "      div.appendChild(progress);\n",
              "      document.body.appendChild(div);\n",
              "\n",
              "      const buffers = [];\n",
              "      let downloaded = 0;\n",
              "\n",
              "      const channel = await google.colab.kernel.comms.open(id);\n",
              "      // Send a message to notify the kernel that we're ready.\n",
              "      channel.send({})\n",
              "\n",
              "      for await (const message of channel.messages) {\n",
              "        // Send a message to notify the kernel that we're ready.\n",
              "        channel.send({})\n",
              "        if (message.buffers) {\n",
              "          for (const buffer of message.buffers) {\n",
              "            buffers.push(buffer);\n",
              "            downloaded += buffer.byteLength;\n",
              "            progress.value = downloaded;\n",
              "          }\n",
              "        }\n",
              "      }\n",
              "      const blob = new Blob(buffers, {type: 'application/binary'});\n",
              "      const a = document.createElement('a');\n",
              "      a.href = window.URL.createObjectURL(blob);\n",
              "      a.download = filename;\n",
              "      div.appendChild(a);\n",
              "      a.click();\n",
              "      div.remove();\n",
              "    }\n",
              "  "
            ],
            "text/plain": [
              "<IPython.core.display.Javascript object>"
            ]
          },
          "metadata": {}
        },
        {
          "output_type": "display_data",
          "data": {
            "application/javascript": [
              "download(\"download_55324a28-c9c8-430f-8d6a-7875460c78f8\", \"my_resume.docx\", 36834)"
            ],
            "text/plain": [
              "<IPython.core.display.Javascript object>"
            ]
          },
          "metadata": {}
        }
      ]
    }
  ]
}