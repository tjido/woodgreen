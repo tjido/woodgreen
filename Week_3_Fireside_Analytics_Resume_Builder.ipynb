{
  "nbformat": 4,
  "nbformat_minor": 0,
  "metadata": {
    "colab": {
      "name": "Week 3_Fireside Analytics_Resume Builder",
      "provenance": [],
      "collapsed_sections": [],
      "authorship_tag": "ABX9TyMjXy27C3Rl79bz6hoMSmPG",
      "include_colab_link": true
    },
    "kernelspec": {
      "name": "python3",
      "display_name": "Python 3"
    },
    "language_info": {
      "name": "python"
    }
  },
  "cells": [
    {
      "cell_type": "markdown",
      "metadata": {
        "id": "view-in-github",
        "colab_type": "text"
      },
      "source": [
        "<a href=\"https://colab.research.google.com/github/tjido/woodgreen/blob/master/Week_3_Fireside_Analytics_Resume_Builder.ipynb\" target=\"_parent\"><img src=\"https://colab.research.google.com/assets/colab-badge.svg\" alt=\"Open In Colab\"/></a>"
      ]
    },
    {
      "cell_type": "code",
      "metadata": {
        "id": "XjtzTmlm_xdK"
      },
      "source": [
        "pip install python-docx"
      ],
      "execution_count": null,
      "outputs": []
    },
    {
      "cell_type": "code",
      "metadata": {
        "id": "TaZdzkF3BGgt"
      },
      "source": [
        "from docx import Document\n",
        "from docx.shared import Inches"
      ],
      "execution_count": null,
      "outputs": []
    },
    {
      "cell_type": "code",
      "metadata": {
        "id": "EGXDEP-ZMpoc"
      },
      "source": [
        "#pip install pyttsx3"
      ],
      "execution_count": null,
      "outputs": []
    },
    {
      "cell_type": "code",
      "metadata": {
        "id": "Jag3jLnf_1eT"
      },
      "source": [
        "document = Document()"
      ],
      "execution_count": null,
      "outputs": []
    },
    {
      "cell_type": "code",
      "metadata": {
        "id": "_QzZE7bg_6cw"
      },
      "source": [
        "# This exercise is about creating a resume for your future self\n",
        "# Imagine yourself 10 years in the future, what degrees will you have?\n",
        "# What jobs have you had?\n",
        "# What companies have you worked for?\n",
        "# In this section, you will enter the following information: name and email"
      ],
      "execution_count": null,
      "outputs": []
    },
    {
      "cell_type": "code",
      "metadata": {
        "id": "n__SFN89Oj3-"
      },
      "source": [
        "name = input('What is your FULL NAME? ')\n",
        "print('Hello ' + name)\n",
        "print ('This is a Python program to help you build a resume! ')\n"
      ],
      "execution_count": null,
      "outputs": []
    },
    {
      "cell_type": "code",
      "metadata": {
        "id": "MgPW_K8FPp9v"
      },
      "source": [
        "print ('Enter your email address')\n",
        "email= input('What is your EMAIL? ')"
      ],
      "execution_count": null,
      "outputs": []
    },
    {
      "cell_type": "code",
      "metadata": {
        "id": "29aH5MwPP2sB"
      },
      "source": [
        "# First, the program will print your name and email at the top of the document\n",
        "# Add a Title to the document\n",
        "document.add_heading(name, 0)\n",
        "document.add_heading(email,4)"
      ],
      "execution_count": null,
      "outputs": []
    },
    {
      "cell_type": "code",
      "metadata": {
        "id": "B2ZuI6CZAA0z"
      },
      "source": [
        "# Personal Statement\n",
        "# This code creates a section at the beginning of your resume where you make a personal statement\n",
        "# A personal statement may describe your hopes and what you would like to accomplish\n",
        "# A personal statement may answer the question, 'why do you want this job?' \n",
        "\n",
        "document.add_heading('Personal Statement')\n",
        "personal_statement = input('Tell us about yourself? ')\n",
        "document.add_paragraph(personal_statement)\n",
        "\n"
      ],
      "execution_count": null,
      "outputs": []
    },
    {
      "cell_type": "code",
      "metadata": {
        "id": "aL82Ul0YADcX"
      },
      "source": [
        "# In this section, you will add your work experience?\n",
        "# You may not have any work experience so you can make up work experience. \n",
        "# You will need to add a company name, what you did at that company and the start and end dates of when you worked there.\n",
        "# You can add more companies and job titles by typing 'Yes', or you can move on to the next section by typing 'No'.\n",
        "\n",
        "document.add_heading('Work Experience')\n",
        "p = document.add_paragraph()\n",
        "company = input('Enter name of the Company : ')\n",
        "from_date= input('From date : ')\n",
        "to_date=input('to_date : ')\n",
        "p.add_run(company + ' ').bold =True\n",
        "p.add_run(from_date + '-'+ to_date+'\\n').italic= True\n",
        "experience_details=input('What job title did you have at '+ company)\n",
        "p.add_run(experience_details)\n",
        "\n",
        "while True:\n",
        "      has_more_experiences =input('Do you have more Experiences? Yes or No '+' ')\n",
        "      if has_more_experiences.lower() == 'yes':\n",
        "            p = document.add_paragraph()\n",
        "            company = input('Enter name of the Company : ')\n",
        "            from_date= input('From date :')\n",
        "            to_date=input('to_date : ')\n",
        "            p.add_run(company + ' ').bold =True\n",
        "            p.add_run(from_date + '-'+ to_date+'\\n').italic= True\n",
        "            experience_details=input('What was your Job Title at '+ company + ' ')\n",
        "            p.add_run(experience_details)\n",
        "      else:\n",
        "            break\n"
      ],
      "execution_count": null,
      "outputs": []
    },
    {
      "cell_type": "code",
      "metadata": {
        "id": "K2aFcKPjAGho"
      },
      "source": [
        "# Your resume should also include skills you have\n",
        "# Skills are things you are able to do that can help you in your job\n",
        "# Remember, this is you in the future so you can include skills you will get e.g., Python Programming\n",
        "# You will need to enter your skills one at a time and type 'Yes' to add more or 'No' to end the entry\n",
        "\n",
        "document.add_heading('Skills')\n",
        "\n",
        "while True:\n",
        "      more_skills=input('Do you want to add skills? Yes or No ')\n",
        "      if more_skills.lower()=='yes':\n",
        "            s=document.add_paragraph()\n",
        "            skills= input('Enter your skill : ')\n",
        "            s.add_run(skills)\n",
        "            s.style='List Bullet'\n",
        "      else:\n",
        "            break\n",
        "\n",
        "\n"
      ],
      "execution_count": null,
      "outputs": []
    },
    {
      "cell_type": "code",
      "metadata": {
        "id": "tcWiPltQdQFe"
      },
      "source": [
        "# Employers prefer to hire people that are 'well rounded'\n",
        "# This means people that have hobbies and don't work all the time \n",
        "# Including appropriate hobbies can show employers that you are an interesting person\n",
        "# Examples of appropriate hobbies include, playing in team sports or arts and crafts\n",
        "\n",
        "document.add_heading('Hobbies / Other Interests')\n",
        "\n",
        "while True:\n",
        "      more_skills=input('Do you want to add hobbies? Yes or No ')\n",
        "      if more_skills.lower()=='yes':\n",
        "            s=document.add_paragraph()\n",
        "            skills= input('Enter your hobby : ')\n",
        "            s.add_run(skills)\n",
        "            s.style='List Bullet'\n",
        "      else:\n",
        "            break\n"
      ],
      "execution_count": null,
      "outputs": []
    },
    {
      "cell_type": "code",
      "metadata": {
        "id": "sRnguPTBG-Dh"
      },
      "source": [
        "document.save('my_resume.docx')\n",
        "from google.colab import files\n",
        "files.download(\"my_resume.docx\")\n"
      ],
      "execution_count": null,
      "outputs": []
    }
  ]
}