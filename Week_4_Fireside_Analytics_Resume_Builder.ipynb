{
  "nbformat": 4,
  "nbformat_minor": 0,
  "metadata": {
    "colab": {
      "name": "Week 4_Fireside Analytics_Resume Builder",
      "provenance": [],
      "collapsed_sections": [],
      "toc_visible": true,
      "authorship_tag": "ABX9TyPlPAQPziY0viDtRIJAOWd5",
      "include_colab_link": true
    },
    "kernelspec": {
      "name": "python3",
      "display_name": "Python 3"
    },
    "language_info": {
      "name": "python"
    }
  },
  "cells": [
    {
      "cell_type": "markdown",
      "metadata": {
        "id": "view-in-github",
        "colab_type": "text"
      },
      "source": [
        "<a href=\"https://colab.research.google.com/github/tjido/woodgreen/blob/master/Week_4_Fireside_Analytics_Resume_Builder.ipynb\" target=\"_parent\"><img src=\"https://colab.research.google.com/assets/colab-badge.svg\" alt=\"Open In Colab\"/></a>"
      ]
    },
    {
      "cell_type": "markdown",
      "metadata": {
        "id": "XTYJ920gmSrF"
      },
      "source": [
        "<h1>Welcome to the Woodgreen Data Science & Python Program by Fireside Analytics</h1>\n",
        "\n",
        "\n",
        "<h4>Data science is the process of ethically acquiring, engineering, analyzing, visualizaing and ultimately, creating value with data.\n",
        "\n",
        "<p>In this tutorial, participants will be introduced to the Python programming language in this Python cloud environment called Google Colab.</p> </h4>\n",
        "<p>For more information about this tutorial or other tutorials by Fireside Analytics, contact: info@firesideanalytics.com</p>\n",
        "\n",
        "<h3><strong>Table of contents</h3>\n",
        "<div class=\"alert alert-block alert-info\" style=\"margin-top: 20px\">\n",
        "    <ol>\n",
        "        <li>How does a computer work?</li>\n",
        "        <Li>What is \"data\"?</li>\n",
        "        <li>An introduction to Python</li>\n",
        "    </ol>\n",
        "</div>\n",
        "<br>\n",
        "<hr>"
      ]
    },
    {
      "cell_type": "markdown",
      "metadata": {
        "id": "sfYqB-TqmbFn"
      },
      "source": [
        "**Let's get started! Firstly, this page you are reading is not regular website, it is an interactive computer programming environment called a Colab notebook that lets you write and execute code in Python.**"
      ]
    },
    {
      "cell_type": "markdown",
      "metadata": {
        "id": "BNXSDwAXmf-r"
      },
      "source": [
        "# 1. How does a computer work?"
      ]
    },
    {
      "cell_type": "markdown",
      "metadata": {
        "id": "CXrTnKWLmkWq"
      },
      "source": [
        "## A computer is a device that takes INPUTS, does some PROCESSES and results in OUTPUTS\n",
        "\n",
        "EXAMPLES OF INPUTS\n",
        "1.   Keyboard\n",
        "2.   Mouse\n",
        "3.   Touch screen\n",
        "\n",
        "PROCESSES\n",
        "1.   CPU - Central Processing Unit\n",
        "2.   Data storage\n",
        "3.   Converts inputs from words and numbers to 1s and 0s\n",
        "4.   Computes 1s and 0s\n",
        "5.   Produces outputs and information\n",
        "\n",
        "OUTPUTS\n",
        "1.   Screen - words, numbers, pictures or sounds\n",
        "2.   Printer\n",
        "3.   Speaker\n"
      ]
    },
    {
      "cell_type": "markdown",
      "metadata": {
        "id": "Z4jB7TPdmoPw"
      },
      "source": [
        "# 2. What is \"data\"?"
      ]
    },
    {
      "cell_type": "markdown",
      "metadata": {
        "id": "tA2TUB4-mxOh"
      },
      "source": [
        "## A computer is a device that takes INPUTS, does some PROCESSES and results in OUTPUTS\n",
        "1. Computers use many on and off switches to work\n",
        "2. The 'on' switch is represented by a '1' and the 'off' switch is \n",
        "3. A BIT is a one or a zero, and a BYTE is a combination of 8 ones and zeros e.g., 1100 0010\n",
        "4. Combinations of Ones and Zeros in a computer, represent whole words and numbers, symbols and even pictures in the real world\n",
        "5. Information stored in ones and zeros, in bits and bytes, is data!\n",
        "\n",
        "*   The letter a =  0110 0001\n",
        "*   The letter b =  0110 0010\n",
        "*   The letter A =  0100 0001\n",
        "*   The letter B =  0100 0010\n",
        "*   The symbol @ =  1000 0000\n",
        "\n",
        "## This conversion is done with the ASCII Code, American Standard Code Information Interchange"
      ]
    },
    {
      "cell_type": "markdown",
      "metadata": {
        "id": "nc568BMXm0pA"
      },
      "source": [
        "# 3. An introduction to Python"
      ]
    },
    {
      "cell_type": "markdown",
      "metadata": {
        "id": "AfVBOdQUm4rw"
      },
      "source": [
        "### Let's get to know Python. The following code is an example of a Python Progam. Run the code by clicking on the 'play' button and you will see the result of your program beneath the code."
      ]
    },
    {
      "cell_type": "code",
      "metadata": {
        "id": "XjtzTmlm_xdK"
      },
      "source": [
        "pip install python-docx"
      ],
      "execution_count": null,
      "outputs": []
    },
    {
      "cell_type": "code",
      "metadata": {
        "id": "TaZdzkF3BGgt"
      },
      "source": [
        "from docx import Document\n",
        "from docx.shared import Inches"
      ],
      "execution_count": null,
      "outputs": []
    },
    {
      "cell_type": "code",
      "metadata": {
        "id": "EGXDEP-ZMpoc"
      },
      "source": [
        "#pip install pyttsx3"
      ],
      "execution_count": 33,
      "outputs": []
    },
    {
      "cell_type": "code",
      "metadata": {
        "id": "Jag3jLnf_1eT"
      },
      "source": [
        "document = Document()"
      ],
      "execution_count": null,
      "outputs": []
    },
    {
      "cell_type": "code",
      "metadata": {
        "id": "_QzZE7bg_6cw"
      },
      "source": [
        "# This exercise is about creating a resume for your future self\n",
        "# Imagine yourself 10 years in the future, what degrees will you have?\n",
        "# What jobs have you had?\n",
        "# What companies have you worked for?\n",
        "# In this section, you will enter the following information: name and email"
      ],
      "execution_count": 34,
      "outputs": []
    },
    {
      "cell_type": "code",
      "metadata": {
        "id": "n__SFN89Oj3-",
        "colab": {
          "base_uri": "https://localhost:8080/"
        },
        "outputId": "6b7115ec-deb2-4091-8ac3-23f7cd852524"
      },
      "source": [
        "name = input('What is your FULL NAME? ')\n",
        "print('Hello ' + name)\n",
        "print ('This is a Python program to help you build a resume! ')\n"
      ],
      "execution_count": 35,
      "outputs": [
        {
          "output_type": "stream",
          "name": "stdout",
          "text": [
            "What is your FULL NAME? Diego Costa\n",
            "Hello Diego Costa\n",
            "This is a Python program to help you build a resume! \n"
          ]
        }
      ]
    },
    {
      "cell_type": "code",
      "metadata": {
        "id": "MgPW_K8FPp9v",
        "colab": {
          "base_uri": "https://localhost:8080/"
        },
        "outputId": "8ee0d2c2-33c3-403e-ff8f-e58bac3a0008"
      },
      "source": [
        "print ('Enter your email address')\n",
        "email= input('What is your EMAIL? ')"
      ],
      "execution_count": 36,
      "outputs": [
        {
          "name": "stdout",
          "output_type": "stream",
          "text": [
            "Enter your email address\n",
            "What is your EMAIL? costad@chelseafc.co.uk\n"
          ]
        }
      ]
    },
    {
      "cell_type": "code",
      "metadata": {
        "id": "29aH5MwPP2sB",
        "colab": {
          "base_uri": "https://localhost:8080/"
        },
        "outputId": "e09ece4e-3de7-46d9-a56c-8b2f402d6cc2"
      },
      "source": [
        "# First, the program will print your name and email at the top of the document\n",
        "# Add a Title to the document\n",
        "document.add_heading(name, 0)\n",
        "document.add_heading(email,4)"
      ],
      "execution_count": 37,
      "outputs": [
        {
          "output_type": "execute_result",
          "data": {
            "text/plain": [
              "<docx.text.paragraph.Paragraph at 0x7f523399b4d0>"
            ]
          },
          "metadata": {},
          "execution_count": 37
        }
      ]
    },
    {
      "cell_type": "code",
      "metadata": {
        "id": "B2ZuI6CZAA0z",
        "colab": {
          "base_uri": "https://localhost:8080/"
        },
        "outputId": "3ac15e60-06f7-406d-ecb2-9acd777e5d63"
      },
      "source": [
        "# Personal Statement\n",
        "# This code creates a section at the beginning of your resume where you make a personal statement\n",
        "# A personal statement may describe your hopes and what you would like to accomplish\n",
        "# A personal statement may answer the question, 'why do you want this job?' \n",
        "\n",
        "document.add_heading('Personal Statement')\n",
        "personal_statement = input('Tell us about yourself? ')\n",
        "document.add_paragraph(personal_statement)\n",
        "\n"
      ],
      "execution_count": 38,
      "outputs": [
        {
          "name": "stdout",
          "output_type": "stream",
          "text": [
            "Tell us about yourself? I'm a cop you ididot! I'm detective John Kimble!\n"
          ]
        },
        {
          "output_type": "execute_result",
          "data": {
            "text/plain": [
              "<docx.text.paragraph.Paragraph at 0x7f5233a9ab50>"
            ]
          },
          "metadata": {},
          "execution_count": 38
        }
      ]
    },
    {
      "cell_type": "code",
      "metadata": {
        "id": "aL82Ul0YADcX",
        "colab": {
          "base_uri": "https://localhost:8080/"
        },
        "outputId": "d761126a-2921-4ee7-d784-a48e0627090b"
      },
      "source": [
        "# In this section, you will add your work experience?\n",
        "# You may not have any work experience so you can make up work experience. \n",
        "# You will need to add a company name, what you did at that company and the start and end dates of when you worked there.\n",
        "# You can add more companies and job titles by typing 'Yes', or you can move on to the next section by typing 'No'.\n",
        "\n",
        "document.add_heading('Work Experience')\n",
        "p = document.add_paragraph()\n",
        "company = input('Enter name of the Company : ')\n",
        "from_date= input('From date : ')\n",
        "to_date=input('to_date : ')\n",
        "p.add_run(company + ' ').bold =True\n",
        "p.add_run(from_date + '-'+ to_date+'\\n').italic= True\n",
        "experience_details=input('What job title did you have at '+ company)\n",
        "p.add_run(experience_details)\n",
        "\n",
        "while True:\n",
        "      has_more_experiences =input('Do you have more Experiences? Yes or No '+' ')\n",
        "      if has_more_experiences.lower() == 'yes':\n",
        "            p = document.add_paragraph()\n",
        "            company = input('Enter name of the Company : ')\n",
        "            from_date= input('From date :')\n",
        "            to_date=input('to_date : ')\n",
        "            p.add_run(company + ' ').bold =True\n",
        "            p.add_run(from_date + '-'+ to_date+'\\n').italic= True\n",
        "            experience_details=input('What was your Job Title at '+ company + ' ')\n",
        "            p.add_run(experience_details)\n",
        "      else:\n",
        "            break\n"
      ],
      "execution_count": 39,
      "outputs": [
        {
          "name": "stdout",
          "output_type": "stream",
          "text": [
            "Enter name of the Company : Cyberdene Systems\n",
            "From date : 1 Jan 1990\n",
            "to_date : today\n",
            "What job title did you have at Cyberdene SystemsD1000. Living tissue over metal endoskeleton\n",
            "Do you have more Experiences? Yes or No  No\n"
          ]
        }
      ]
    },
    {
      "cell_type": "code",
      "metadata": {
        "id": "K2aFcKPjAGho",
        "colab": {
          "base_uri": "https://localhost:8080/"
        },
        "outputId": "25fb0eef-9221-4093-d018-75555aaf5420"
      },
      "source": [
        "# Your resume should also include skills you have\n",
        "# Skills are things you are able to do that can help you in your job\n",
        "# Remember, this is you in the future so you can include skills you will get e.g., Python Programming\n",
        "# You will need to enter your skills one at a time and type 'Yes' to add more or 'No' to end the entry\n",
        "\n",
        "document.add_heading('Skills')\n",
        "\n",
        "while True:\n",
        "      more_skills=input('Do you want to add skills? Yes or No ')\n",
        "      if more_skills.lower()=='yes':\n",
        "            s=document.add_paragraph()\n",
        "            skills= input('Enter your skill : ')\n",
        "            s.add_run(skills)\n",
        "            s.style='List Bullet'\n",
        "      else:\n",
        "            break\n",
        "\n",
        "\n"
      ],
      "execution_count": 40,
      "outputs": [
        {
          "name": "stdout",
          "output_type": "stream",
          "text": [
            "Do you want to add skills? Yes or No Yes\n",
            "Enter your skill : Neural net processor.\n",
            "Do you want to add skills? Yes or No No\n"
          ]
        }
      ]
    },
    {
      "cell_type": "code",
      "metadata": {
        "colab": {
          "base_uri": "https://localhost:8080/"
        },
        "id": "tcWiPltQdQFe",
        "outputId": "9b88cca2-1525-48cd-a1f2-f4cf706c0895"
      },
      "source": [
        "# Employers prefer to hire people that are 'well rounded'\n",
        "# This means people that have hobbies and don't work all the time \n",
        "# Including appropriate hobbies can show employers that you are an interesting person\n",
        "# Examples of appropriate hobbies include, playing in team sports or arts and crafts\n",
        "\n",
        "document.add_heading('Hobbies / Other Interests')\n",
        "\n",
        "while True:\n",
        "      more_skills=input('Do you want to add hobbies? Yes or No ')\n",
        "      if more_skills.lower()=='yes':\n",
        "            s=document.add_paragraph()\n",
        "            skills= input('Enter your hobby : ')\n",
        "            s.add_run(skills)\n",
        "            s.style='List Bullet'\n",
        "      else:\n",
        "            break\n"
      ],
      "execution_count": 41,
      "outputs": [
        {
          "name": "stdout",
          "output_type": "stream",
          "text": [
            "Do you want to add hobbies? Yes or No Yes\n",
            "Enter your hobby : Hey, I'm a police officer\n",
            "Do you want to add hobbies? Yes or No No\n"
          ]
        }
      ]
    },
    {
      "cell_type": "code",
      "metadata": {
        "id": "sRnguPTBG-Dh",
        "colab": {
          "base_uri": "https://localhost:8080/",
          "height": 17
        },
        "outputId": "4aaf27e5-a15b-4ac5-babe-d34e1582d051"
      },
      "source": [
        "document.save('my_resume.docx')\n",
        "from google.colab import files\n",
        "files.download(\"my_resume.docx\")\n"
      ],
      "execution_count": 42,
      "outputs": [
        {
          "output_type": "display_data",
          "data": {
            "application/javascript": [
              "\n",
              "    async function download(id, filename, size) {\n",
              "      if (!google.colab.kernel.accessAllowed) {\n",
              "        return;\n",
              "      }\n",
              "      const div = document.createElement('div');\n",
              "      const label = document.createElement('label');\n",
              "      label.textContent = `Downloading \"${filename}\": `;\n",
              "      div.appendChild(label);\n",
              "      const progress = document.createElement('progress');\n",
              "      progress.max = size;\n",
              "      div.appendChild(progress);\n",
              "      document.body.appendChild(div);\n",
              "\n",
              "      const buffers = [];\n",
              "      let downloaded = 0;\n",
              "\n",
              "      const channel = await google.colab.kernel.comms.open(id);\n",
              "      // Send a message to notify the kernel that we're ready.\n",
              "      channel.send({})\n",
              "\n",
              "      for await (const message of channel.messages) {\n",
              "        // Send a message to notify the kernel that we're ready.\n",
              "        channel.send({})\n",
              "        if (message.buffers) {\n",
              "          for (const buffer of message.buffers) {\n",
              "            buffers.push(buffer);\n",
              "            downloaded += buffer.byteLength;\n",
              "            progress.value = downloaded;\n",
              "          }\n",
              "        }\n",
              "      }\n",
              "      const blob = new Blob(buffers, {type: 'application/binary'});\n",
              "      const a = document.createElement('a');\n",
              "      a.href = window.URL.createObjectURL(blob);\n",
              "      a.download = filename;\n",
              "      div.appendChild(a);\n",
              "      a.click();\n",
              "      div.remove();\n",
              "    }\n",
              "  "
            ],
            "text/plain": [
              "<IPython.core.display.Javascript object>"
            ]
          },
          "metadata": {}
        },
        {
          "output_type": "display_data",
          "data": {
            "application/javascript": [
              "download(\"download_33cb6f45-120d-43bd-86f8-3f09b0b42dc0\", \"my_resume.docx\", 37025)"
            ],
            "text/plain": [
              "<IPython.core.display.Javascript object>"
            ]
          },
          "metadata": {}
        }
      ]
    },
    {
      "cell_type": "markdown",
      "metadata": {
        "id": "S5Y9l3fYnC8Y"
      },
      "source": [
        "#Conclusion\n",
        "\n",
        "1.   Computer programming is a set of instructions we give a computer. \n",
        "2.   Computers must process the instructions in 'binary', in ones and zeros.\n",
        "3.   Anything 'digital' is data."
      ]
    },
    {
      "cell_type": "markdown",
      "metadata": {
        "id": "Sy0EopeinLmL"
      },
      "source": [
        "# Contact Information"
      ]
    },
    {
      "cell_type": "markdown",
      "metadata": {
        "id": "OeqVLEU_nP9a"
      },
      "source": [
        "Congratulations, you have completed a tutorial in the Python Programming language!\n",
        "\n",
        "Fireside Analytics Inc. | Instructor: Shingai Manjengwa (Twitter: @tjido) | Woodgreen Community Services Summer Camp | Contact: info@firesideanalytics.com or www.firesideanalytics.com\n",
        "\n",
        "Never stop learning!"
      ]
    }
  ]
}