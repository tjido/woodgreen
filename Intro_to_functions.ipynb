{
 "cells": [
  {
   "cell_type": "code",
   "execution_count": null,
   "metadata": {
    "collapsed": true
   },
   "outputs": [],
   "source": [
    "# Functions\n",
    "\n",
    "# Intro to functions\n",
    "\n",
    "# Keyword def marks the start of function header.\n",
    "# A function name to uniquely identify it. Function naming follows the same rules of writing identifiers in Python.\n",
    "# Parameters (arguments) through which we pass values to a function. They are optional.\n",
    "# A colon (:) to mark the end of function header.\n",
    "# Optional documentation string (docstring) to describe what the function does.\n",
    "# One or more valid python statements that make up the function body.\n",
    "        ##Statements must have same indentation level (usually 4 spaces).\n",
    "# An optional return statement to return a value from the function.\n",
    "\n",
    "def squares(x):\n",
    "    return x*x\n",
    "\n",
    "squares(5)"
   ]
  },
  {
   "cell_type": "code",
   "execution_count": 1,
   "metadata": {},
   "outputs": [
    {
     "name": "stdout",
     "output_type": "stream",
     "text": [
      "Please enter a number.\n"
     ]
    }
   ],
   "source": [
    "#squares('five')\n",
    "\n",
    "# How would we stop this breaking?\n",
    "\n",
    "def squares(x):\n",
    "    try:\n",
    "        our_test = int(x)\n",
    "        #This tries to set our_test equal to an integer (which can only be a number)\n",
    "        # If it works, then we square x (and forget about 'our_test')\n",
    "        return x*x\n",
    "    # But if it is not a number, then we are going to get a specific error\n",
    "    except ValueError:\n",
    "        # We use this error to tell the user to please use a number\n",
    "        print(\"Please enter a number.\")\n",
    "\n",
    "squares(\"five\")"
   ]
  },
  {
   "cell_type": "code",
   "execution_count": 2,
   "metadata": {},
   "outputs": [
    {
     "name": "stdout",
     "output_type": "stream",
     "text": [
      "Take a guess.\n",
      "5\n",
      "Your guess is too low.\n"
     ]
    }
   ],
   "source": [
    "## Simple game\n",
    "\n",
    "import random\n",
    "\n",
    "secretNumber = random.randint(1, 20)\n",
    "print('Take a guess.')\n",
    "\n",
    "guess = int(input())\n",
    "if guess < secretNumber:\n",
    "    print('Your guess is too low.')\n",
    "elif guess > secretNumber:\n",
    "    print('Your guess is too high.')\n",
    "else: \n",
    "    print('That\\'s its, congrats!')"
   ]
  },
  {
   "cell_type": "code",
   "execution_count": null,
   "metadata": {
    "collapsed": true
   },
   "outputs": [],
   "source": [
    "def guessing_game(low_number, high_number, number_of_guesses):\n",
    "    secretNumber = random.randint(low_number, high_number)\n",
    "    count = 0\n",
    "    while count < number_of_guesses: \n",
    "        guess = int(input(\"Guess a number between {} and {} \\n\".format(low_number, high_number)))\n",
    "        if guess < secretNumber:\n",
    "            print('Your guess is too low.')\n",
    "            count += 1\n",
    "        elif guess > secretNumber:\n",
    "            print('Your guess is too high.')\n",
    "            count +=1\n",
    "        else: \n",
    "            print('That\\'s its, congrats!')\n",
    "            break\n",
    "    if count == number_of_guesses:\n",
    "        print(\"You have run out of guesses, better luck next time!\")\n",
    "\n",
    "        \n",
    "## What is a function\n",
    "## How to get inputs\n",
    "## How does if elif else work\n",
    "## What is a while loop\n"
   ]
  },
  {
   "cell_type": "code",
   "execution_count": null,
   "metadata": {
    "collapsed": true
   },
   "outputs": [],
   "source": [
    "guessing_game(1, 10, 4)"
   ]
  },
  {
   "cell_type": "code",
   "execution_count": 23,
   "metadata": {},
   "outputs": [
    {
     "data": {
      "text/plain": [
       "'X is an odd number'"
      ]
     },
     "execution_count": 23,
     "metadata": {},
     "output_type": "execute_result"
    }
   ],
   "source": [
    "\n",
    "\n",
    "\n",
    "# Exercise\n",
    "\n",
    "# Build a function to test if a number is a even number\n",
    "#  use modulo %\n",
    "\n",
    "def even_number(x):\n",
    "    if x%2 == 0:\n",
    "        return(\"x is a even number\")\n",
    "    else:\n",
    "        return(\"x is an odd number\")\n",
    "    \n",
    "even_number(5)"
   ]
  },
  {
   "cell_type": "code",
   "execution_count": 40,
   "metadata": {
    "collapsed": true
   },
   "outputs": [],
   "source": [
    "# Exercise Rock paper scissor\n",
    "\n",
    "import random\n",
    "\n",
    "game_list = ['rock', 'paper', 'scissors']\n",
    "\n",
    "def rock_paper_scissors():\n",
    "    # Select CP hand randomly from list\n",
    "    CP_hand = random.choice(game_list)\n",
    "    # Ask for user input\n",
    "    your_hand = input(\"One two three... go\\n\")\n",
    "    #Print what computer plays\n",
    "    print(\"Computer plays\", CP_hand,\"\\n\")\n",
    "    # Print who wins by comparing CP and user\n",
    "    # Note, this can break easily since we don't validate users input\n",
    "    if your_hand == CP_hand:\n",
    "        return(\"It's a tie, try again\")\n",
    "    elif your_hand == 'rock':\n",
    "        if CP_hand == \"paper\":\n",
    "            return(\"You lose: Paper beats rock\")\n",
    "        else:\n",
    "            return(\"You win: Rock beats scissors\")\n",
    "    elif your_hand == 'paper':\n",
    "        if CP_hand == \"rock\":\n",
    "            return(\"You win: Paper beats rock\")\n",
    "        else:\n",
    "            return(\"You lose: Scissors beats rock\")\n",
    "    else:\n",
    "        if CP_hand == \"paper\":\n",
    "            return(\"You win: Scissor beats paper\")\n",
    "        else:\n",
    "            return(\"You lose: Rock beats scissors\")\n",
    "\n",
    "        \n",
    "    "
   ]
  },
  {
   "cell_type": "code",
   "execution_count": 42,
   "metadata": {},
   "outputs": [
    {
     "name": "stdout",
     "output_type": "stream",
     "text": [
      "One two three... go\n",
      "scissors\n",
      "Computer plays scissor \n",
      "\n"
     ]
    },
    {
     "data": {
      "text/plain": [
       "'You lose: Rock beats scissors'"
      ]
     },
     "execution_count": 42,
     "metadata": {},
     "output_type": "execute_result"
    }
   ],
   "source": [
    "rock_paper_scissors()"
   ]
  },
  {
   "cell_type": "code",
   "execution_count": null,
   "metadata": {
    "collapsed": true
   },
   "outputs": [],
   "source": [
    "# This is a guess the number game.\n",
    "import random\n",
    "\n",
    "secretNumber = random.randint(1, 20)\n",
    "print('I am thinking of a number between 1 and 20.')\n",
    "\n",
    "# Ask the player to guess 6 times.\n",
    "for guessesTaken in range(1, 7):\n",
    "    print('Take a guess.')\n",
    "    guess = int(input())\n",
    "\n",
    "    if guess < secretNumber:\n",
    "        print('Your guess is too low.')\n",
    "    elif guess > secretNumber:\n",
    "        print('Your guess is too high.')\n",
    "    else:\n",
    "        break    # This condition is the correct guess!\n",
    "\n",
    "if guess == secretNumber:\n",
    "    print('Good job! You guessed my number in ' + str(guessesTaken) + ' guesses!')\n",
    "else:\n",
    "    print('Nope. The number I was thinking of was ' + str(secretNumber))"
   ]
  },
  {
   "cell_type": "code",
   "execution_count": 3,
   "metadata": {},
   "outputs": [
    {
     "name": "stdout",
     "output_type": "stream",
     "text": [
      "What is your username?\n",
      "Martin\n",
      "What is your password?\n",
      "Martin\n"
     ]
    }
   ],
   "source": [
    "# Username and password\n",
    "\n",
    "username_1 = input(\"What is your username?\\n\")\n",
    "list_of_users = []\n",
    "list_of_users.append(username_1)\n",
    "password_1 = input(\"What is your password?\\n\")\n",
    "list_of_passwords = []\n",
    "list_of_passwords.append(password_1)\n"
   ]
  },
  {
   "cell_type": "code",
   "execution_count": 4,
   "metadata": {},
   "outputs": [
    {
     "data": {
      "text/plain": [
       "1"
      ]
     },
     "execution_count": 4,
     "metadata": {},
     "output_type": "execute_result"
    }
   ],
   "source": [
    "len(list_of_users)"
   ]
  },
  {
   "cell_type": "code",
   "execution_count": 5,
   "metadata": {},
   "outputs": [
    {
     "data": {
      "text/plain": [
       "['Martin']"
      ]
     },
     "execution_count": 5,
     "metadata": {},
     "output_type": "execute_result"
    }
   ],
   "source": [
    "list_of_users"
   ]
  },
  {
   "cell_type": "code",
   "execution_count": null,
   "metadata": {
    "collapsed": true
   },
   "outputs": [],
   "source": []
  }
 ],
 "metadata": {
  "kernelspec": {
   "display_name": "Python 3",
   "language": "python",
   "name": "python3"
  },
  "language_info": {
   "codemirror_mode": {
    "name": "ipython",
    "version": 3
   },
   "file_extension": ".py",
   "mimetype": "text/x-python",
   "name": "python",
   "nbconvert_exporter": "python",
   "pygments_lexer": "ipython3",
   "version": "3.6.1"
  }
 },
 "nbformat": 4,
 "nbformat_minor": 2
}
