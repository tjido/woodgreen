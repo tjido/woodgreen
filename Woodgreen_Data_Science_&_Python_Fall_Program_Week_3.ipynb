{
  "nbformat": 4,
  "nbformat_minor": 0,
  "metadata": {
    "celltoolbar": "Slideshow",
    "kernelspec": {
      "display_name": "Python 3.6",
      "language": "python",
      "name": "python3"
    },
    "language_info": {
      "codemirror_mode": {
        "name": "ipython",
        "version": 3
      },
      "file_extension": ".py",
      "mimetype": "text/x-python",
      "name": "python",
      "nbconvert_exporter": "python",
      "pygments_lexer": "ipython3",
      "version": "3.6.9"
    },
    "colab": {
      "name": "Woodgreen: Data Science & Python - Fall Program - Week 3",
      "provenance": [],
      "collapsed_sections": [],
      "include_colab_link": true
    }
  },
  "cells": [
    {
      "cell_type": "markdown",
      "metadata": {
        "id": "view-in-github",
        "colab_type": "text"
      },
      "source": [
        "<a href=\"https://colab.research.google.com/github/tjido/woodgreen/blob/master/Woodgreen_Data_Science_%26_Python_Fall_Program_Week_3.ipynb\" target=\"_parent\"><img src=\"https://colab.research.google.com/assets/colab-badge.svg\" alt=\"Open In Colab\"/></a>"
      ]
    },
    {
      "cell_type": "markdown",
      "metadata": {
        "id": "6q335toNRrPF"
      },
      "source": [
        "<h1>Welcome to the Woodgreen Data Science & Python Program by Fireside Analytics</h1>\n",
        "\n",
        "\n",
        "<h4>Data science is the process of ethically acquiring, engineering, analyzing, visualizaing and ultimately, creating value with data.\n",
        "\n",
        "<p>In this tutorial, participants will be introduced to the Python programming language in this Python cloud environment called Google Colab.</p> </h4>\n",
        "<p>For more information about this tutorial or other tutorials by Fireside Analytics, contact: info@firesideanalytics.com</p>\n",
        "\n",
        "<h3><strong>Table of contents</h3>\n",
        "<div class=\"alert alert-block alert-info\" style=\"margin-top: 20px\">\n",
        "    <ol>\n",
        "        <li>How does a computer work?</li>\n",
        "        <Li>What is \"data\"?</li>\n",
        "        <li>An introduction to Python</li>\n",
        "    </ol>\n",
        "</div>\n",
        "<br>\n",
        "<hr>"
      ]
    },
    {
      "cell_type": "markdown",
      "metadata": {
        "id": "FlwuUW6L6fV3"
      },
      "source": [
        "**Let's get started! Firstly, this page you are reading is not regular website, it is an interactive computer programming environment called a Colab notebook that lets you write and execute code in Python.**"
      ]
    },
    {
      "cell_type": "markdown",
      "metadata": {
        "id": "EC4QnPjS41xc"
      },
      "source": [
        "# 1. How does a computer work?"
      ]
    },
    {
      "cell_type": "markdown",
      "metadata": {
        "id": "rgDnpC-zc0kD"
      },
      "source": [
        "## A computer is a device that takes INPUTS, does some PROCESSES and results in OUTPUTS\n",
        "\n",
        "EXAMPLES OF INPUTS\n",
        "1.   Keyboard\n",
        "2.   Mouse\n",
        "3.   Touch screen\n",
        "\n",
        "PROCESSES\n",
        "1.   CPU - Central Processing Unit\n",
        "2.   Data storage\n",
        "3.   Converts inputs from words and numbers to 1s and 0s\n",
        "4.   Computes 1s and 0s\n",
        "5.   Produces outputs and information\n",
        "\n",
        "OUTPUTS\n",
        "1.   Screen - words, numbers, pictures or sounds\n",
        "2.   Printer\n",
        "3.   Speaker\n"
      ]
    },
    {
      "cell_type": "markdown",
      "metadata": {
        "id": "fX1ZV9H9RrPH"
      },
      "source": [
        "# 2. What is \"data\"?"
      ]
    },
    {
      "cell_type": "markdown",
      "metadata": {
        "id": "G0Mqvml-i8br"
      },
      "source": [
        "## A computer is a device that takes INPUTS, does some PROCESSES and results in OUTPUTS\n",
        "1. Computers use many on and off switches to work\n",
        "2. The 'on' switch is represented by a '1' and the 'off' switch is \n",
        "3. A BIT is a one or a zero, and a BYTE is a combination of 8 ones and zeros e.g., 1100 0010\n",
        "4. Combinations of Ones and Zeros in a computer, represent whole words and numbers, symbols and even pictures in the real world\n",
        "5. Information stored in ones and zeros, in bits and bytes, is data!\n",
        "\n",
        "*   The letter a =  0110 0001\n",
        "*   The letter b =  0110 0010\n",
        "*   The letter A =  0100 0001\n",
        "*   The letter B =  0100 0010\n",
        "*   The symbol @ =  1000 0000\n",
        "\n",
        "## This conversion is done with the ASCII Code, American Standard Code Information Interchange"
      ]
    },
    {
      "cell_type": "markdown",
      "metadata": {
        "id": "rBp4oY9Wq7E6"
      },
      "source": [
        "*Computer programming is the process of giving a computer instructions in human readable language so a computer will know what to do in computer language.*"
      ]
    },
    {
      "cell_type": "markdown",
      "metadata": {
        "id": "BV854zZSq7uD"
      },
      "source": [
        "# 3. An introduction to Python"
      ]
    },
    {
      "cell_type": "markdown",
      "metadata": {
        "id": "wuwMUpcaRrPI"
      },
      "source": [
        "### Let's get to know Python. The following code is an example of a Python Progam. Run the code by clicking on the 'play' button and you will see the result of your program beneath the code."
      ]
    },
    {
      "cell_type": "code",
      "metadata": {
        "id": "QPQqVqfc7Dgh"
      },
      "source": [
        "## Your first computer progam can be to say hello!\n",
        "print (\"Hello, World\")"
      ],
      "execution_count": null,
      "outputs": []
    },
    {
      "cell_type": "code",
      "metadata": {
        "id": "bKlEEgg6WK54"
      },
      "source": [
        "# We will need to learn some syntax! Syntax are the words used in a Python program\n",
        "# the '#' sign tells Python to ignore a line. We use it for notes that we want humans to read\n",
        "# print() is a function built into the core of Python\n",
        "# For more sophisticed operations we'll load libraries which come with additional functions that we can use\n",
        "# Famous ones are numpy, pandas, matplotlib, seaborn, and scikitlearn\n",
        "\n",
        "# Now, let's write some programs!\n",
        "\n",
        "# Edit the line below to add your first name between the \"\"\n",
        "## Here we assign the letters between \"\" to an object called \"my_name\" - it is now stored and you can call it later\n",
        "## Like saving a number in your phone versus just typing it in and calling it"
      ],
      "execution_count": null,
      "outputs": []
    },
    {
      "cell_type": "code",
      "metadata": {
        "id": "KU8zthjZVw_Y"
      },
      "source": [
        "my_name = \"\"\n"
      ],
      "execution_count": null,
      "outputs": []
    },
    {
      "cell_type": "code",
      "metadata": {
        "id": "sznsz2IOG0Rq"
      },
      "source": [
        "# Let's see what we've created\n",
        "my_name"
      ],
      "execution_count": null,
      "outputs": []
    },
    {
      "cell_type": "code",
      "metadata": {
        "id": "Wfz3g7YEWXVF"
      },
      "source": [
        "greeting = \"Hello, world, my name is \"\n"
      ],
      "execution_count": null,
      "outputs": []
    },
    {
      "cell_type": "code",
      "metadata": {
        "id": "6b1B6DabG8sM"
      },
      "source": [
        "# Let's look at it\n",
        "greeting"
      ],
      "execution_count": null,
      "outputs": []
    },
    {
      "cell_type": "code",
      "metadata": {
        "id": "8peOBfPcQHcC"
      },
      "source": [
        "# The = sign is what we call an 'assignment operator' and it assigns things"
      ],
      "execution_count": null,
      "outputs": []
    },
    {
      "cell_type": "code",
      "metadata": {
        "id": "LCtaNzYZHCk6"
      },
      "source": [
        "# See how we use the '+' sign"
      ],
      "execution_count": null,
      "outputs": []
    },
    {
      "cell_type": "code",
      "metadata": {
        "id": "XQJN0NE7Wb-D"
      },
      "source": [
        " print(greeting + my_name)"
      ],
      "execution_count": null,
      "outputs": []
    },
    {
      "cell_type": "code",
      "metadata": {
        "id": "RmGUX6D1VbvF"
      },
      "source": [
        "# Asking for input, using simple function and printing it\n",
        "\n",
        "def say_hello():\n",
        "    username = input(\"What is your name?\\n\")\n",
        "    print(\"Hello \" + username)\n"
      ],
      "execution_count": null,
      "outputs": []
    },
    {
      "cell_type": "code",
      "metadata": {
        "id": "WCq6v4b2VbvM"
      },
      "source": [
        "# Lets call the function\n",
        "say_hello()"
      ],
      "execution_count": null,
      "outputs": []
    },
    {
      "cell_type": "code",
      "metadata": {
        "id": "lDR6aan9VbvP"
      },
      "source": [
        "# Creating an 'If else' conditional block inside the function. Here we are validating the response entered.\n",
        "# If the person simply hits \"Enter\" without entering any value in the field, \n",
        "# then the if statement prints \"You can't introduce yourself if you don't add your name!\"\n",
        "# the == operator is used to test if something is equal to something else\n",
        "\n",
        "def say_hello():\n",
        "    username = input(\"What is your name?\\n\")\n",
        "    if username == \"\":\n",
        "        print(\"You can't introduce yourself if you don't add your name!\")\n",
        "    else:\n",
        "        print(\"Hello \" + username)\n"
      ],
      "execution_count": null,
      "outputs": []
    },
    {
      "cell_type": "code",
      "metadata": {
        "id": "guO6lULEVbvS"
      },
      "source": [
        "# While calling the function, try leaving the field blank\n",
        "say_hello()"
      ],
      "execution_count": null,
      "outputs": []
    },
    {
      "cell_type": "code",
      "metadata": {
        "id": "lq2MtzU9VbvW"
      },
      "source": [
        "# Dealing with a blank\n",
        "def say_hello(name):\n",
        "    if name == \"\":\n",
        "        print(\"You can't introduce yourself if you don't add your name!\")\n",
        "    else:\n",
        "        print(greeting + name)\n",
        "        \n",
        "\n"
      ],
      "execution_count": null,
      "outputs": []
    },
    {
      "cell_type": "code",
      "metadata": {
        "id": "Liw4xiPsHmFE"
      },
      "source": [
        "# Click the \"play\" button to execute this code.\n",
        "say_hello(my_name)"
      ],
      "execution_count": null,
      "outputs": []
    },
    {
      "cell_type": "code",
      "metadata": {
        "id": "2bvulRaeVbvd"
      },
      "source": [
        "# In programming there are often many ways to do things, for example\n",
        "print(\"Hello world, my name is \" + my_name + \".\")"
      ],
      "execution_count": null,
      "outputs": []
    },
    {
      "cell_type": "markdown",
      "metadata": {
        "id": "NlQc3djmHtON"
      },
      "source": [
        "# **We can do simple calculations in Python**"
      ]
    },
    {
      "cell_type": "code",
      "metadata": {
        "id": "kHbMT3qKHs3y"
      },
      "source": [
        "5 + 5"
      ],
      "execution_count": null,
      "outputs": []
    },
    {
      "cell_type": "code",
      "metadata": {
        "id": "HI10TIAqVbvg"
      },
      "source": [
        "# Some actions already programmed in:\n",
        "\n",
        "x = 5\n",
        "print(x + 7)"
      ],
      "execution_count": null,
      "outputs": []
    },
    {
      "cell_type": "code",
      "metadata": {
        "id": "nHuB53KzVbvj"
      },
      "source": [
        "# What happens when we say \"X=5\"\n",
        "\n",
        "# x 'points' at the number 5\n",
        "x = 5\n",
        "print(\"Initial x is:\", x)\n",
        "\n",
        "# y now 'points' at 'x' which 'points' at 5, so then y points at 5\n",
        "y = x\n",
        "print(\"Initial y is:\", y)\n",
        "\n",
        "x = 6\n",
        "# What happens when we now change what x is?\n",
        "\n",
        "print(\"Current x is:\", x)\n",
        "print(\"Current y is:\", y)\n",
        "\n"
      ],
      "execution_count": null,
      "outputs": []
    },
    {
      "cell_type": "markdown",
      "metadata": {
        "id": "s30MxcCeGPH5"
      },
      "source": [
        "------------------------------------------------------------------------"
      ]
    },
    {
      "cell_type": "markdown",
      "metadata": {
        "id": "GnUICGCW7vtw"
      },
      "source": [
        "**We can do complex calculations in Python** - Remember we said Netflix users stream 404,444 hours of movies every minute? Let's calculate how many days that is!"
      ]
    },
    {
      "cell_type": "code",
      "metadata": {
        "id": "_xSyRXHH7s53"
      },
      "source": [
        "## In Python we create objects \n",
        "## Converting from 404444 hours to days, we divide by___________?\n",
        "\n",
        "days_watching_netflix = 404444/24"
      ],
      "execution_count": null,
      "outputs": []
    },
    {
      "cell_type": "code",
      "metadata": {
        "id": "a-zT2Z8a8urK"
      },
      "source": [
        "# Let's look at what's in this new object we've just created!\n",
        "days_watching_netflix"
      ],
      "execution_count": null,
      "outputs": []
    },
    {
      "cell_type": "code",
      "metadata": {
        "id": "SvLdP05g7tBd"
      },
      "source": [
        "## From days to years, we divide by 365\n",
        "years_watching_netflix = days_watching_netflix/365"
      ],
      "execution_count": null,
      "outputs": []
    },
    {
      "cell_type": "code",
      "metadata": {
        "id": "X_2eUFRT7ske"
      },
      "source": [
        "## Let's look at what's in this new object we've just created!\n",
        "years_watching_netflix"
      ],
      "execution_count": null,
      "outputs": []
    },
    {
      "cell_type": "markdown",
      "metadata": {
        "id": "VheMannb89R0"
      },
      "source": [
        "In **1 minute**, all around the world, we 46,17 years of Netflix movies are streamed!!"
      ]
    },
    {
      "cell_type": "markdown",
      "metadata": {
        "id": "SYhx4bflFNp5"
      },
      "source": [
        "How could we have done the survey in Python? We type 'input' to let Python know to wait for a user response. Once you type in the name, Python will remember it!"
      ]
    },
    {
      "cell_type": "code",
      "metadata": {
        "id": "D6sTsZwUFR3Z"
      },
      "source": [
        "response_1 = input(\"Response 1: What is your name?\")"
      ],
      "execution_count": null,
      "outputs": []
    },
    {
      "cell_type": "code",
      "metadata": {
        "id": "4lUBLevAFgx1"
      },
      "source": [
        "## We can now look at the response\n",
        "response_1"
      ],
      "execution_count": null,
      "outputs": []
    },
    {
      "cell_type": "code",
      "metadata": {
        "id": "TjBjUDJTF3vx"
      },
      "source": [
        "response_2 = input(\"Response 2: What is your name?\")\n",
        "response_3 = input(\"Response 3: What is your name?\")\n",
        "response_4 = input(\"Response 4: What is your name?\")\n",
        "response_5 = input(\"Response 5: What is your name?\")"
      ],
      "execution_count": null,
      "outputs": []
    },
    {
      "cell_type": "markdown",
      "metadata": {
        "id": "PDFAP2QmGUXM"
      },
      "source": [
        "Let's look at response_5"
      ]
    },
    {
      "cell_type": "code",
      "metadata": {
        "id": "V3CxWmIPIk0j"
      },
      "source": [
        "print(response_1, \n",
        "      response_2, \n",
        "      response_3, \n",
        "      response_4,\n",
        "      response_5)"
      ],
      "execution_count": null,
      "outputs": []
    },
    {
      "cell_type": "markdown",
      "metadata": {
        "id": "gy-L-KE49W4w"
      },
      "source": [
        "We can also add the names one at a time by typing them."
      ]
    },
    {
      "cell_type": "code",
      "metadata": {
        "id": "7IR-dmN1-4A0"
      },
      "source": [
        "## Let's create an object for the 5 names from question 1\n",
        "survey_names = [response_1, response_2, response_3, response_4, response_5]"
      ],
      "execution_count": null,
      "outputs": []
    },
    {
      "cell_type": "code",
      "metadata": {
        "id": "rPwARUGmAxLu"
      },
      "source": [
        "## Let's look at the object we've just created!\n",
        "survey_names"
      ],
      "execution_count": null,
      "outputs": []
    },
    {
      "cell_type": "code",
      "metadata": {
        "id": "Z0MeO3gqA410"
      },
      "source": [
        "print(survey_names)"
      ],
      "execution_count": null,
      "outputs": []
    },
    {
      "cell_type": "markdown",
      "metadata": {
        "id": "tTVCnybaV7V2"
      },
      "source": [
        "# Let's make a simple bar chart in Python"
      ]
    },
    {
      "cell_type": "code",
      "metadata": {
        "id": "8MpxcUXVV_tl"
      },
      "source": [
        "import matplotlib.pyplot as plt\n",
        "\n",
        "x = ['A', 'B', 'C', 'D', 'E']\n",
        "y = [22, 9, 40, 27, 55]\n",
        "\n",
        "plt.bar(x, y, color = 'red')\n",
        "\n",
        "plt.title('Simple Bar Chart')\n",
        "plt.xlabel('Width Names')\n",
        "plt.ylabel('Height Values')\n",
        "\n",
        "plt.show()"
      ],
      "execution_count": null,
      "outputs": []
    },
    {
      "cell_type": "code",
      "metadata": {
        "id": "y9wAxgkKW3uj"
      },
      "source": [
        "# Replot the same chart and change the color of the bars"
      ],
      "execution_count": null,
      "outputs": []
    },
    {
      "cell_type": "markdown",
      "metadata": {
        "id": "OldE5zdcRrP6"
      },
      "source": [
        "## Let's look at the survey responses to question 2 ('yes' or 'no' or 'maybe')"
      ]
    },
    {
      "cell_type": "code",
      "metadata": {
        "id": "9_4z2CeGRrRm"
      },
      "source": [
        "import numpy as np\n",
        "import pandas as pd\n",
        "from pandas import Series, DataFrame\n",
        "import matplotlib.pyplot as plt\n",
        "\n",
        "data = [3,2]\n",
        "labels = ['yes', 'no']\n",
        "plt.xticks(range(len(data)), labels)\n",
        "plt.xlabel('Responses')\n",
        "plt.ylabel('Number of People')\n",
        "plt.title('Shingai - Woodgreen Data Science & Python Program: Survey Results for Questions 2: \"Do you know how a computer works?\"')\n",
        "plt.bar(range(len(data)), data, color = 'blue') \n",
        "plt.show()\n"
      ],
      "execution_count": null,
      "outputs": []
    },
    {
      "cell_type": "markdown",
      "metadata": {
        "id": "q8iTpX7_AaJl"
      },
      "source": [
        "# Practice what you have learned\n"
      ]
    },
    {
      "cell_type": "markdown",
      "metadata": {
        "id": "PHZO8QQjGrVz"
      },
      "source": [
        "## Practice\n",
        "* Enter the results for Question 2 of your survey data and produce a chart\n",
        "* Add your name to your chart heading\n",
        "* Change the labels and headings of your charts"
      ]
    },
    {
      "cell_type": "markdown",
      "metadata": {
        "id": "ozJX_TD9D7mU"
      },
      "source": [
        "#Conclusion\n",
        "\n",
        "1.   Computer programming is a set of instructions we give a computer. \n",
        "2.   Computers must process the instructions in 'binary', in ones and zeros.\n",
        "3.   Anything 'digital' is data.\n",
        "\n",
        "\n",
        "\n",
        "\n",
        "\n"
      ]
    },
    {
      "cell_type": "markdown",
      "metadata": {
        "id": "sipRcJ84f_bZ"
      },
      "source": [
        "# Contact Information"
      ]
    },
    {
      "cell_type": "markdown",
      "metadata": {
        "id": "w3tU4uFDbQ3y"
      },
      "source": [
        "Congratulations, you have completed a tutorial in the Python Programming language!\n",
        "\n",
        "\n",
        "\n",
        "Fireside Analytics Inc. | \n",
        "Instructor: Shingai Manjengwa (Twitter: @tjido) |\n",
        "Woodgreen Community Services Summer Camp |\n",
        "Contact: info@firesideanalytics.com or [www.firesideanalytics.com](www.firesideanalytics.com)\n",
        "\n",
        "Never stop learning!\n",
        "\n"
      ]
    }
  ]
}